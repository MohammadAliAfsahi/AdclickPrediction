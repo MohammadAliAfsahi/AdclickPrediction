{
  "nbformat": 4,
  "nbformat_minor": 0,
  "metadata": {
    "colab": {
      "name": "DataDays.ipynb",
      "provenance": [],
      "collapsed_sections": [],
      "machine_shape": "hm",
      "mount_file_id": "1fZCUeCmmjzKOYNInC1tq02Th78ITW0pF",
      "authorship_tag": "ABX9TyNVwV1QxbljFw0Asl9fm6Uu",
      "include_colab_link": true
    },
    "kernelspec": {
      "name": "python3",
      "display_name": "Python 3"
    },
    "accelerator": "TPU"
  },
  "cells": [
    {
      "cell_type": "markdown",
      "metadata": {
        "id": "view-in-github",
        "colab_type": "text"
      },
      "source": [
        "<a href=\"https://colab.research.google.com/github/MohammadAliAfsahi/AdclickPrediction/blob/master/DataDays.ipynb\" target=\"_parent\"><img src=\"https://colab.research.google.com/assets/colab-badge.svg\" alt=\"Open In Colab\"/></a>"
      ]
    },
    {
      "cell_type": "code",
      "metadata": {
        "id": "meVMudJcLBvi",
        "colab_type": "code",
        "outputId": "c092c6c6-f477-481e-f4e7-633267b58a43",
        "colab": {
          "base_uri": "https://localhost:8080/",
          "height": 35
        }
      },
      "source": [
        "from google.colab import drive\n",
        "drive.mount('/content/drive')"
      ],
      "execution_count": 0,
      "outputs": [
        {
          "output_type": "stream",
          "text": [
            "Drive already mounted at /content/drive; to attempt to forcibly remount, call drive.mount(\"/content/drive\", force_remount=True).\n"
          ],
          "name": "stdout"
        }
      ]
    },
    {
      "cell_type": "code",
      "metadata": {
        "id": "dynuQ7D8Ld_n",
        "colab_type": "code",
        "outputId": "b35d006c-1293-4451-eb1c-60953ae7f935",
        "colab": {
          "base_uri": "https://localhost:8080/",
          "height": 72
        }
      },
      "source": [
        "!ls '/content/drive/My Drive/datadays2020_contest_public_dataset'"
      ],
      "execution_count": 0,
      "outputs": [
        {
          "output_type": "stream",
          "text": [
            "ad.csv\t      click_test.csv   page.csv\n",
            "ad_image.csv  click_train.csv  page_topic.csv\n",
            "ad_title.csv  event.csv        user_page_view.csv\n"
          ],
          "name": "stdout"
        }
      ]
    },
    {
      "cell_type": "code",
      "metadata": {
        "id": "NVeM7dhDgprw",
        "colab_type": "code",
        "colab": {}
      },
      "source": [
        "import numpy as np\n",
        "import ast\n",
        "import pandas as pd\n",
        "from datetime import datetime\n",
        "import pytz\n",
        "import time\n",
        "\n",
        "import matplotlib.pyplot as plt\n",
        "from sklearn import preprocessing\n",
        "from sklearn.utils import shuffle\n",
        "from sklearn import cluster"
      ],
      "execution_count": 0,
      "outputs": []
    },
    {
      "cell_type": "code",
      "metadata": {
        "id": "8FJBsOVttDIX",
        "colab_type": "code",
        "colab": {}
      },
      "source": [
        "RANDOM_STATE = 42"
      ],
      "execution_count": 0,
      "outputs": []
    },
    {
      "cell_type": "code",
      "metadata": {
        "id": "_2FZ88ASL6Mq",
        "colab_type": "code",
        "colab": {}
      },
      "source": [
        "path = '/content/drive/My Drive/datadays2020_contest_public_dataset/'\n",
        "\n",
        "advertisements = pd.read_csv(path + 'ad.csv')\n",
        "advertisements_images = pd.read_csv(path + 'ad_image.csv')\n",
        "advertisements_titles = pd.read_csv(path + 'ad_title.csv')\n",
        "clicked_train = pd.read_csv(path + 'click_train.csv')\n",
        "event = pd.read_csv(path + 'event.csv')\n",
        "page = pd.read_csv(path + 'page.csv')\n",
        "page_topic = pd.read_csv(path + 'page_topic.csv')\n",
        "user_views = pd.read_csv(path + 'user_page_view.csv')\n",
        " \n",
        "click_test = pd.read_csv(path + 'click_test.csv')"
      ],
      "execution_count": 0,
      "outputs": []
    },
    {
      "cell_type": "code",
      "metadata": {
        "id": "0v6j-WluPZIb",
        "colab_type": "code",
        "outputId": "5b6f00ff-2fb9-4128-e789-853a38d8e7a5",
        "colab": {
          "base_uri": "https://localhost:8080/",
          "height": 206
        }
      },
      "source": [
        "advertisements.head()"
      ],
      "execution_count": 0,
      "outputs": [
        {
          "output_type": "execute_result",
          "data": {
            "text/html": [
              "<div>\n",
              "<style scoped>\n",
              "    .dataframe tbody tr th:only-of-type {\n",
              "        vertical-align: middle;\n",
              "    }\n",
              "\n",
              "    .dataframe tbody tr th {\n",
              "        vertical-align: top;\n",
              "    }\n",
              "\n",
              "    .dataframe thead th {\n",
              "        text-align: right;\n",
              "    }\n",
              "</style>\n",
              "<table border=\"1\" class=\"dataframe\">\n",
              "  <thead>\n",
              "    <tr style=\"text-align: right;\">\n",
              "      <th></th>\n",
              "      <th>adId</th>\n",
              "      <th>campaignId</th>\n",
              "      <th>advertiserId</th>\n",
              "    </tr>\n",
              "  </thead>\n",
              "  <tbody>\n",
              "    <tr>\n",
              "      <th>0</th>\n",
              "      <td>7867</td>\n",
              "      <td>5918</td>\n",
              "      <td>8414</td>\n",
              "    </tr>\n",
              "    <tr>\n",
              "      <th>1</th>\n",
              "      <td>7866</td>\n",
              "      <td>5918</td>\n",
              "      <td>8414</td>\n",
              "    </tr>\n",
              "    <tr>\n",
              "      <th>2</th>\n",
              "      <td>7865</td>\n",
              "      <td>5918</td>\n",
              "      <td>8414</td>\n",
              "    </tr>\n",
              "    <tr>\n",
              "      <th>3</th>\n",
              "      <td>7863</td>\n",
              "      <td>8343</td>\n",
              "      <td>8414</td>\n",
              "    </tr>\n",
              "    <tr>\n",
              "      <th>4</th>\n",
              "      <td>7862</td>\n",
              "      <td>8343</td>\n",
              "      <td>8414</td>\n",
              "    </tr>\n",
              "  </tbody>\n",
              "</table>\n",
              "</div>"
            ],
            "text/plain": [
              "   adId  campaignId  advertiserId\n",
              "0  7867        5918          8414\n",
              "1  7866        5918          8414\n",
              "2  7865        5918          8414\n",
              "3  7863        8343          8414\n",
              "4  7862        8343          8414"
            ]
          },
          "metadata": {
            "tags": []
          },
          "execution_count": 35
        }
      ]
    },
    {
      "cell_type": "code",
      "metadata": {
        "id": "-oxBrYqCrd11",
        "colab_type": "code",
        "outputId": "6df3d8e9-914f-42da-868d-e3c68a2348db",
        "colab": {
          "base_uri": "https://localhost:8080/",
          "height": 35
        }
      },
      "source": [
        "print(\"min campaignId : \", min(advertisements['campaignId']), \", max campaingId : \", max(advertisements['campaignId']))"
      ],
      "execution_count": 0,
      "outputs": [
        {
          "output_type": "stream",
          "text": [
            "min campaignId :  30 , max campaingId :  9523\n"
          ],
          "name": "stdout"
        }
      ]
    },
    {
      "cell_type": "code",
      "metadata": {
        "id": "5Ze1Bjd59hU_",
        "colab_type": "code",
        "outputId": "50e98bdb-2f22-43c6-e5aa-a0011209936f",
        "colab": {
          "base_uri": "https://localhost:8080/",
          "height": 90
        }
      },
      "source": [
        "advertisements.isna().sum()"
      ],
      "execution_count": 0,
      "outputs": [
        {
          "output_type": "execute_result",
          "data": {
            "text/plain": [
              "adId            0\n",
              "campaignId      0\n",
              "advertiserId    0\n",
              "dtype: int64"
            ]
          },
          "metadata": {
            "tags": []
          },
          "execution_count": 4
        }
      ]
    },
    {
      "cell_type": "code",
      "metadata": {
        "id": "-podg_fae4ie",
        "colab_type": "code",
        "outputId": "d4f635fd-b467-4fae-b0b8-555bebfbc4e6",
        "colab": {
          "base_uri": "https://localhost:8080/",
          "height": 72
        }
      },
      "source": [
        "print(\"# of unique advertisements : \", advertisements.loc[:, 'adId'].nunique())\n",
        "print(\"# of unique campaigns : \", advertisements.loc[:, 'campaignId'].nunique())\n",
        "print(\"# of unique advertisers : \", advertisements.loc[:, 'advertiserId'].nunique())"
      ],
      "execution_count": 0,
      "outputs": [
        {
          "output_type": "stream",
          "text": [
            "# of unique advertisements :  3256\n",
            "# of unique campaigns :  528\n",
            "# of unique advertisers :  213\n"
          ],
          "name": "stdout"
        }
      ]
    },
    {
      "cell_type": "code",
      "metadata": {
        "id": "KSjgUDROjbd4",
        "colab_type": "code",
        "outputId": "36135c74-81bd-4286-9efa-a49346c8100d",
        "colab": {
          "base_uri": "https://localhost:8080/",
          "height": 201
        }
      },
      "source": [
        "advertisements.info()"
      ],
      "execution_count": 0,
      "outputs": [
        {
          "output_type": "stream",
          "text": [
            "<class 'pandas.core.frame.DataFrame'>\n",
            "RangeIndex: 3256 entries, 0 to 3255\n",
            "Data columns (total 3 columns):\n",
            " #   Column        Non-Null Count  Dtype\n",
            "---  ------        --------------  -----\n",
            " 0   adId          3256 non-null   int64\n",
            " 1   campaignId    3256 non-null   int64\n",
            " 2   advertiserId  3256 non-null   int64\n",
            "dtypes: int64(3)\n",
            "memory usage: 76.4 KB\n"
          ],
          "name": "stdout"
        }
      ]
    },
    {
      "cell_type": "code",
      "metadata": {
        "id": "UtvD4AOMPY-W",
        "colab_type": "code",
        "outputId": "47513b66-4bbf-43aa-b4c0-9d70f97eb865",
        "colab": {
          "base_uri": "https://localhost:8080/",
          "height": 206
        }
      },
      "source": [
        "advertisements_images.head()"
      ],
      "execution_count": 0,
      "outputs": [
        {
          "output_type": "execute_result",
          "data": {
            "text/html": [
              "<div>\n",
              "<style scoped>\n",
              "    .dataframe tbody tr th:only-of-type {\n",
              "        vertical-align: middle;\n",
              "    }\n",
              "\n",
              "    .dataframe tbody tr th {\n",
              "        vertical-align: top;\n",
              "    }\n",
              "\n",
              "    .dataframe thead th {\n",
              "        text-align: right;\n",
              "    }\n",
              "</style>\n",
              "<table border=\"1\" class=\"dataframe\">\n",
              "  <thead>\n",
              "    <tr style=\"text-align: right;\">\n",
              "      <th></th>\n",
              "      <th>adId</th>\n",
              "      <th>imageFeatures</th>\n",
              "    </tr>\n",
              "  </thead>\n",
              "  <tbody>\n",
              "    <tr>\n",
              "      <th>0</th>\n",
              "      <td>7867</td>\n",
              "      <td>[0.0524589940905571, 0.0, 0.04262353479862213,...</td>\n",
              "    </tr>\n",
              "    <tr>\n",
              "      <th>1</th>\n",
              "      <td>7866</td>\n",
              "      <td>[0.0032160670962184668, 0.1444239318370819, 0....</td>\n",
              "    </tr>\n",
              "    <tr>\n",
              "      <th>2</th>\n",
              "      <td>7865</td>\n",
              "      <td>[0.027210379019379616, 0.0, 0.5133526921272278...</td>\n",
              "    </tr>\n",
              "    <tr>\n",
              "      <th>3</th>\n",
              "      <td>7863</td>\n",
              "      <td>[0.0013980235671624541, 0.0, 0.0, 0.0455568209...</td>\n",
              "    </tr>\n",
              "    <tr>\n",
              "      <th>4</th>\n",
              "      <td>7862</td>\n",
              "      <td>[0.02426762878894806, 0.026081759482622147, 0....</td>\n",
              "    </tr>\n",
              "  </tbody>\n",
              "</table>\n",
              "</div>"
            ],
            "text/plain": [
              "   adId                                      imageFeatures\n",
              "0  7867  [0.0524589940905571, 0.0, 0.04262353479862213,...\n",
              "1  7866  [0.0032160670962184668, 0.1444239318370819, 0....\n",
              "2  7865  [0.027210379019379616, 0.0, 0.5133526921272278...\n",
              "3  7863  [0.0013980235671624541, 0.0, 0.0, 0.0455568209...\n",
              "4  7862  [0.02426762878894806, 0.026081759482622147, 0...."
            ]
          },
          "metadata": {
            "tags": []
          },
          "execution_count": 73
        }
      ]
    },
    {
      "cell_type": "code",
      "metadata": {
        "id": "S5gPrlV6U9Ef",
        "colab_type": "code",
        "outputId": "a9241ef9-56e2-4168-e837-4318eabedfa9",
        "colab": {
          "base_uri": "https://localhost:8080/",
          "height": 54
        }
      },
      "source": [
        "print(\"# of unique advertisements_images : \", advertisements_images.loc[:, 'imageFeatures'].nunique())\n",
        "print(\"# of unique advertisements : \", advertisements_images.loc[:, 'adId'].nunique())"
      ],
      "execution_count": 0,
      "outputs": [
        {
          "output_type": "stream",
          "text": [
            "# of unique advertisements_images :  2692\n",
            "# of unique advertisements :  3256\n"
          ],
          "name": "stdout"
        }
      ]
    },
    {
      "cell_type": "code",
      "metadata": {
        "id": "cUpmP3ap9mzw",
        "colab_type": "code",
        "outputId": "2b92ab0e-390f-4b7a-b999-4ac4a3913175",
        "colab": {
          "base_uri": "https://localhost:8080/",
          "height": 72
        }
      },
      "source": [
        "advertisements_images.isna().sum()"
      ],
      "execution_count": 0,
      "outputs": [
        {
          "output_type": "execute_result",
          "data": {
            "text/plain": [
              "adId             0\n",
              "imageFeatures    0\n",
              "dtype: int64"
            ]
          },
          "metadata": {
            "tags": []
          },
          "execution_count": 74
        }
      ]
    },
    {
      "cell_type": "code",
      "metadata": {
        "id": "5hk3zIHs5cua",
        "colab_type": "code",
        "colab": {}
      },
      "source": [
        "advertisements_images['image'] = advertisements_images.apply(lambda x: ast.literal_eval(x['imageFeatures']), axis=1)\n",
        "advertisements_images['imageFeatures'] = advertisements_images['image']\n",
        "advertisements_images.drop('image', axis=1, inplace=True)"
      ],
      "execution_count": 0,
      "outputs": []
    },
    {
      "cell_type": "code",
      "metadata": {
        "id": "kgArd0nJADfN",
        "colab_type": "code",
        "outputId": "53fa9ec5-ecc4-41e4-98a4-840dc860f57e",
        "colab": {
          "base_uri": "https://localhost:8080/",
          "height": 182
        }
      },
      "source": [
        "advertisements_images.info()"
      ],
      "execution_count": 0,
      "outputs": [
        {
          "output_type": "stream",
          "text": [
            "<class 'pandas.core.frame.DataFrame'>\n",
            "RangeIndex: 3256 entries, 0 to 3255\n",
            "Data columns (total 2 columns):\n",
            " #   Column         Non-Null Count  Dtype \n",
            "---  ------         --------------  ----- \n",
            " 0   adId           3256 non-null   int64 \n",
            " 1   imageFeatures  3256 non-null   object\n",
            "dtypes: int64(1), object(1)\n",
            "memory usage: 51.0+ KB\n"
          ],
          "name": "stdout"
        }
      ]
    },
    {
      "cell_type": "code",
      "metadata": {
        "id": "1eMrxLt_UypJ",
        "colab_type": "code",
        "colab": {}
      },
      "source": [
        "advertisements_images = pd.DataFrame(advertisements_images['imageFeatures'].tolist(), index=advertisements_images.adId)\n",
        "advertisements_images.reset_index(level=0, inplace=True)"
      ],
      "execution_count": 0,
      "outputs": []
    },
    {
      "cell_type": "code",
      "metadata": {
        "id": "iGqH1pO8P17-",
        "colab_type": "code",
        "outputId": "b275e917-97f3-4f2b-e341-93205724c8a7",
        "colab": {
          "base_uri": "https://localhost:8080/",
          "height": 206
        }
      },
      "source": [
        "advertisements_titles.head()"
      ],
      "execution_count": 0,
      "outputs": [
        {
          "output_type": "execute_result",
          "data": {
            "text/html": [
              "<div>\n",
              "<style scoped>\n",
              "    .dataframe tbody tr th:only-of-type {\n",
              "        vertical-align: middle;\n",
              "    }\n",
              "\n",
              "    .dataframe tbody tr th {\n",
              "        vertical-align: top;\n",
              "    }\n",
              "\n",
              "    .dataframe thead th {\n",
              "        text-align: right;\n",
              "    }\n",
              "</style>\n",
              "<table border=\"1\" class=\"dataframe\">\n",
              "  <thead>\n",
              "    <tr style=\"text-align: right;\">\n",
              "      <th></th>\n",
              "      <th>adId</th>\n",
              "      <th>wordId</th>\n",
              "    </tr>\n",
              "  </thead>\n",
              "  <tbody>\n",
              "    <tr>\n",
              "      <th>0</th>\n",
              "      <td>6</td>\n",
              "      <td>24</td>\n",
              "    </tr>\n",
              "    <tr>\n",
              "      <th>1</th>\n",
              "      <td>6</td>\n",
              "      <td>25</td>\n",
              "    </tr>\n",
              "    <tr>\n",
              "      <th>2</th>\n",
              "      <td>6</td>\n",
              "      <td>26</td>\n",
              "    </tr>\n",
              "    <tr>\n",
              "      <th>3</th>\n",
              "      <td>6</td>\n",
              "      <td>27</td>\n",
              "    </tr>\n",
              "    <tr>\n",
              "      <th>4</th>\n",
              "      <td>6</td>\n",
              "      <td>28</td>\n",
              "    </tr>\n",
              "  </tbody>\n",
              "</table>\n",
              "</div>"
            ],
            "text/plain": [
              "   adId  wordId\n",
              "0     6      24\n",
              "1     6      25\n",
              "2     6      26\n",
              "3     6      27\n",
              "4     6      28"
            ]
          },
          "metadata": {
            "tags": []
          },
          "execution_count": 11
        }
      ]
    },
    {
      "cell_type": "code",
      "metadata": {
        "id": "TYJj8rQ5TvTL",
        "colab_type": "code",
        "outputId": "75ce28cf-d89c-4508-9891-e8513d4f88b4",
        "colab": {
          "base_uri": "https://localhost:8080/",
          "height": 35
        }
      },
      "source": [
        "print('min wordId : ', min(advertisements_titles['wordId']), ', max wordId : ', max(advertisements_titles['wordId']))"
      ],
      "execution_count": 0,
      "outputs": [
        {
          "output_type": "stream",
          "text": [
            "min wordId :  0 , max wordId :  2683\n"
          ],
          "name": "stdout"
        }
      ]
    },
    {
      "cell_type": "code",
      "metadata": {
        "id": "T8naPWDMAHf9",
        "colab_type": "code",
        "outputId": "f5eab20a-6ce0-4a62-ecbd-1e62348b2797",
        "colab": {
          "base_uri": "https://localhost:8080/",
          "height": 182
        }
      },
      "source": [
        "advertisements_titles.info()"
      ],
      "execution_count": 0,
      "outputs": [
        {
          "output_type": "stream",
          "text": [
            "<class 'pandas.core.frame.DataFrame'>\n",
            "RangeIndex: 18122 entries, 0 to 18121\n",
            "Data columns (total 2 columns):\n",
            " #   Column  Non-Null Count  Dtype\n",
            "---  ------  --------------  -----\n",
            " 0   adId    18122 non-null  int64\n",
            " 1   wordId  18122 non-null  int64\n",
            "dtypes: int64(2)\n",
            "memory usage: 283.3 KB\n"
          ],
          "name": "stdout"
        }
      ]
    },
    {
      "cell_type": "code",
      "metadata": {
        "id": "1Y0LQG1absL6",
        "colab_type": "code",
        "outputId": "658189a1-6186-4f96-e08e-54abbc89ba76",
        "colab": {
          "base_uri": "https://localhost:8080/",
          "height": 35
        }
      },
      "source": [
        "print(\"# of unique words in advertisements_titles : \", advertisements_titles['wordId'].nunique())"
      ],
      "execution_count": 0,
      "outputs": [
        {
          "output_type": "stream",
          "text": [
            "# of unique words in advertisements_titles :  2108\n"
          ],
          "name": "stdout"
        }
      ]
    },
    {
      "cell_type": "code",
      "metadata": {
        "id": "fioECT7o9qpl",
        "colab_type": "code",
        "outputId": "dc62d34d-dd55-4586-ea5e-dc5d765e71ec",
        "colab": {
          "base_uri": "https://localhost:8080/",
          "height": 72
        }
      },
      "source": [
        "advertisements_titles.isna().sum()"
      ],
      "execution_count": 0,
      "outputs": [
        {
          "output_type": "execute_result",
          "data": {
            "text/plain": [
              "adId      0\n",
              "wordId    0\n",
              "dtype: int64"
            ]
          },
          "metadata": {
            "tags": []
          },
          "execution_count": 24
        }
      ]
    },
    {
      "cell_type": "code",
      "metadata": {
        "id": "vjcawddo9YDO",
        "colab_type": "code",
        "colab": {}
      },
      "source": [
        "ad = pd.merge(advertisements, advertisements_titles, on='adId')\n",
        "ad = pd.merge(ad, advertisements_images, on='adId')\n",
        "ad.drop('adId', axis=1, inplace=True)"
      ],
      "execution_count": 0,
      "outputs": []
    },
    {
      "cell_type": "code",
      "metadata": {
        "id": "eutogQKGWXlD",
        "colab_type": "code",
        "colab": {}
      },
      "source": [
        "ad.iloc[:, 3:] = ad.astype(np.float32)\n",
        "ad.iloc[:, :3] = ad.astype(np.int16)"
      ],
      "execution_count": 0,
      "outputs": []
    },
    {
      "cell_type": "code",
      "metadata": {
        "id": "YCBNhfW29k41",
        "colab_type": "code",
        "outputId": "af5095e6-e736-4e33-be15-70cf06be30af",
        "colab": {
          "base_uri": "https://localhost:8080/",
          "height": 109
        }
      },
      "source": [
        "ad.info()"
      ],
      "execution_count": 0,
      "outputs": [
        {
          "output_type": "stream",
          "text": [
            "<class 'pandas.core.frame.DataFrame'>\n",
            "Int64Index: 18122 entries, 0 to 18121\n",
            "Columns: 515 entries, campaignId to 511\n",
            "dtypes: float32(512), int16(3)\n",
            "memory usage: 35.6 MB\n"
          ],
          "name": "stdout"
        }
      ]
    },
    {
      "cell_type": "code",
      "metadata": {
        "id": "QsIKzSOfXcDd",
        "colab_type": "code",
        "outputId": "ef7b01a2-07b6-4ad6-f9b1-411261f13eb7",
        "colab": {
          "base_uri": "https://localhost:8080/",
          "height": 256
        }
      },
      "source": [
        "ad.head()"
      ],
      "execution_count": 0,
      "outputs": [
        {
          "output_type": "execute_result",
          "data": {
            "text/html": [
              "<div>\n",
              "<style scoped>\n",
              "    .dataframe tbody tr th:only-of-type {\n",
              "        vertical-align: middle;\n",
              "    }\n",
              "\n",
              "    .dataframe tbody tr th {\n",
              "        vertical-align: top;\n",
              "    }\n",
              "\n",
              "    .dataframe thead th {\n",
              "        text-align: right;\n",
              "    }\n",
              "</style>\n",
              "<table border=\"1\" class=\"dataframe\">\n",
              "  <thead>\n",
              "    <tr style=\"text-align: right;\">\n",
              "      <th></th>\n",
              "      <th>campaignId</th>\n",
              "      <th>advertiserId</th>\n",
              "      <th>wordId</th>\n",
              "      <th>0</th>\n",
              "      <th>1</th>\n",
              "      <th>2</th>\n",
              "      <th>3</th>\n",
              "      <th>4</th>\n",
              "      <th>5</th>\n",
              "      <th>6</th>\n",
              "      <th>7</th>\n",
              "      <th>8</th>\n",
              "      <th>9</th>\n",
              "      <th>10</th>\n",
              "      <th>11</th>\n",
              "      <th>12</th>\n",
              "      <th>13</th>\n",
              "      <th>14</th>\n",
              "      <th>15</th>\n",
              "      <th>16</th>\n",
              "      <th>17</th>\n",
              "      <th>18</th>\n",
              "      <th>19</th>\n",
              "      <th>20</th>\n",
              "      <th>21</th>\n",
              "      <th>22</th>\n",
              "      <th>23</th>\n",
              "      <th>24</th>\n",
              "      <th>25</th>\n",
              "      <th>26</th>\n",
              "      <th>27</th>\n",
              "      <th>28</th>\n",
              "      <th>29</th>\n",
              "      <th>30</th>\n",
              "      <th>31</th>\n",
              "      <th>32</th>\n",
              "      <th>33</th>\n",
              "      <th>34</th>\n",
              "      <th>35</th>\n",
              "      <th>36</th>\n",
              "      <th>...</th>\n",
              "      <th>472</th>\n",
              "      <th>473</th>\n",
              "      <th>474</th>\n",
              "      <th>475</th>\n",
              "      <th>476</th>\n",
              "      <th>477</th>\n",
              "      <th>478</th>\n",
              "      <th>479</th>\n",
              "      <th>480</th>\n",
              "      <th>481</th>\n",
              "      <th>482</th>\n",
              "      <th>483</th>\n",
              "      <th>484</th>\n",
              "      <th>485</th>\n",
              "      <th>486</th>\n",
              "      <th>487</th>\n",
              "      <th>488</th>\n",
              "      <th>489</th>\n",
              "      <th>490</th>\n",
              "      <th>491</th>\n",
              "      <th>492</th>\n",
              "      <th>493</th>\n",
              "      <th>494</th>\n",
              "      <th>495</th>\n",
              "      <th>496</th>\n",
              "      <th>497</th>\n",
              "      <th>498</th>\n",
              "      <th>499</th>\n",
              "      <th>500</th>\n",
              "      <th>501</th>\n",
              "      <th>502</th>\n",
              "      <th>503</th>\n",
              "      <th>504</th>\n",
              "      <th>505</th>\n",
              "      <th>506</th>\n",
              "      <th>507</th>\n",
              "      <th>508</th>\n",
              "      <th>509</th>\n",
              "      <th>510</th>\n",
              "      <th>511</th>\n",
              "    </tr>\n",
              "  </thead>\n",
              "  <tbody>\n",
              "    <tr>\n",
              "      <th>0</th>\n",
              "      <td>5918</td>\n",
              "      <td>8414</td>\n",
              "      <td>11</td>\n",
              "      <td>0.052459</td>\n",
              "      <td>0.0</td>\n",
              "      <td>0.042624</td>\n",
              "      <td>0.333583</td>\n",
              "      <td>0.383563</td>\n",
              "      <td>0.001634</td>\n",
              "      <td>0.344869</td>\n",
              "      <td>0.525469</td>\n",
              "      <td>0.05376</td>\n",
              "      <td>0.079034</td>\n",
              "      <td>0.500915</td>\n",
              "      <td>0.677032</td>\n",
              "      <td>0.0</td>\n",
              "      <td>0.047452</td>\n",
              "      <td>0.113147</td>\n",
              "      <td>0.007646</td>\n",
              "      <td>0.0</td>\n",
              "      <td>0.150139</td>\n",
              "      <td>0.032419</td>\n",
              "      <td>0.004933</td>\n",
              "      <td>0.0</td>\n",
              "      <td>0.0</td>\n",
              "      <td>0.57306</td>\n",
              "      <td>0.019596</td>\n",
              "      <td>0.0</td>\n",
              "      <td>0.092233</td>\n",
              "      <td>0.025148</td>\n",
              "      <td>0.072606</td>\n",
              "      <td>0.0</td>\n",
              "      <td>0.537699</td>\n",
              "      <td>0.0</td>\n",
              "      <td>0.15406</td>\n",
              "      <td>0.955965</td>\n",
              "      <td>0.105462</td>\n",
              "      <td>0.00384</td>\n",
              "      <td>0.0</td>\n",
              "      <td>0.09895</td>\n",
              "      <td>...</td>\n",
              "      <td>0.0</td>\n",
              "      <td>0.0</td>\n",
              "      <td>1.014188</td>\n",
              "      <td>0.149694</td>\n",
              "      <td>0.106801</td>\n",
              "      <td>0.168865</td>\n",
              "      <td>0.019656</td>\n",
              "      <td>0.081902</td>\n",
              "      <td>0.339181</td>\n",
              "      <td>0.134276</td>\n",
              "      <td>0.016473</td>\n",
              "      <td>0.193523</td>\n",
              "      <td>0.409411</td>\n",
              "      <td>0.127201</td>\n",
              "      <td>0.406103</td>\n",
              "      <td>0.0</td>\n",
              "      <td>0.0</td>\n",
              "      <td>0.007431</td>\n",
              "      <td>0.295453</td>\n",
              "      <td>0.348585</td>\n",
              "      <td>0.1128</td>\n",
              "      <td>0.0</td>\n",
              "      <td>0.281564</td>\n",
              "      <td>0.044966</td>\n",
              "      <td>0.145961</td>\n",
              "      <td>0.0</td>\n",
              "      <td>0.144654</td>\n",
              "      <td>0.090878</td>\n",
              "      <td>0.076503</td>\n",
              "      <td>0.223643</td>\n",
              "      <td>0.233728</td>\n",
              "      <td>0.53948</td>\n",
              "      <td>0.152508</td>\n",
              "      <td>0.344518</td>\n",
              "      <td>0.778731</td>\n",
              "      <td>0.078295</td>\n",
              "      <td>0.160162</td>\n",
              "      <td>0.0</td>\n",
              "      <td>0.305145</td>\n",
              "      <td>0.018119</td>\n",
              "    </tr>\n",
              "    <tr>\n",
              "      <th>1</th>\n",
              "      <td>5918</td>\n",
              "      <td>8414</td>\n",
              "      <td>209</td>\n",
              "      <td>0.052459</td>\n",
              "      <td>0.0</td>\n",
              "      <td>0.042624</td>\n",
              "      <td>0.333583</td>\n",
              "      <td>0.383563</td>\n",
              "      <td>0.001634</td>\n",
              "      <td>0.344869</td>\n",
              "      <td>0.525469</td>\n",
              "      <td>0.05376</td>\n",
              "      <td>0.079034</td>\n",
              "      <td>0.500915</td>\n",
              "      <td>0.677032</td>\n",
              "      <td>0.0</td>\n",
              "      <td>0.047452</td>\n",
              "      <td>0.113147</td>\n",
              "      <td>0.007646</td>\n",
              "      <td>0.0</td>\n",
              "      <td>0.150139</td>\n",
              "      <td>0.032419</td>\n",
              "      <td>0.004933</td>\n",
              "      <td>0.0</td>\n",
              "      <td>0.0</td>\n",
              "      <td>0.57306</td>\n",
              "      <td>0.019596</td>\n",
              "      <td>0.0</td>\n",
              "      <td>0.092233</td>\n",
              "      <td>0.025148</td>\n",
              "      <td>0.072606</td>\n",
              "      <td>0.0</td>\n",
              "      <td>0.537699</td>\n",
              "      <td>0.0</td>\n",
              "      <td>0.15406</td>\n",
              "      <td>0.955965</td>\n",
              "      <td>0.105462</td>\n",
              "      <td>0.00384</td>\n",
              "      <td>0.0</td>\n",
              "      <td>0.09895</td>\n",
              "      <td>...</td>\n",
              "      <td>0.0</td>\n",
              "      <td>0.0</td>\n",
              "      <td>1.014188</td>\n",
              "      <td>0.149694</td>\n",
              "      <td>0.106801</td>\n",
              "      <td>0.168865</td>\n",
              "      <td>0.019656</td>\n",
              "      <td>0.081902</td>\n",
              "      <td>0.339181</td>\n",
              "      <td>0.134276</td>\n",
              "      <td>0.016473</td>\n",
              "      <td>0.193523</td>\n",
              "      <td>0.409411</td>\n",
              "      <td>0.127201</td>\n",
              "      <td>0.406103</td>\n",
              "      <td>0.0</td>\n",
              "      <td>0.0</td>\n",
              "      <td>0.007431</td>\n",
              "      <td>0.295453</td>\n",
              "      <td>0.348585</td>\n",
              "      <td>0.1128</td>\n",
              "      <td>0.0</td>\n",
              "      <td>0.281564</td>\n",
              "      <td>0.044966</td>\n",
              "      <td>0.145961</td>\n",
              "      <td>0.0</td>\n",
              "      <td>0.144654</td>\n",
              "      <td>0.090878</td>\n",
              "      <td>0.076503</td>\n",
              "      <td>0.223643</td>\n",
              "      <td>0.233728</td>\n",
              "      <td>0.53948</td>\n",
              "      <td>0.152508</td>\n",
              "      <td>0.344518</td>\n",
              "      <td>0.778731</td>\n",
              "      <td>0.078295</td>\n",
              "      <td>0.160162</td>\n",
              "      <td>0.0</td>\n",
              "      <td>0.305145</td>\n",
              "      <td>0.018119</td>\n",
              "    </tr>\n",
              "    <tr>\n",
              "      <th>2</th>\n",
              "      <td>5918</td>\n",
              "      <td>8414</td>\n",
              "      <td>245</td>\n",
              "      <td>0.052459</td>\n",
              "      <td>0.0</td>\n",
              "      <td>0.042624</td>\n",
              "      <td>0.333583</td>\n",
              "      <td>0.383563</td>\n",
              "      <td>0.001634</td>\n",
              "      <td>0.344869</td>\n",
              "      <td>0.525469</td>\n",
              "      <td>0.05376</td>\n",
              "      <td>0.079034</td>\n",
              "      <td>0.500915</td>\n",
              "      <td>0.677032</td>\n",
              "      <td>0.0</td>\n",
              "      <td>0.047452</td>\n",
              "      <td>0.113147</td>\n",
              "      <td>0.007646</td>\n",
              "      <td>0.0</td>\n",
              "      <td>0.150139</td>\n",
              "      <td>0.032419</td>\n",
              "      <td>0.004933</td>\n",
              "      <td>0.0</td>\n",
              "      <td>0.0</td>\n",
              "      <td>0.57306</td>\n",
              "      <td>0.019596</td>\n",
              "      <td>0.0</td>\n",
              "      <td>0.092233</td>\n",
              "      <td>0.025148</td>\n",
              "      <td>0.072606</td>\n",
              "      <td>0.0</td>\n",
              "      <td>0.537699</td>\n",
              "      <td>0.0</td>\n",
              "      <td>0.15406</td>\n",
              "      <td>0.955965</td>\n",
              "      <td>0.105462</td>\n",
              "      <td>0.00384</td>\n",
              "      <td>0.0</td>\n",
              "      <td>0.09895</td>\n",
              "      <td>...</td>\n",
              "      <td>0.0</td>\n",
              "      <td>0.0</td>\n",
              "      <td>1.014188</td>\n",
              "      <td>0.149694</td>\n",
              "      <td>0.106801</td>\n",
              "      <td>0.168865</td>\n",
              "      <td>0.019656</td>\n",
              "      <td>0.081902</td>\n",
              "      <td>0.339181</td>\n",
              "      <td>0.134276</td>\n",
              "      <td>0.016473</td>\n",
              "      <td>0.193523</td>\n",
              "      <td>0.409411</td>\n",
              "      <td>0.127201</td>\n",
              "      <td>0.406103</td>\n",
              "      <td>0.0</td>\n",
              "      <td>0.0</td>\n",
              "      <td>0.007431</td>\n",
              "      <td>0.295453</td>\n",
              "      <td>0.348585</td>\n",
              "      <td>0.1128</td>\n",
              "      <td>0.0</td>\n",
              "      <td>0.281564</td>\n",
              "      <td>0.044966</td>\n",
              "      <td>0.145961</td>\n",
              "      <td>0.0</td>\n",
              "      <td>0.144654</td>\n",
              "      <td>0.090878</td>\n",
              "      <td>0.076503</td>\n",
              "      <td>0.223643</td>\n",
              "      <td>0.233728</td>\n",
              "      <td>0.53948</td>\n",
              "      <td>0.152508</td>\n",
              "      <td>0.344518</td>\n",
              "      <td>0.778731</td>\n",
              "      <td>0.078295</td>\n",
              "      <td>0.160162</td>\n",
              "      <td>0.0</td>\n",
              "      <td>0.305145</td>\n",
              "      <td>0.018119</td>\n",
              "    </tr>\n",
              "    <tr>\n",
              "      <th>3</th>\n",
              "      <td>5918</td>\n",
              "      <td>8414</td>\n",
              "      <td>1992</td>\n",
              "      <td>0.052459</td>\n",
              "      <td>0.0</td>\n",
              "      <td>0.042624</td>\n",
              "      <td>0.333583</td>\n",
              "      <td>0.383563</td>\n",
              "      <td>0.001634</td>\n",
              "      <td>0.344869</td>\n",
              "      <td>0.525469</td>\n",
              "      <td>0.05376</td>\n",
              "      <td>0.079034</td>\n",
              "      <td>0.500915</td>\n",
              "      <td>0.677032</td>\n",
              "      <td>0.0</td>\n",
              "      <td>0.047452</td>\n",
              "      <td>0.113147</td>\n",
              "      <td>0.007646</td>\n",
              "      <td>0.0</td>\n",
              "      <td>0.150139</td>\n",
              "      <td>0.032419</td>\n",
              "      <td>0.004933</td>\n",
              "      <td>0.0</td>\n",
              "      <td>0.0</td>\n",
              "      <td>0.57306</td>\n",
              "      <td>0.019596</td>\n",
              "      <td>0.0</td>\n",
              "      <td>0.092233</td>\n",
              "      <td>0.025148</td>\n",
              "      <td>0.072606</td>\n",
              "      <td>0.0</td>\n",
              "      <td>0.537699</td>\n",
              "      <td>0.0</td>\n",
              "      <td>0.15406</td>\n",
              "      <td>0.955965</td>\n",
              "      <td>0.105462</td>\n",
              "      <td>0.00384</td>\n",
              "      <td>0.0</td>\n",
              "      <td>0.09895</td>\n",
              "      <td>...</td>\n",
              "      <td>0.0</td>\n",
              "      <td>0.0</td>\n",
              "      <td>1.014188</td>\n",
              "      <td>0.149694</td>\n",
              "      <td>0.106801</td>\n",
              "      <td>0.168865</td>\n",
              "      <td>0.019656</td>\n",
              "      <td>0.081902</td>\n",
              "      <td>0.339181</td>\n",
              "      <td>0.134276</td>\n",
              "      <td>0.016473</td>\n",
              "      <td>0.193523</td>\n",
              "      <td>0.409411</td>\n",
              "      <td>0.127201</td>\n",
              "      <td>0.406103</td>\n",
              "      <td>0.0</td>\n",
              "      <td>0.0</td>\n",
              "      <td>0.007431</td>\n",
              "      <td>0.295453</td>\n",
              "      <td>0.348585</td>\n",
              "      <td>0.1128</td>\n",
              "      <td>0.0</td>\n",
              "      <td>0.281564</td>\n",
              "      <td>0.044966</td>\n",
              "      <td>0.145961</td>\n",
              "      <td>0.0</td>\n",
              "      <td>0.144654</td>\n",
              "      <td>0.090878</td>\n",
              "      <td>0.076503</td>\n",
              "      <td>0.223643</td>\n",
              "      <td>0.233728</td>\n",
              "      <td>0.53948</td>\n",
              "      <td>0.152508</td>\n",
              "      <td>0.344518</td>\n",
              "      <td>0.778731</td>\n",
              "      <td>0.078295</td>\n",
              "      <td>0.160162</td>\n",
              "      <td>0.0</td>\n",
              "      <td>0.305145</td>\n",
              "      <td>0.018119</td>\n",
              "    </tr>\n",
              "    <tr>\n",
              "      <th>4</th>\n",
              "      <td>5918</td>\n",
              "      <td>8414</td>\n",
              "      <td>2683</td>\n",
              "      <td>0.052459</td>\n",
              "      <td>0.0</td>\n",
              "      <td>0.042624</td>\n",
              "      <td>0.333583</td>\n",
              "      <td>0.383563</td>\n",
              "      <td>0.001634</td>\n",
              "      <td>0.344869</td>\n",
              "      <td>0.525469</td>\n",
              "      <td>0.05376</td>\n",
              "      <td>0.079034</td>\n",
              "      <td>0.500915</td>\n",
              "      <td>0.677032</td>\n",
              "      <td>0.0</td>\n",
              "      <td>0.047452</td>\n",
              "      <td>0.113147</td>\n",
              "      <td>0.007646</td>\n",
              "      <td>0.0</td>\n",
              "      <td>0.150139</td>\n",
              "      <td>0.032419</td>\n",
              "      <td>0.004933</td>\n",
              "      <td>0.0</td>\n",
              "      <td>0.0</td>\n",
              "      <td>0.57306</td>\n",
              "      <td>0.019596</td>\n",
              "      <td>0.0</td>\n",
              "      <td>0.092233</td>\n",
              "      <td>0.025148</td>\n",
              "      <td>0.072606</td>\n",
              "      <td>0.0</td>\n",
              "      <td>0.537699</td>\n",
              "      <td>0.0</td>\n",
              "      <td>0.15406</td>\n",
              "      <td>0.955965</td>\n",
              "      <td>0.105462</td>\n",
              "      <td>0.00384</td>\n",
              "      <td>0.0</td>\n",
              "      <td>0.09895</td>\n",
              "      <td>...</td>\n",
              "      <td>0.0</td>\n",
              "      <td>0.0</td>\n",
              "      <td>1.014188</td>\n",
              "      <td>0.149694</td>\n",
              "      <td>0.106801</td>\n",
              "      <td>0.168865</td>\n",
              "      <td>0.019656</td>\n",
              "      <td>0.081902</td>\n",
              "      <td>0.339181</td>\n",
              "      <td>0.134276</td>\n",
              "      <td>0.016473</td>\n",
              "      <td>0.193523</td>\n",
              "      <td>0.409411</td>\n",
              "      <td>0.127201</td>\n",
              "      <td>0.406103</td>\n",
              "      <td>0.0</td>\n",
              "      <td>0.0</td>\n",
              "      <td>0.007431</td>\n",
              "      <td>0.295453</td>\n",
              "      <td>0.348585</td>\n",
              "      <td>0.1128</td>\n",
              "      <td>0.0</td>\n",
              "      <td>0.281564</td>\n",
              "      <td>0.044966</td>\n",
              "      <td>0.145961</td>\n",
              "      <td>0.0</td>\n",
              "      <td>0.144654</td>\n",
              "      <td>0.090878</td>\n",
              "      <td>0.076503</td>\n",
              "      <td>0.223643</td>\n",
              "      <td>0.233728</td>\n",
              "      <td>0.53948</td>\n",
              "      <td>0.152508</td>\n",
              "      <td>0.344518</td>\n",
              "      <td>0.778731</td>\n",
              "      <td>0.078295</td>\n",
              "      <td>0.160162</td>\n",
              "      <td>0.0</td>\n",
              "      <td>0.305145</td>\n",
              "      <td>0.018119</td>\n",
              "    </tr>\n",
              "  </tbody>\n",
              "</table>\n",
              "<p>5 rows × 515 columns</p>\n",
              "</div>"
            ],
            "text/plain": [
              "   campaignId  advertiserId  wordId  ...  509       510       511\n",
              "0        5918          8414      11  ...  0.0  0.305145  0.018119\n",
              "1        5918          8414     209  ...  0.0  0.305145  0.018119\n",
              "2        5918          8414     245  ...  0.0  0.305145  0.018119\n",
              "3        5918          8414    1992  ...  0.0  0.305145  0.018119\n",
              "4        5918          8414    2683  ...  0.0  0.305145  0.018119\n",
              "\n",
              "[5 rows x 515 columns]"
            ]
          },
          "metadata": {
            "tags": []
          },
          "execution_count": 23
        }
      ]
    },
    {
      "cell_type": "code",
      "metadata": {
        "id": "DNDRQG6E2JLL",
        "colab_type": "code",
        "colab": {}
      },
      "source": [
        "X = advertisements_images.iloc[:, 1:]\n",
        "bw = cluster.estimate_bandwidth(X, random_state=RANDOM_STATE)\n",
        "cl = cluster.MeanShift(bandwidth=bw).fit(X)"
      ],
      "execution_count": 0,
      "outputs": []
    },
    {
      "cell_type": "code",
      "metadata": {
        "id": "SGWPlZw663XW",
        "colab_type": "code",
        "colab": {}
      },
      "source": [
        "advertisements_images['pic'] = cl.labels_"
      ],
      "execution_count": 0,
      "outputs": []
    },
    {
      "cell_type": "code",
      "metadata": {
        "id": "omdgqKhv9GuE",
        "colab_type": "code",
        "outputId": "d4359f0c-e7b3-4ff7-ac46-811366c04600",
        "colab": {
          "base_uri": "https://localhost:8080/",
          "height": 99
        }
      },
      "source": [
        "advertisements_images[advertisements_images['pic'] == 60]"
      ],
      "execution_count": 0,
      "outputs": [
        {
          "output_type": "execute_result",
          "data": {
            "text/html": [
              "<div>\n",
              "<style scoped>\n",
              "    .dataframe tbody tr th:only-of-type {\n",
              "        vertical-align: middle;\n",
              "    }\n",
              "\n",
              "    .dataframe tbody tr th {\n",
              "        vertical-align: top;\n",
              "    }\n",
              "\n",
              "    .dataframe thead th {\n",
              "        text-align: right;\n",
              "    }\n",
              "</style>\n",
              "<table border=\"1\" class=\"dataframe\">\n",
              "  <thead>\n",
              "    <tr style=\"text-align: right;\">\n",
              "      <th></th>\n",
              "      <th>adId</th>\n",
              "      <th>0</th>\n",
              "      <th>1</th>\n",
              "      <th>2</th>\n",
              "      <th>3</th>\n",
              "      <th>4</th>\n",
              "      <th>5</th>\n",
              "      <th>6</th>\n",
              "      <th>7</th>\n",
              "      <th>8</th>\n",
              "      <th>9</th>\n",
              "      <th>10</th>\n",
              "      <th>11</th>\n",
              "      <th>12</th>\n",
              "      <th>13</th>\n",
              "      <th>14</th>\n",
              "      <th>15</th>\n",
              "      <th>16</th>\n",
              "      <th>17</th>\n",
              "      <th>18</th>\n",
              "      <th>19</th>\n",
              "      <th>20</th>\n",
              "      <th>21</th>\n",
              "      <th>22</th>\n",
              "      <th>23</th>\n",
              "      <th>24</th>\n",
              "      <th>25</th>\n",
              "      <th>26</th>\n",
              "      <th>27</th>\n",
              "      <th>28</th>\n",
              "      <th>29</th>\n",
              "      <th>30</th>\n",
              "      <th>31</th>\n",
              "      <th>32</th>\n",
              "      <th>33</th>\n",
              "      <th>34</th>\n",
              "      <th>35</th>\n",
              "      <th>36</th>\n",
              "      <th>37</th>\n",
              "      <th>38</th>\n",
              "      <th>...</th>\n",
              "      <th>473</th>\n",
              "      <th>474</th>\n",
              "      <th>475</th>\n",
              "      <th>476</th>\n",
              "      <th>477</th>\n",
              "      <th>478</th>\n",
              "      <th>479</th>\n",
              "      <th>480</th>\n",
              "      <th>481</th>\n",
              "      <th>482</th>\n",
              "      <th>483</th>\n",
              "      <th>484</th>\n",
              "      <th>485</th>\n",
              "      <th>486</th>\n",
              "      <th>487</th>\n",
              "      <th>488</th>\n",
              "      <th>489</th>\n",
              "      <th>490</th>\n",
              "      <th>491</th>\n",
              "      <th>492</th>\n",
              "      <th>493</th>\n",
              "      <th>494</th>\n",
              "      <th>495</th>\n",
              "      <th>496</th>\n",
              "      <th>497</th>\n",
              "      <th>498</th>\n",
              "      <th>499</th>\n",
              "      <th>500</th>\n",
              "      <th>501</th>\n",
              "      <th>502</th>\n",
              "      <th>503</th>\n",
              "      <th>504</th>\n",
              "      <th>505</th>\n",
              "      <th>506</th>\n",
              "      <th>507</th>\n",
              "      <th>508</th>\n",
              "      <th>509</th>\n",
              "      <th>510</th>\n",
              "      <th>511</th>\n",
              "      <th>pic</th>\n",
              "    </tr>\n",
              "  </thead>\n",
              "  <tbody>\n",
              "  </tbody>\n",
              "</table>\n",
              "<p>0 rows × 514 columns</p>\n",
              "</div>"
            ],
            "text/plain": [
              "Empty DataFrame\n",
              "Columns: [adId, 0, 1, 2, 3, 4, 5, 6, 7, 8, 9, 10, 11, 12, 13, 14, 15, 16, 17, 18, 19, 20, 21, 22, 23, 24, 25, 26, 27, 28, 29, 30, 31, 32, 33, 34, 35, 36, 37, 38, 39, 40, 41, 42, 43, 44, 45, 46, 47, 48, 49, 50, 51, 52, 53, 54, 55, 56, 57, 58, 59, 60, 61, 62, 63, 64, 65, 66, 67, 68, 69, 70, 71, 72, 73, 74, 75, 76, 77, 78, 79, 80, 81, 82, 83, 84, 85, 86, 87, 88, 89, 90, 91, 92, 93, 94, 95, 96, 97, 98, ...]\n",
              "Index: []\n",
              "\n",
              "[0 rows x 514 columns]"
            ]
          },
          "metadata": {
            "tags": []
          },
          "execution_count": 25
        }
      ]
    },
    {
      "cell_type": "code",
      "metadata": {
        "id": "Hc8cEJTEAoQ6",
        "colab_type": "code",
        "outputId": "661ca3f2-62b2-474c-db9d-328763b5f33a",
        "colab": {
          "base_uri": "https://localhost:8080/",
          "height": 143
        }
      },
      "source": [
        "advertisements_titles[advertisements_titles.adId == 6120]"
      ],
      "execution_count": 0,
      "outputs": [
        {
          "output_type": "execute_result",
          "data": {
            "text/html": [
              "<div>\n",
              "<style scoped>\n",
              "    .dataframe tbody tr th:only-of-type {\n",
              "        vertical-align: middle;\n",
              "    }\n",
              "\n",
              "    .dataframe tbody tr th {\n",
              "        vertical-align: top;\n",
              "    }\n",
              "\n",
              "    .dataframe thead th {\n",
              "        text-align: right;\n",
              "    }\n",
              "</style>\n",
              "<table border=\"1\" class=\"dataframe\">\n",
              "  <thead>\n",
              "    <tr style=\"text-align: right;\">\n",
              "      <th></th>\n",
              "      <th>adId</th>\n",
              "      <th>wordId</th>\n",
              "    </tr>\n",
              "  </thead>\n",
              "  <tbody>\n",
              "    <tr>\n",
              "      <th>8817</th>\n",
              "      <td>6120</td>\n",
              "      <td>11</td>\n",
              "    </tr>\n",
              "    <tr>\n",
              "      <th>8818</th>\n",
              "      <td>6120</td>\n",
              "      <td>57</td>\n",
              "    </tr>\n",
              "    <tr>\n",
              "      <th>8819</th>\n",
              "      <td>6120</td>\n",
              "      <td>1751</td>\n",
              "    </tr>\n",
              "  </tbody>\n",
              "</table>\n",
              "</div>"
            ],
            "text/plain": [
              "      adId  wordId\n",
              "8817  6120      11\n",
              "8818  6120      57\n",
              "8819  6120    1751"
            ]
          },
          "metadata": {
            "tags": []
          },
          "execution_count": 22
        }
      ]
    },
    {
      "cell_type": "code",
      "metadata": {
        "id": "0ZScAoLa90Z_",
        "colab_type": "code",
        "outputId": "0bc9324b-2771-455c-b63e-2379828dc0e2",
        "colab": {
          "base_uri": "https://localhost:8080/",
          "height": 350
        }
      },
      "source": [
        "SS = []\n",
        "k = range(1, 100)\n",
        "for i in k:\n",
        "  clk = cluster.KMeans(n_clusters=i, random_state=RANDOM_STATE).fit(X)\n",
        "  SS.append(clk.inertia_)\n",
        "\n",
        "plt.figure(figsize=(10,5))\n",
        "plt.plot(k, SS, 'bx-')\n",
        "plt.xlabel('k')\n",
        "plt.ylabel('Sum_of_squared_distances')\n",
        "plt.title('Elbow Method For Optimal k')\n",
        "plt.show()"
      ],
      "execution_count": 0,
      "outputs": [
        {
          "output_type": "display_data",
          "data": {
            "image/png": "[encoded data removed]",
            "text/plain": [
              "<Figure size 720x360 with 1 Axes>"
            ]
          },
          "metadata": {
            "tags": [],
            "needs_background": "light"
          }
        }
      ]
    },
    {
      "cell_type": "code",
      "metadata": {
        "id": "gWaJWh6fHOmh",
        "colab_type": "code",
        "colab": {}
      },
      "source": [
        "plt.figure(figsize=(10,5))\n",
        "plt.plot(k, SS, 'bx-')\n",
        "plt.xlabel('k')\n",
        "plt.ylabel('Sum_of_squared_distances')\n",
        "plt.title('Elbow Method For Optimal k')\n",
        "plt.show()"
      ],
      "execution_count": 0,
      "outputs": []
    },
    {
      "cell_type": "code",
      "metadata": {
        "id": "uyD5Se9HG7cF",
        "colab_type": "code",
        "colab": {}
      },
      "source": [
        "clk = cluster.KMeans(n_clusters=20, random_state=RANDOM_STATE).fit(X)\n"
      ],
      "execution_count": 0,
      "outputs": []
    },
    {
      "cell_type": "code",
      "metadata": {
        "id": "MasstHjLP4eh",
        "colab_type": "code",
        "outputId": "81641e5a-48f1-4cef-98f5-6d8104b16ae9",
        "colab": {
          "base_uri": "https://localhost:8080/",
          "height": 206
        }
      },
      "source": [
        "clicked_train.head()"
      ],
      "execution_count": 0,
      "outputs": [
        {
          "output_type": "execute_result",
          "data": {
            "text/html": [
              "<div>\n",
              "<style scoped>\n",
              "    .dataframe tbody tr th:only-of-type {\n",
              "        vertical-align: middle;\n",
              "    }\n",
              "\n",
              "    .dataframe tbody tr th {\n",
              "        vertical-align: top;\n",
              "    }\n",
              "\n",
              "    .dataframe thead th {\n",
              "        text-align: right;\n",
              "    }\n",
              "</style>\n",
              "<table border=\"1\" class=\"dataframe\">\n",
              "  <thead>\n",
              "    <tr style=\"text-align: right;\">\n",
              "      <th></th>\n",
              "      <th>displayId</th>\n",
              "      <th>adId</th>\n",
              "      <th>clicked</th>\n",
              "    </tr>\n",
              "  </thead>\n",
              "  <tbody>\n",
              "    <tr>\n",
              "      <th>0</th>\n",
              "      <td>1210227</td>\n",
              "      <td>7182</td>\n",
              "      <td>0</td>\n",
              "    </tr>\n",
              "    <tr>\n",
              "      <th>1</th>\n",
              "      <td>1210227</td>\n",
              "      <td>7125</td>\n",
              "      <td>0</td>\n",
              "    </tr>\n",
              "    <tr>\n",
              "      <th>2</th>\n",
              "      <td>1210227</td>\n",
              "      <td>7181</td>\n",
              "      <td>0</td>\n",
              "    </tr>\n",
              "    <tr>\n",
              "      <th>3</th>\n",
              "      <td>1210227</td>\n",
              "      <td>535</td>\n",
              "      <td>0</td>\n",
              "    </tr>\n",
              "    <tr>\n",
              "      <th>4</th>\n",
              "      <td>1210227</td>\n",
              "      <td>7174</td>\n",
              "      <td>1</td>\n",
              "    </tr>\n",
              "  </tbody>\n",
              "</table>\n",
              "</div>"
            ],
            "text/plain": [
              "   displayId  adId  clicked\n",
              "0    1210227  7182        0\n",
              "1    1210227  7125        0\n",
              "2    1210227  7181        0\n",
              "3    1210227   535        0\n",
              "4    1210227  7174        1"
            ]
          },
          "metadata": {
            "tags": []
          },
          "execution_count": 124
        }
      ]
    },
    {
      "cell_type": "code",
      "metadata": {
        "id": "oBpSAB0B9uhc",
        "colab_type": "code",
        "outputId": "8fb260d9-9963-415e-9a93-252f503d5bb4",
        "colab": {
          "base_uri": "https://localhost:8080/",
          "height": 90
        }
      },
      "source": [
        "clicked_train.isna().sum()"
      ],
      "execution_count": 0,
      "outputs": [
        {
          "output_type": "execute_result",
          "data": {
            "text/plain": [
              "displayId    0\n",
              "adId         0\n",
              "clicked      0\n",
              "dtype: int64"
            ]
          },
          "metadata": {
            "tags": []
          },
          "execution_count": 123
        }
      ]
    },
    {
      "cell_type": "code",
      "metadata": {
        "id": "a4HBNNQ7nmrv",
        "colab_type": "code",
        "colab": {}
      },
      "source": [
        "clicked_train['clicked'] = clicked_train['clicked'].astype(np.int8)"
      ],
      "execution_count": 0,
      "outputs": []
    },
    {
      "cell_type": "code",
      "metadata": {
        "id": "NwgRDcBMaKmE",
        "colab_type": "code",
        "outputId": "5b3cfdbd-f595-40ae-b6f7-a6e97becaf91",
        "colab": {
          "base_uri": "https://localhost:8080/",
          "height": 294
        }
      },
      "source": [
        "clicked_train['clicked'].hist()"
      ],
      "execution_count": 0,
      "outputs": [
        {
          "output_type": "execute_result",
          "data": {
            "text/plain": [
              "<matplotlib.axes._subplots.AxesSubplot at 0x7f6e9d6bc978>"
            ]
          },
          "metadata": {
            "tags": []
          },
          "execution_count": 14
        },
        {
          "output_type": "display_data",
          "data": {
            "image/png": "[encoded data removed]",
            "text/plain": [
              "<Figure size 432x288 with 1 Axes>"
            ]
          },
          "metadata": {
            "tags": [],
            "needs_background": "light"
          }
        }
      ]
    },
    {
      "cell_type": "code",
      "metadata": {
        "id": "O-bueGHsg8qB",
        "colab_type": "code",
        "outputId": "4d3af43b-dbf8-4d10-d1eb-3a39c752c260",
        "colab": {
          "base_uri": "https://localhost:8080/",
          "height": 201
        }
      },
      "source": [
        "clicked_train.info()"
      ],
      "execution_count": 0,
      "outputs": [
        {
          "output_type": "stream",
          "text": [
            "<class 'pandas.core.frame.DataFrame'>\n",
            "RangeIndex: 3642244 entries, 0 to 3642243\n",
            "Data columns (total 3 columns):\n",
            " #   Column     Dtype\n",
            "---  ------     -----\n",
            " 0   displayId  int64\n",
            " 1   adId       int64\n",
            " 2   clicked    int8 \n",
            "dtypes: int64(2), int8(1)\n",
            "memory usage: 59.0 MB\n"
          ],
          "name": "stdout"
        }
      ]
    },
    {
      "cell_type": "code",
      "metadata": {
        "id": "b1y2qcDbR_F9",
        "colab_type": "code",
        "outputId": "1b3b6897-373b-4339-e4be-a7d6780af66e",
        "colab": {
          "base_uri": "https://localhost:8080/",
          "height": 72
        }
      },
      "source": [
        "advertisements['adId'].isin(clicked_train['adId']).value_counts()"
      ],
      "execution_count": 0,
      "outputs": [
        {
          "output_type": "execute_result",
          "data": {
            "text/plain": [
              "True     2616\n",
              "False     640\n",
              "Name: adId, dtype: int64"
            ]
          },
          "metadata": {
            "tags": []
          },
          "execution_count": 32
        }
      ]
    },
    {
      "cell_type": "code",
      "metadata": {
        "id": "5WwV2qMyugYL",
        "colab_type": "code",
        "outputId": "06456dea-339e-4f17-bf87-c8129368f102",
        "colab": {
          "base_uri": "https://localhost:8080/",
          "height": 72
        }
      },
      "source": [
        "advertisements['adId'].isin(advertisements_titles['adId']).value_counts()"
      ],
      "execution_count": 0,
      "outputs": [
        {
          "output_type": "execute_result",
          "data": {
            "text/plain": [
              "True     3252\n",
              "False       4\n",
              "Name: adId, dtype: int64"
            ]
          },
          "metadata": {
            "tags": []
          },
          "execution_count": 35
        }
      ]
    },
    {
      "cell_type": "code",
      "metadata": {
        "id": "gxzwPm6YP6DL",
        "colab_type": "code",
        "outputId": "9e831d10-4ab4-4b3c-f96d-e21c61e58304",
        "colab": {
          "base_uri": "https://localhost:8080/",
          "height": 206
        }
      },
      "source": [
        "event.head()"
      ],
      "execution_count": 0,
      "outputs": [
        {
          "output_type": "execute_result",
          "data": {
            "text/html": [
              "<div>\n",
              "<style scoped>\n",
              "    .dataframe tbody tr th:only-of-type {\n",
              "        vertical-align: middle;\n",
              "    }\n",
              "\n",
              "    .dataframe tbody tr th {\n",
              "        vertical-align: top;\n",
              "    }\n",
              "\n",
              "    .dataframe thead th {\n",
              "        text-align: right;\n",
              "    }\n",
              "</style>\n",
              "<table border=\"1\" class=\"dataframe\">\n",
              "  <thead>\n",
              "    <tr style=\"text-align: right;\">\n",
              "      <th></th>\n",
              "      <th>displayId</th>\n",
              "      <th>timestamp</th>\n",
              "      <th>pageId</th>\n",
              "      <th>widgetId</th>\n",
              "      <th>userId</th>\n",
              "      <th>device</th>\n",
              "      <th>OS</th>\n",
              "      <th>browser</th>\n",
              "    </tr>\n",
              "  </thead>\n",
              "  <tbody>\n",
              "    <tr>\n",
              "      <th>0</th>\n",
              "      <td>4706262</td>\n",
              "      <td>1578429005696</td>\n",
              "      <td>3543873</td>\n",
              "      <td>6262</td>\n",
              "      <td>2688642</td>\n",
              "      <td>0</td>\n",
              "      <td>0</td>\n",
              "      <td>0</td>\n",
              "    </tr>\n",
              "    <tr>\n",
              "      <th>1</th>\n",
              "      <td>4706267</td>\n",
              "      <td>1578429007726</td>\n",
              "      <td>6245475</td>\n",
              "      <td>607</td>\n",
              "      <td>2688641</td>\n",
              "      <td>1</td>\n",
              "      <td>3</td>\n",
              "      <td>0</td>\n",
              "    </tr>\n",
              "    <tr>\n",
              "      <th>2</th>\n",
              "      <td>4706260</td>\n",
              "      <td>1578429012060</td>\n",
              "      <td>4416499</td>\n",
              "      <td>11458</td>\n",
              "      <td>2688638</td>\n",
              "      <td>0</td>\n",
              "      <td>0</td>\n",
              "      <td>1</td>\n",
              "    </tr>\n",
              "    <tr>\n",
              "      <th>3</th>\n",
              "      <td>4706255</td>\n",
              "      <td>1578429017218</td>\n",
              "      <td>6246028</td>\n",
              "      <td>9358</td>\n",
              "      <td>1962852</td>\n",
              "      <td>0</td>\n",
              "      <td>0</td>\n",
              "      <td>0</td>\n",
              "    </tr>\n",
              "    <tr>\n",
              "      <th>4</th>\n",
              "      <td>4706256</td>\n",
              "      <td>1578429021388</td>\n",
              "      <td>5327047</td>\n",
              "      <td>9358</td>\n",
              "      <td>2687719</td>\n",
              "      <td>0</td>\n",
              "      <td>0</td>\n",
              "      <td>0</td>\n",
              "    </tr>\n",
              "  </tbody>\n",
              "</table>\n",
              "</div>"
            ],
            "text/plain": [
              "   displayId      timestamp   pageId  widgetId   userId  device  OS  browser\n",
              "0    4706262  1578429005696  3543873      6262  2688642       0   0        0\n",
              "1    4706267  1578429007726  6245475       607  2688641       1   3        0\n",
              "2    4706260  1578429012060  4416499     11458  2688638       0   0        1\n",
              "3    4706255  1578429017218  6246028      9358  1962852       0   0        0\n",
              "4    4706256  1578429021388  5327047      9358  2687719       0   0        0"
            ]
          },
          "metadata": {
            "tags": []
          },
          "execution_count": 21
        }
      ]
    },
    {
      "cell_type": "code",
      "metadata": {
        "id": "_Qj7r_mXmwzD",
        "colab_type": "code",
        "colab": {}
      },
      "source": [
        "event = event.astype({'device': np.int8, 'OS': np.int8, 'browser': np.int8, 'partOfDay': np.int8, 'weekend': np.int8})"
      ],
      "execution_count": 0,
      "outputs": []
    },
    {
      "cell_type": "code",
      "metadata": {
        "id": "kHURUSLEwQvT",
        "colab_type": "code",
        "colab": {}
      },
      "source": [
        "tz = pytz.timezone(\"Asia/Tehran\")\n",
        "event['timestamp'] = event['timestamp'].apply(lambda x: datetime.fromtimestamp(x/1000, tz))"
      ],
      "execution_count": 0,
      "outputs": []
    },
    {
      "cell_type": "code",
      "metadata": {
        "id": "EDfvTS1U99eP",
        "colab_type": "code",
        "outputId": "fa6dceb3-6e77-47c4-ef49-3221368e3f9f",
        "colab": {
          "base_uri": "https://localhost:8080/",
          "height": 182
        }
      },
      "source": [
        "event.isna().sum()"
      ],
      "execution_count": 0,
      "outputs": [
        {
          "output_type": "execute_result",
          "data": {
            "text/plain": [
              "displayId    0\n",
              "timestamp    0\n",
              "pageId       0\n",
              "widgetId     0\n",
              "userId       0\n",
              "device       0\n",
              "OS           0\n",
              "browser      0\n",
              "dtype: int64"
            ]
          },
          "metadata": {
            "tags": []
          },
          "execution_count": 11
        }
      ]
    },
    {
      "cell_type": "code",
      "metadata": {
        "id": "tPQRDOpTJZgr",
        "colab_type": "code",
        "outputId": "910ec68a-5ef2-4ce3-cf07-47cfb1cdfc5c",
        "colab": {
          "base_uri": "https://localhost:8080/",
          "height": 311
        }
      },
      "source": [
        "event.info()"
      ],
      "execution_count": 0,
      "outputs": [
        {
          "output_type": "stream",
          "text": [
            "<class 'pandas.core.frame.DataFrame'>\n",
            "RangeIndex: 1083071 entries, 0 to 1083070\n",
            "Data columns (total 9 columns):\n",
            " #   Column     Non-Null Count    Dtype\n",
            "---  ------     --------------    -----\n",
            " 0   displayId  1083071 non-null  int64\n",
            " 1   pageId     1083071 non-null  int64\n",
            " 2   widgetId   1083071 non-null  int64\n",
            " 3   userId     1083071 non-null  int64\n",
            " 4   device     1083071 non-null  int8 \n",
            " 5   OS         1083071 non-null  int8 \n",
            " 6   browser    1083071 non-null  int8 \n",
            " 7   partOfDay  1083071 non-null  int8 \n",
            " 8   weekend    1083071 non-null  int8 \n",
            "dtypes: int64(4), int8(5)\n",
            "memory usage: 38.2 MB\n"
          ],
          "name": "stdout"
        }
      ]
    },
    {
      "cell_type": "code",
      "metadata": {
        "id": "DOVnc9uvQdD3",
        "colab_type": "code",
        "colab": {}
      },
      "source": [
        "def partOfDay(hour):\n",
        "  '''\n",
        "  Six values: Early Morning, Morning, Noon, Evening, Night, Late Night\n",
        "  '''\n",
        "  if hour >= 3 and hour < 8:\n",
        "    return 0 # Early morning\n",
        "  elif hour >=8 and hour < 12:\n",
        "    return 1 # Morning\n",
        "  elif hour >= 12 and hour < 17:\n",
        "    return 2 # Noon\n",
        "  elif hour >=17 and hour < 20:\n",
        "    return 3 # Evening\n",
        "  elif hour >= 20 and hour <= 23:\n",
        "    return 4 # Night\n",
        "  elif hour >= 0 and hour < 3:\n",
        "    return 5 # Late night\n",
        "  print(hour)\n",
        "  \n",
        "\n",
        "def weekend(day):\n",
        "  '''\n",
        "  Boolean Function: Is it weekend or not? 0 --> not weekend & 1 --> weekend\n",
        "  '''\n",
        "  temp = day.weekday() # temp = day.dayofweek\n",
        "  \n",
        "  if temp == 3 or temp == 4: # Thursday or Friday\n",
        "    return 1 \n",
        "  else:\n",
        "    return 0"
      ],
      "execution_count": 0,
      "outputs": []
    },
    {
      "cell_type": "code",
      "metadata": {
        "id": "BgZjmw81Upum",
        "colab_type": "code",
        "colab": {}
      },
      "source": [
        "event['partOfDay'] = event['timestamp'].apply(lambda x: partOfDay(x.hour))\n",
        "event['weekend'] = event['timestamp'].apply(lambda x: weekend(x))"
      ],
      "execution_count": 0,
      "outputs": []
    },
    {
      "cell_type": "code",
      "metadata": {
        "id": "7Uf-sHi8Yv5A",
        "colab_type": "code",
        "colab": {}
      },
      "source": [
        "event.drop('timestamp', axis=1, inplace=True)"
      ],
      "execution_count": 0,
      "outputs": []
    },
    {
      "cell_type": "code",
      "metadata": {
        "id": "Bx-N7yjZYles",
        "colab_type": "code",
        "outputId": "080f3965-1c16-424d-d54d-b07cdf47f2a9",
        "colab": {
          "base_uri": "https://localhost:8080/",
          "height": 219
        }
      },
      "source": [
        "event.isna().sum()"
      ],
      "execution_count": 0,
      "outputs": [
        {
          "output_type": "execute_result",
          "data": {
            "text/plain": [
              "displayId    0\n",
              "timestamp    0\n",
              "pageId       0\n",
              "widgetId     0\n",
              "userId       0\n",
              "device       0\n",
              "OS           0\n",
              "browser      0\n",
              "partOfDay    0\n",
              "weekend      0\n",
              "dtype: int64"
            ]
          },
          "metadata": {
            "tags": []
          },
          "execution_count": 66
        }
      ]
    },
    {
      "cell_type": "code",
      "metadata": {
        "id": "-qcAP2OXWUgx",
        "colab_type": "code",
        "outputId": "8071ded6-286e-4933-c33b-0612d66a6c21",
        "colab": {
          "base_uri": "https://localhost:8080/",
          "height": 206
        }
      },
      "source": [
        "event.sample(5)"
      ],
      "execution_count": 0,
      "outputs": [
        {
          "output_type": "execute_result",
          "data": {
            "text/html": [
              "<div>\n",
              "<style scoped>\n",
              "    .dataframe tbody tr th:only-of-type {\n",
              "        vertical-align: middle;\n",
              "    }\n",
              "\n",
              "    .dataframe tbody tr th {\n",
              "        vertical-align: top;\n",
              "    }\n",
              "\n",
              "    .dataframe thead th {\n",
              "        text-align: right;\n",
              "    }\n",
              "</style>\n",
              "<table border=\"1\" class=\"dataframe\">\n",
              "  <thead>\n",
              "    <tr style=\"text-align: right;\">\n",
              "      <th></th>\n",
              "      <th>displayId</th>\n",
              "      <th>pageId</th>\n",
              "      <th>widgetId</th>\n",
              "      <th>userId</th>\n",
              "      <th>device</th>\n",
              "      <th>OS</th>\n",
              "      <th>browser</th>\n",
              "      <th>partOfDay</th>\n",
              "      <th>weekend</th>\n",
              "    </tr>\n",
              "  </thead>\n",
              "  <tbody>\n",
              "    <tr>\n",
              "      <th>492023</th>\n",
              "      <td>2809374</td>\n",
              "      <td>7792398</td>\n",
              "      <td>12864</td>\n",
              "      <td>159776</td>\n",
              "      <td>1</td>\n",
              "      <td>1</td>\n",
              "      <td>0</td>\n",
              "      <td>1</td>\n",
              "      <td>0</td>\n",
              "    </tr>\n",
              "    <tr>\n",
              "      <th>153169</th>\n",
              "      <td>4130940</td>\n",
              "      <td>6753982</td>\n",
              "      <td>12777</td>\n",
              "      <td>1768137</td>\n",
              "      <td>0</td>\n",
              "      <td>0</td>\n",
              "      <td>0</td>\n",
              "      <td>0</td>\n",
              "      <td>1</td>\n",
              "    </tr>\n",
              "    <tr>\n",
              "      <th>545824</th>\n",
              "      <td>2559352</td>\n",
              "      <td>8249104</td>\n",
              "      <td>12676</td>\n",
              "      <td>1534495</td>\n",
              "      <td>0</td>\n",
              "      <td>0</td>\n",
              "      <td>1</td>\n",
              "      <td>2</td>\n",
              "      <td>1</td>\n",
              "    </tr>\n",
              "    <tr>\n",
              "      <th>852217</th>\n",
              "      <td>1168360</td>\n",
              "      <td>9717701</td>\n",
              "      <td>11571</td>\n",
              "      <td>673694</td>\n",
              "      <td>0</td>\n",
              "      <td>0</td>\n",
              "      <td>0</td>\n",
              "      <td>0</td>\n",
              "      <td>0</td>\n",
              "    </tr>\n",
              "    <tr>\n",
              "      <th>716812</th>\n",
              "      <td>1724096</td>\n",
              "      <td>462053</td>\n",
              "      <td>4375</td>\n",
              "      <td>1033372</td>\n",
              "      <td>0</td>\n",
              "      <td>0</td>\n",
              "      <td>1</td>\n",
              "      <td>4</td>\n",
              "      <td>0</td>\n",
              "    </tr>\n",
              "  </tbody>\n",
              "</table>\n",
              "</div>"
            ],
            "text/plain": [
              "        displayId   pageId  widgetId   userId  ...  OS  browser  partOfDay  weekend\n",
              "492023    2809374  7792398     12864   159776  ...   1        0          1        0\n",
              "153169    4130940  6753982     12777  1768137  ...   0        0          0        1\n",
              "545824    2559352  8249104     12676  1534495  ...   0        1          2        1\n",
              "852217    1168360  9717701     11571   673694  ...   0        0          0        0\n",
              "716812    1724096   462053      4375  1033372  ...   0        1          4        0\n",
              "\n",
              "[5 rows x 9 columns]"
            ]
          },
          "metadata": {
            "tags": []
          },
          "execution_count": 71
        }
      ]
    },
    {
      "cell_type": "code",
      "metadata": {
        "id": "Bofby9JmP8mI",
        "colab_type": "code",
        "outputId": "65cf3181-480c-409e-d898-2d0ea33ad7db",
        "colab": {
          "base_uri": "https://localhost:8080/",
          "height": 206
        }
      },
      "source": [
        "page.head()"
      ],
      "execution_count": 0,
      "outputs": [
        {
          "output_type": "execute_result",
          "data": {
            "text/html": [
              "<div>\n",
              "<style scoped>\n",
              "    .dataframe tbody tr th:only-of-type {\n",
              "        vertical-align: middle;\n",
              "    }\n",
              "\n",
              "    .dataframe tbody tr th {\n",
              "        vertical-align: top;\n",
              "    }\n",
              "\n",
              "    .dataframe thead th {\n",
              "        text-align: right;\n",
              "    }\n",
              "</style>\n",
              "<table border=\"1\" class=\"dataframe\">\n",
              "  <thead>\n",
              "    <tr style=\"text-align: right;\">\n",
              "      <th></th>\n",
              "      <th>pageId</th>\n",
              "      <th>website</th>\n",
              "      <th>publisher</th>\n",
              "    </tr>\n",
              "  </thead>\n",
              "  <tbody>\n",
              "    <tr>\n",
              "      <th>0</th>\n",
              "      <td>1</td>\n",
              "      <td>0</td>\n",
              "      <td>0</td>\n",
              "    </tr>\n",
              "    <tr>\n",
              "      <th>1</th>\n",
              "      <td>3</td>\n",
              "      <td>1</td>\n",
              "      <td>1</td>\n",
              "    </tr>\n",
              "    <tr>\n",
              "      <th>2</th>\n",
              "      <td>4</td>\n",
              "      <td>2</td>\n",
              "      <td>2</td>\n",
              "    </tr>\n",
              "    <tr>\n",
              "      <th>3</th>\n",
              "      <td>5</td>\n",
              "      <td>3</td>\n",
              "      <td>3</td>\n",
              "    </tr>\n",
              "    <tr>\n",
              "      <th>4</th>\n",
              "      <td>6</td>\n",
              "      <td>4</td>\n",
              "      <td>4</td>\n",
              "    </tr>\n",
              "  </tbody>\n",
              "</table>\n",
              "</div>"
            ],
            "text/plain": [
              "   pageId  website  publisher\n",
              "0       1        0          0\n",
              "1       3        1          1\n",
              "2       4        2          2\n",
              "3       5        3          3\n",
              "4       6        4          4"
            ]
          },
          "metadata": {
            "tags": []
          },
          "execution_count": 19
        }
      ]
    },
    {
      "cell_type": "code",
      "metadata": {
        "id": "RbqYjfWA9_95",
        "colab_type": "code",
        "outputId": "aed8814d-a5d6-44d9-e9e5-a9b854e064b3",
        "colab": {
          "base_uri": "https://localhost:8080/",
          "height": 90
        }
      },
      "source": [
        "page.isna().sum()"
      ],
      "execution_count": 0,
      "outputs": [
        {
          "output_type": "execute_result",
          "data": {
            "text/plain": [
              "pageId       0\n",
              "website      0\n",
              "publisher    0\n",
              "dtype: int64"
            ]
          },
          "metadata": {
            "tags": []
          },
          "execution_count": 27
        }
      ]
    },
    {
      "cell_type": "code",
      "metadata": {
        "id": "lv5S0ZDUg0X6",
        "colab_type": "code",
        "outputId": "b38eeff3-56e2-4fe0-8dd3-4250a6695821",
        "colab": {
          "base_uri": "https://localhost:8080/",
          "height": 201
        }
      },
      "source": [
        "page.info()"
      ],
      "execution_count": 0,
      "outputs": [
        {
          "output_type": "stream",
          "text": [
            "<class 'pandas.core.frame.DataFrame'>\n",
            "RangeIndex: 10779259 entries, 0 to 10779258\n",
            "Data columns (total 3 columns):\n",
            " #   Column     Dtype\n",
            "---  ------     -----\n",
            " 0   pageId     int64\n",
            " 1   website    int64\n",
            " 2   publisher  int64\n",
            "dtypes: int64(3)\n",
            "memory usage: 246.7 MB\n"
          ],
          "name": "stdout"
        }
      ]
    },
    {
      "cell_type": "code",
      "metadata": {
        "id": "lYNEXACkm9Px",
        "colab_type": "code",
        "colab": {}
      },
      "source": [
        "page['pageId'] = page['pageId'].astype(np.int32)\n",
        "page['website'] = page['website'].astype(np.int32)\n",
        "page['publisher'] = page['publisher'].astype(np.int16)"
      ],
      "execution_count": 0,
      "outputs": []
    },
    {
      "cell_type": "code",
      "metadata": {
        "id": "uUPZqEDrnjJj",
        "colab_type": "code",
        "outputId": "d2039c8c-21bd-499b-efed-9ff26cc4054f",
        "colab": {
          "base_uri": "https://localhost:8080/",
          "height": 201
        }
      },
      "source": [
        "page.info()"
      ],
      "execution_count": 0,
      "outputs": [
        {
          "output_type": "stream",
          "text": [
            "<class 'pandas.core.frame.DataFrame'>\n",
            "RangeIndex: 10779259 entries, 0 to 10779258\n",
            "Data columns (total 3 columns):\n",
            " #   Column     Dtype\n",
            "---  ------     -----\n",
            " 0   pageId     int32\n",
            " 1   website    int32\n",
            " 2   publisher  int16\n",
            "dtypes: int16(1), int32(2)\n",
            "memory usage: 102.8 MB\n"
          ],
          "name": "stdout"
        }
      ]
    },
    {
      "cell_type": "code",
      "metadata": {
        "id": "N73zqqzpnCfc",
        "colab_type": "code",
        "outputId": "421c0bff-dfd5-41e2-9916-c49260496ff1",
        "colab": {
          "base_uri": "https://localhost:8080/",
          "height": 35
        }
      },
      "source": [
        "print(\"page pageId min : \", min(page['pageId']), \", page pageId max : \", max(page['pageId']))"
      ],
      "execution_count": 0,
      "outputs": [
        {
          "output_type": "stream",
          "text": [
            "page pageId min :  1 , page pageId max :  10835111\n"
          ],
          "name": "stdout"
        }
      ]
    },
    {
      "cell_type": "code",
      "metadata": {
        "id": "EYsWV1-fmhcI",
        "colab_type": "code",
        "outputId": "86a5ffee-d174-4682-8864-4591598db4e9",
        "colab": {
          "base_uri": "https://localhost:8080/",
          "height": 54
        }
      },
      "source": [
        "print(\"page publisher min : \", min(page['publisher']), \", page publisher max : \", max(page['publisher']))\n",
        "print(\"page website min : \", min(page['website']), \", page website max : \", max(page['website']))"
      ],
      "execution_count": 0,
      "outputs": [
        {
          "output_type": "stream",
          "text": [
            "page publisher min :  0 , page publisher max :  2612\n",
            "page website min :  0 , page website max :  40616\n"
          ],
          "name": "stdout"
        }
      ]
    },
    {
      "cell_type": "code",
      "metadata": {
        "id": "YmNozju0P90F",
        "colab_type": "code",
        "outputId": "cf5f4012-2ad6-47c7-d754-e24719243a34",
        "colab": {
          "base_uri": "https://localhost:8080/",
          "height": 206
        }
      },
      "source": [
        "page_topic.head()"
      ],
      "execution_count": 0,
      "outputs": [
        {
          "output_type": "execute_result",
          "data": {
            "text/html": [
              "<div>\n",
              "<style scoped>\n",
              "    .dataframe tbody tr th:only-of-type {\n",
              "        vertical-align: middle;\n",
              "    }\n",
              "\n",
              "    .dataframe tbody tr th {\n",
              "        vertical-align: top;\n",
              "    }\n",
              "\n",
              "    .dataframe thead th {\n",
              "        text-align: right;\n",
              "    }\n",
              "</style>\n",
              "<table border=\"1\" class=\"dataframe\">\n",
              "  <thead>\n",
              "    <tr style=\"text-align: right;\">\n",
              "      <th></th>\n",
              "      <th>pageId</th>\n",
              "      <th>topicId</th>\n",
              "      <th>confidence</th>\n",
              "    </tr>\n",
              "  </thead>\n",
              "  <tbody>\n",
              "    <tr>\n",
              "      <th>0</th>\n",
              "      <td>10743259</td>\n",
              "      <td>37</td>\n",
              "      <td>0.497099</td>\n",
              "    </tr>\n",
              "    <tr>\n",
              "      <th>1</th>\n",
              "      <td>10743259</td>\n",
              "      <td>23</td>\n",
              "      <td>0.016994</td>\n",
              "    </tr>\n",
              "    <tr>\n",
              "      <th>2</th>\n",
              "      <td>10743259</td>\n",
              "      <td>10</td>\n",
              "      <td>0.371499</td>\n",
              "    </tr>\n",
              "    <tr>\n",
              "      <th>3</th>\n",
              "      <td>10743259</td>\n",
              "      <td>4</td>\n",
              "      <td>0.105349</td>\n",
              "    </tr>\n",
              "    <tr>\n",
              "      <th>4</th>\n",
              "      <td>10743258</td>\n",
              "      <td>33</td>\n",
              "      <td>0.245752</td>\n",
              "    </tr>\n",
              "  </tbody>\n",
              "</table>\n",
              "</div>"
            ],
            "text/plain": [
              "     pageId  topicId  confidence\n",
              "0  10743259       37    0.497099\n",
              "1  10743259       23    0.016994\n",
              "2  10743259       10    0.371499\n",
              "3  10743259        4    0.105349\n",
              "4  10743258       33    0.245752"
            ]
          },
          "metadata": {
            "tags": []
          },
          "execution_count": 115
        }
      ]
    },
    {
      "cell_type": "code",
      "metadata": {
        "id": "tWlUdvza-Ccu",
        "colab_type": "code",
        "outputId": "ce4c1b0e-31ea-43f0-b253-32fb8b5ed414",
        "colab": {
          "base_uri": "https://localhost:8080/",
          "height": 90
        }
      },
      "source": [
        "page_topic.isna().sum()"
      ],
      "execution_count": 0,
      "outputs": [
        {
          "output_type": "execute_result",
          "data": {
            "text/plain": [
              "pageId        0\n",
              "topicId       0\n",
              "confidence    0\n",
              "dtype: int64"
            ]
          },
          "metadata": {
            "tags": []
          },
          "execution_count": 28
        }
      ]
    },
    {
      "cell_type": "code",
      "metadata": {
        "id": "liWkBkUfMdvH",
        "colab_type": "code",
        "outputId": "c360f995-3ba7-4450-9656-332003f20de5",
        "colab": {
          "base_uri": "https://localhost:8080/",
          "height": 300
        }
      },
      "source": [
        "page_topic.describe()"
      ],
      "execution_count": 0,
      "outputs": [
        {
          "output_type": "execute_result",
          "data": {
            "text/html": [
              "<div>\n",
              "<style scoped>\n",
              "    .dataframe tbody tr th:only-of-type {\n",
              "        vertical-align: middle;\n",
              "    }\n",
              "\n",
              "    .dataframe tbody tr th {\n",
              "        vertical-align: top;\n",
              "    }\n",
              "\n",
              "    .dataframe thead th {\n",
              "        text-align: right;\n",
              "    }\n",
              "</style>\n",
              "<table border=\"1\" class=\"dataframe\">\n",
              "  <thead>\n",
              "    <tr style=\"text-align: right;\">\n",
              "      <th></th>\n",
              "      <th>pageId</th>\n",
              "      <th>topicId</th>\n",
              "      <th>confidence</th>\n",
              "    </tr>\n",
              "  </thead>\n",
              "  <tbody>\n",
              "    <tr>\n",
              "      <th>count</th>\n",
              "      <td>2.811876e+07</td>\n",
              "      <td>2.811876e+07</td>\n",
              "      <td>2.811876e+07</td>\n",
              "    </tr>\n",
              "    <tr>\n",
              "      <th>mean</th>\n",
              "      <td>5.464478e+06</td>\n",
              "      <td>2.453257e+01</td>\n",
              "      <td>2.457692e-01</td>\n",
              "    </tr>\n",
              "    <tr>\n",
              "      <th>std</th>\n",
              "      <td>3.142089e+06</td>\n",
              "      <td>1.407157e+01</td>\n",
              "      <td>2.373932e-01</td>\n",
              "    </tr>\n",
              "    <tr>\n",
              "      <th>min</th>\n",
              "      <td>1.000000e+00</td>\n",
              "      <td>0.000000e+00</td>\n",
              "      <td>1.000002e-02</td>\n",
              "    </tr>\n",
              "    <tr>\n",
              "      <th>25%</th>\n",
              "      <td>2.679088e+06</td>\n",
              "      <td>1.100000e+01</td>\n",
              "      <td>6.562485e-02</td>\n",
              "    </tr>\n",
              "    <tr>\n",
              "      <th>50%</th>\n",
              "      <td>5.550003e+06</td>\n",
              "      <td>2.600000e+01</td>\n",
              "      <td>1.684998e-01</td>\n",
              "    </tr>\n",
              "    <tr>\n",
              "      <th>75%</th>\n",
              "      <td>8.245494e+06</td>\n",
              "      <td>3.500000e+01</td>\n",
              "      <td>3.451548e-01</td>\n",
              "    </tr>\n",
              "    <tr>\n",
              "      <th>max</th>\n",
              "      <td>1.074326e+07</td>\n",
              "      <td>4.900000e+01</td>\n",
              "      <td>9.998839e-01</td>\n",
              "    </tr>\n",
              "  </tbody>\n",
              "</table>\n",
              "</div>"
            ],
            "text/plain": [
              "             pageId       topicId    confidence\n",
              "count  2.811876e+07  2.811876e+07  2.811876e+07\n",
              "mean   5.464478e+06  2.453257e+01  2.457692e-01\n",
              "std    3.142089e+06  1.407157e+01  2.373932e-01\n",
              "min    1.000000e+00  0.000000e+00  1.000002e-02\n",
              "25%    2.679088e+06  1.100000e+01  6.562485e-02\n",
              "50%    5.550003e+06  2.600000e+01  1.684998e-01\n",
              "75%    8.245494e+06  3.500000e+01  3.451548e-01\n",
              "max    1.074326e+07  4.900000e+01  9.998839e-01"
            ]
          },
          "metadata": {
            "tags": []
          },
          "execution_count": 34
        }
      ]
    },
    {
      "cell_type": "code",
      "metadata": {
        "id": "8fDMbivXmaYw",
        "colab_type": "code",
        "colab": {}
      },
      "source": [
        "page_topic['topicId'] = page_topic['topicId'].astype(np.int8)\n",
        "page_topic['confidence'] = page_topic['confidence'].astype(np.float32)"
      ],
      "execution_count": 0,
      "outputs": []
    },
    {
      "cell_type": "code",
      "metadata": {
        "id": "I9Km5LXHbkLi",
        "colab_type": "code",
        "outputId": "3992884c-ade5-4b44-ec29-6cdd9b071334",
        "colab": {
          "base_uri": "https://localhost:8080/",
          "height": 201
        }
      },
      "source": [
        "page_topic.info()"
      ],
      "execution_count": 0,
      "outputs": [
        {
          "output_type": "stream",
          "text": [
            "<class 'pandas.core.frame.DataFrame'>\n",
            "RangeIndex: 28118756 entries, 0 to 28118755\n",
            "Data columns (total 3 columns):\n",
            " #   Column      Dtype  \n",
            "---  ------      -----  \n",
            " 0   pageId      int64  \n",
            " 1   topicId     int8   \n",
            " 2   confidence  float32\n",
            "dtypes: float32(1), int64(1), int8(1)\n",
            "memory usage: 348.6 MB\n"
          ],
          "name": "stdout"
        }
      ]
    },
    {
      "cell_type": "code",
      "metadata": {
        "id": "O_b0TgmMygSk",
        "colab_type": "code",
        "outputId": "0451928e-3abf-42e0-f5ca-1533e0e1b048",
        "colab": {
          "base_uri": "https://localhost:8080/",
          "height": 206
        }
      },
      "source": [
        "user_views.head()"
      ],
      "execution_count": 0,
      "outputs": [
        {
          "output_type": "execute_result",
          "data": {
            "text/html": [
              "<div>\n",
              "<style scoped>\n",
              "    .dataframe tbody tr th:only-of-type {\n",
              "        vertical-align: middle;\n",
              "    }\n",
              "\n",
              "    .dataframe tbody tr th {\n",
              "        vertical-align: top;\n",
              "    }\n",
              "\n",
              "    .dataframe thead th {\n",
              "        text-align: right;\n",
              "    }\n",
              "</style>\n",
              "<table border=\"1\" class=\"dataframe\">\n",
              "  <thead>\n",
              "    <tr style=\"text-align: right;\">\n",
              "      <th></th>\n",
              "      <th>userId</th>\n",
              "      <th>pageId</th>\n",
              "      <th>UVpartOfDay</th>\n",
              "      <th>UVweekend</th>\n",
              "      <th>test</th>\n",
              "    </tr>\n",
              "  </thead>\n",
              "  <tbody>\n",
              "    <tr>\n",
              "      <th>0</th>\n",
              "      <td>821961</td>\n",
              "      <td>8116</td>\n",
              "      <td>2</td>\n",
              "      <td>0</td>\n",
              "      <td>0</td>\n",
              "    </tr>\n",
              "    <tr>\n",
              "      <th>1</th>\n",
              "      <td>15321</td>\n",
              "      <td>9533442</td>\n",
              "      <td>2</td>\n",
              "      <td>0</td>\n",
              "      <td>0</td>\n",
              "    </tr>\n",
              "    <tr>\n",
              "      <th>2</th>\n",
              "      <td>1125090</td>\n",
              "      <td>9410379</td>\n",
              "      <td>2</td>\n",
              "      <td>0</td>\n",
              "      <td>0</td>\n",
              "    </tr>\n",
              "    <tr>\n",
              "      <th>3</th>\n",
              "      <td>407101</td>\n",
              "      <td>8616213</td>\n",
              "      <td>2</td>\n",
              "      <td>0</td>\n",
              "      <td>0</td>\n",
              "    </tr>\n",
              "    <tr>\n",
              "      <th>4</th>\n",
              "      <td>781615</td>\n",
              "      <td>9543366</td>\n",
              "      <td>2</td>\n",
              "      <td>0</td>\n",
              "      <td>0</td>\n",
              "    </tr>\n",
              "  </tbody>\n",
              "</table>\n",
              "</div>"
            ],
            "text/plain": [
              "    userId   pageId  UVpartOfDay  UVweekend  test\n",
              "0   821961     8116            2          0     0\n",
              "1    15321  9533442            2          0     0\n",
              "2  1125090  9410379            2          0     0\n",
              "3   407101  8616213            2          0     0\n",
              "4   781615  9543366            2          0     0"
            ]
          },
          "metadata": {
            "tags": []
          },
          "execution_count": 105
        }
      ]
    },
    {
      "cell_type": "code",
      "metadata": {
        "id": "uboa_zTBl9Qc",
        "colab_type": "code",
        "colab": {}
      },
      "source": [
        "# Compare size of this dataframe before and after preprocessing\n",
        "user_views.info()"
      ],
      "execution_count": 0,
      "outputs": []
    },
    {
      "cell_type": "code",
      "metadata": {
        "id": "UzHM7Gxby7uN",
        "colab_type": "code",
        "colab": {}
      },
      "source": [
        "user_views['timestamp'] = user_views['timestamp'].apply(lambda x: datetime.fromtimestamp(x/1000, tz))"
      ],
      "execution_count": 0,
      "outputs": []
    },
    {
      "cell_type": "code",
      "metadata": {
        "id": "przWVMraZJ_h",
        "colab_type": "code",
        "colab": {}
      },
      "source": [
        "user_views['UVpartOfDay'] = user_views['timestamp'].apply(lambda x: partOfDay(x.hour))\n",
        "user_views['UVweekend'] = user_views['timestamp'].apply(lambda x: weekend(x))\n",
        "user_views.drop('timestamp', axis=1, inplace=True)"
      ],
      "execution_count": 0,
      "outputs": []
    },
    {
      "cell_type": "code",
      "metadata": {
        "id": "W9LG2Gw1iKN0",
        "colab_type": "code",
        "colab": {}
      },
      "source": [
        " #  two different method to convert int64 to int8... both are the same... just wanted to use differet methods\n",
        " user_views['UVpartOfDay'] = pd.to_numeric(user_views[\"UVpartOfDay\"], downcast='integer')\n",
        " user_views['UVweekend'] = user_views['UVweekend'].astype(np.int8)"
      ],
      "execution_count": 0,
      "outputs": []
    },
    {
      "cell_type": "code",
      "metadata": {
        "id": "JFsrYGxi-EPk",
        "colab_type": "code",
        "outputId": "cf9beddd-c1a6-4154-abbb-9d63375ec9ea",
        "colab": {
          "base_uri": "https://localhost:8080/",
          "height": 127
        }
      },
      "source": [
        "user_views.isna().sum()"
      ],
      "execution_count": 0,
      "outputs": [
        {
          "output_type": "execute_result",
          "data": {
            "text/plain": [
              "userId         0\n",
              "pageId         0\n",
              "UVpartOfDay    0\n",
              "UVweekend      0\n",
              "test           0\n",
              "dtype: int64"
            ]
          },
          "metadata": {
            "tags": []
          },
          "execution_count": 106
        }
      ]
    },
    {
      "cell_type": "code",
      "metadata": {
        "id": "9vxeJmzzbfd2",
        "colab_type": "code",
        "outputId": "779b5262-ba4f-4146-b962-3f8379fa8fc1",
        "colab": {
          "base_uri": "https://localhost:8080/",
          "height": 219
        }
      },
      "source": [
        "user_views.info()"
      ],
      "execution_count": 0,
      "outputs": [
        {
          "output_type": "stream",
          "text": [
            "<class 'pandas.core.frame.DataFrame'>\n",
            "RangeIndex: 67229821 entries, 0 to 67229820\n",
            "Data columns (total 4 columns):\n",
            " #   Column       Dtype\n",
            "---  ------       -----\n",
            " 0   userId       int64\n",
            " 1   pageId       int64\n",
            " 2   UVpartOfDay  int8 \n",
            " 3   UVweekend    int8 \n",
            "dtypes: int64(2), int8(2)\n",
            "memory usage: 1.1 GB\n"
          ],
          "name": "stdout"
        }
      ]
    },
    {
      "cell_type": "code",
      "metadata": {
        "id": "pSP31q8sOXaB",
        "colab_type": "code",
        "outputId": "a9085492-14ec-439a-ca0e-acf65ccfbd11",
        "colab": {
          "base_uri": "https://localhost:8080/",
          "height": 182
        }
      },
      "source": [
        "click_test.info()"
      ],
      "execution_count": 0,
      "outputs": [
        {
          "output_type": "stream",
          "text": [
            "<class 'pandas.core.frame.DataFrame'>\n",
            "RangeIndex: 1199048 entries, 0 to 1199047\n",
            "Data columns (total 2 columns):\n",
            " #   Column     Non-Null Count    Dtype\n",
            "---  ------     --------------    -----\n",
            " 0   displayId  1199048 non-null  int64\n",
            " 1   adId       1199048 non-null  int64\n",
            "dtypes: int64(2)\n",
            "memory usage: 18.3 MB\n"
          ],
          "name": "stdout"
        }
      ]
    },
    {
      "cell_type": "code",
      "metadata": {
        "id": "bgJxWjpcN1Oa",
        "colab_type": "code",
        "colab": {}
      },
      "source": [
        "# 3256 --> 8 * 11 * 37 = 88 * 11\n",
        "# advertisements -- advertisements_images -- advertisements_titles -- clicked_train -- event -- page -- page_topic -- user_views\n",
        "def shuffleDF():\n",
        "  global advertisements, advertisements_images, advertisements_titles, clicked_train, event, page, page_topic, user_views\n",
        "  advertisements = shuffle(advertisements, random_state=RANDOM_STATE)\n",
        "  advertisements_images = shuffle(advertisements_images, random_state=RANDOM_STATE)\n",
        "  advertisements_titles = shuffle(advertisements_titles, random_state=RANDOM_STATE)\n",
        "  clicked_train = shuffle(clicked_train, random_state=RANDOM_STATE)\n",
        "  event = shuffle(event, random_state=RANDOM_STATE)\n",
        "  page = shuffle(page, random_state=RANDOM_STATE)\n",
        "  page_topic = shuffle(page_topic, random_state=RANDOM_STATE)\n",
        "  user_views = shuffle(user_views, random_state=RANDOM_STATE)\n",
        "\n",
        "def data_generator(batch_size=44, shuffle_data=True):\n",
        "  '''\n",
        "  **Note: Batch_size is not the size of return dataframe, but it is the size of advertisements dataframe which is the base dataframe to join \n",
        "          other dataframes with!\n",
        "\n",
        "  First shuffle dataframes. Second Left join dataframes, because on joing them some records got lost due to lake of information about them\n",
        "  in other tables. Third fill nan with appropriate value.\n",
        "  '''\n",
        "  if shuffle_data == True:\n",
        "    shuffleDF()\n",
        "  for i in range(0,len(advertisements), batch_size):\n",
        "    temp = advertisements.iloc[i:i+batch_size]\n",
        "    main = pd.merge(temp, advertisements_images, on='adId', how='left')\n",
        "    main = pd.merge(main, advertisements_titles, on='adId', how='left')\n",
        "    main = pd.merge(main, clicked_train, on='adId', how='left')\n",
        "    main = pd.merge(main, event, on='displayId', how='left')\n",
        "    main = pd.merge(main, page, on='pageId', how='left')\n",
        "    main = pd.merge(main, page_topic, on='pageId', how='left')\n",
        "    main = pd.merge(main, user_views, on='userId', how='left')\n",
        "    main.drop(columns=['adId', 'displayId', 'pageId', 'userId'])\n",
        "    # main.drop_duplicates(inplace=True)\n",
        "    print(\"NAN values: \", main.isna().sum(), \"\\tLength\", len(main))\n",
        "    yield main\n",
        "  "
      ],
      "execution_count": 0,
      "outputs": []
    },
    {
      "cell_type": "code",
      "metadata": {
        "id": "RUcD-vAD3yDO",
        "colab_type": "code",
        "outputId": "129e9739-2580-43cc-8740-7f5259769886",
        "colab": {
          "base_uri": "https://localhost:8080/",
          "height": 248
        }
      },
      "source": [
        "generator = data_generator(batch_size=22)\n",
        "for i in range(0, 148): # with batch_size=22 we need 148 iteration, 148 * 22 = 3256 which is the size of advertisements\n",
        "  start = time.time()\n",
        "  next(generator)\n",
        "  print(\"Step: \", i, \"\\tTime: \", time.time()-start)"
      ],
      "execution_count": 0,
      "outputs": [
        {
          "output_type": "error",
          "ename": "NameError",
          "evalue": "ignored",
          "traceback": [
            "\u001b[0;31m---------------------------------------------------------------------------\u001b[0m",
            "\u001b[0;31mNameError\u001b[0m                                 Traceback (most recent call last)",
            "\u001b[0;32m<ipython-input-1-9973efcf7299>\u001b[0m in \u001b[0;36m<module>\u001b[0;34m()\u001b[0m\n\u001b[0;32m----> 1\u001b[0;31m \u001b[0mgenerator\u001b[0m \u001b[0;34m=\u001b[0m \u001b[0mdata_generator\u001b[0m\u001b[0;34m(\u001b[0m\u001b[0mbatch_size\u001b[0m\u001b[0;34m=\u001b[0m\u001b[0;36m22\u001b[0m\u001b[0;34m)\u001b[0m\u001b[0;34m\u001b[0m\u001b[0;34m\u001b[0m\u001b[0m\n\u001b[0m\u001b[1;32m      2\u001b[0m \u001b[0;32mfor\u001b[0m \u001b[0mi\u001b[0m \u001b[0;32min\u001b[0m \u001b[0mrange\u001b[0m\u001b[0;34m(\u001b[0m\u001b[0;36m0\u001b[0m\u001b[0;34m,\u001b[0m \u001b[0;36m148\u001b[0m\u001b[0;34m)\u001b[0m\u001b[0;34m:\u001b[0m \u001b[0;31m# with batch_size=22 we need 148 iteration, 148 * 22 = 3256 which is the size of advertisements\u001b[0m\u001b[0;34m\u001b[0m\u001b[0;34m\u001b[0m\u001b[0m\n\u001b[1;32m      3\u001b[0m   \u001b[0mstart\u001b[0m \u001b[0;34m=\u001b[0m \u001b[0mtime\u001b[0m\u001b[0;34m.\u001b[0m\u001b[0mtime\u001b[0m\u001b[0;34m(\u001b[0m\u001b[0;34m)\u001b[0m\u001b[0;34m\u001b[0m\u001b[0;34m\u001b[0m\u001b[0m\n\u001b[1;32m      4\u001b[0m   \u001b[0mnext\u001b[0m\u001b[0;34m(\u001b[0m\u001b[0mgenerator\u001b[0m\u001b[0;34m)\u001b[0m\u001b[0;34m\u001b[0m\u001b[0;34m\u001b[0m\u001b[0m\n\u001b[1;32m      5\u001b[0m   \u001b[0mprint\u001b[0m\u001b[0;34m(\u001b[0m\u001b[0;34m\"Step: \"\u001b[0m\u001b[0;34m,\u001b[0m \u001b[0mi\u001b[0m\u001b[0;34m,\u001b[0m \u001b[0;34m\"\\tTime: \"\u001b[0m\u001b[0;34m,\u001b[0m \u001b[0mtime\u001b[0m\u001b[0;34m.\u001b[0m\u001b[0mtime\u001b[0m\u001b[0;34m(\u001b[0m\u001b[0;34m)\u001b[0m\u001b[0;34m-\u001b[0m\u001b[0mstart\u001b[0m\u001b[0;34m)\u001b[0m\u001b[0;34m\u001b[0m\u001b[0;34m\u001b[0m\u001b[0m\n",
            "\u001b[0;31mNameError\u001b[0m: name 'data_generator' is not defined"
          ]
        }
      ]
    },
    {
      "cell_type": "code",
      "metadata": {
        "id": "Di5zYsuw-kcM",
        "colab_type": "code",
        "colab": {}
      },
      "source": [
        "main = pd.merge(advertisements, advertisements_images, on='adId')\n",
        "main = pd.merge(main, advertisements_titles, on='adId')\n",
        "main = pd.merge(main, clicked_train, on='adId')\n",
        "main = pd.merge(main, event, on='displayId')"
      ],
      "execution_count": 0,
      "outputs": []
    },
    {
      "cell_type": "code",
      "metadata": {
        "id": "PogkriMNG_Rz",
        "colab_type": "code",
        "colab": {}
      },
      "source": [
        "main = pd.merge(main, page, on='pageId')\n",
        "main = pd.merge(main, page_topic, on='pageId')\n",
        "main = pd.merge(main, user_views, on='userId')"
      ],
      "execution_count": 0,
      "outputs": []
    },
    {
      "cell_type": "code",
      "metadata": {
        "id": "SXdMxXEvDKvo",
        "colab_type": "code",
        "colab": {}
      },
      "source": [
        "main.isna().sum()"
      ],
      "execution_count": 0,
      "outputs": []
    },
    {
      "cell_type": "code",
      "metadata": {
        "id": "zUFbleLhD9pL",
        "colab_type": "code",
        "colab": {}
      },
      "source": [
        "main.describe()"
      ],
      "execution_count": 0,
      "outputs": []
    },
    {
      "cell_type": "code",
      "metadata": {
        "id": "yF5EzYi6Gwxt",
        "colab_type": "code",
        "colab": {}
      },
      "source": [
        "main.head(10)"
      ],
      "execution_count": 0,
      "outputs": []
    },
    {
      "cell_type": "code",
      "metadata": {
        "id": "h-JT3gEzLU13",
        "colab_type": "code",
        "colab": {}
      },
      "source": [
        "main.drop_duplicates(inplace=True)"
      ],
      "execution_count": 0,
      "outputs": []
    },
    {
      "cell_type": "code",
      "metadata": {
        "id": "MNsDKc0NLahY",
        "colab_type": "code",
        "outputId": "8c289b11-1e04-48b4-9624-6314e4377dec",
        "colab": {
          "base_uri": "https://localhost:8080/",
          "height": 35
        }
      },
      "source": [
        "len(main)"
      ],
      "execution_count": 0,
      "outputs": [
        {
          "output_type": "execute_result",
          "data": {
            "text/plain": [
              "71074287"
            ]
          },
          "metadata": {
            "tags": []
          },
          "execution_count": 20
        }
      ]
    },
    {
      "cell_type": "code",
      "metadata": {
        "id": "Eyo6XoY_LbKi",
        "colab_type": "code",
        "colab": {}
      },
      "source": [
        "main = pd.merge(clicked_train, event, on='displayId')"
      ],
      "execution_count": 0,
      "outputs": []
    },
    {
      "cell_type": "code",
      "metadata": {
        "id": "ZSPbXx-INhlw",
        "colab_type": "code",
        "outputId": "e6ed0617-b2a1-4000-d8ca-69c89ed91f87",
        "colab": {
          "base_uri": "https://localhost:8080/",
          "height": 206
        }
      },
      "source": [
        "main.loc[main.displayId == 1210227]"
      ],
      "execution_count": 0,
      "outputs": [
        {
          "output_type": "execute_result",
          "data": {
            "text/html": [
              "<div>\n",
              "<style scoped>\n",
              "    .dataframe tbody tr th:only-of-type {\n",
              "        vertical-align: middle;\n",
              "    }\n",
              "\n",
              "    .dataframe tbody tr th {\n",
              "        vertical-align: top;\n",
              "    }\n",
              "\n",
              "    .dataframe thead th {\n",
              "        text-align: right;\n",
              "    }\n",
              "</style>\n",
              "<table border=\"1\" class=\"dataframe\">\n",
              "  <thead>\n",
              "    <tr style=\"text-align: right;\">\n",
              "      <th></th>\n",
              "      <th>displayId</th>\n",
              "      <th>adId</th>\n",
              "      <th>clicked</th>\n",
              "      <th>timestamp</th>\n",
              "      <th>pageId</th>\n",
              "      <th>widgetId</th>\n",
              "      <th>userId</th>\n",
              "      <th>device</th>\n",
              "      <th>OS</th>\n",
              "      <th>browser</th>\n",
              "    </tr>\n",
              "  </thead>\n",
              "  <tbody>\n",
              "    <tr>\n",
              "      <th>0</th>\n",
              "      <td>1210227</td>\n",
              "      <td>7182</td>\n",
              "      <td>0</td>\n",
              "      <td>1579598863403</td>\n",
              "      <td>420857</td>\n",
              "      <td>9519</td>\n",
              "      <td>782749</td>\n",
              "      <td>0</td>\n",
              "      <td>0</td>\n",
              "      <td>1</td>\n",
              "    </tr>\n",
              "    <tr>\n",
              "      <th>1</th>\n",
              "      <td>1210227</td>\n",
              "      <td>7125</td>\n",
              "      <td>0</td>\n",
              "      <td>1579598863403</td>\n",
              "      <td>420857</td>\n",
              "      <td>9519</td>\n",
              "      <td>782749</td>\n",
              "      <td>0</td>\n",
              "      <td>0</td>\n",
              "      <td>1</td>\n",
              "    </tr>\n",
              "    <tr>\n",
              "      <th>2</th>\n",
              "      <td>1210227</td>\n",
              "      <td>7181</td>\n",
              "      <td>0</td>\n",
              "      <td>1579598863403</td>\n",
              "      <td>420857</td>\n",
              "      <td>9519</td>\n",
              "      <td>782749</td>\n",
              "      <td>0</td>\n",
              "      <td>0</td>\n",
              "      <td>1</td>\n",
              "    </tr>\n",
              "    <tr>\n",
              "      <th>3</th>\n",
              "      <td>1210227</td>\n",
              "      <td>535</td>\n",
              "      <td>0</td>\n",
              "      <td>1579598863403</td>\n",
              "      <td>420857</td>\n",
              "      <td>9519</td>\n",
              "      <td>782749</td>\n",
              "      <td>0</td>\n",
              "      <td>0</td>\n",
              "      <td>1</td>\n",
              "    </tr>\n",
              "    <tr>\n",
              "      <th>4</th>\n",
              "      <td>1210227</td>\n",
              "      <td>7174</td>\n",
              "      <td>1</td>\n",
              "      <td>1579598863403</td>\n",
              "      <td>420857</td>\n",
              "      <td>9519</td>\n",
              "      <td>782749</td>\n",
              "      <td>0</td>\n",
              "      <td>0</td>\n",
              "      <td>1</td>\n",
              "    </tr>\n",
              "  </tbody>\n",
              "</table>\n",
              "</div>"
            ],
            "text/plain": [
              "   displayId  adId  clicked      timestamp  ...  userId  device  OS  browser\n",
              "0    1210227  7182        0  1579598863403  ...  782749       0   0        1\n",
              "1    1210227  7125        0  1579598863403  ...  782749       0   0        1\n",
              "2    1210227  7181        0  1579598863403  ...  782749       0   0        1\n",
              "3    1210227   535        0  1579598863403  ...  782749       0   0        1\n",
              "4    1210227  7174        1  1579598863403  ...  782749       0   0        1\n",
              "\n",
              "[5 rows x 10 columns]"
            ]
          },
          "metadata": {
            "tags": []
          },
          "execution_count": 25
        }
      ]
    },
    {
      "cell_type": "code",
      "metadata": {
        "id": "Jf7mUdl1NyjG",
        "colab_type": "code",
        "outputId": "eaa5342f-4059-4f6f-d54e-82d0a19f5842",
        "colab": {
          "base_uri": "https://localhost:8080/",
          "height": 293
        }
      },
      "source": [
        "main.info()"
      ],
      "execution_count": 0,
      "outputs": [
        {
          "output_type": "stream",
          "text": [
            "<class 'pandas.core.frame.DataFrame'>\n",
            "Int64Index: 3642244 entries, 0 to 3642243\n",
            "Data columns (total 10 columns):\n",
            "displayId    int64\n",
            "adId         int64\n",
            "clicked      int64\n",
            "timestamp    int64\n",
            "pageId       int64\n",
            "widgetId     int64\n",
            "userId       int64\n",
            "device       int64\n",
            "OS           int64\n",
            "browser      int64\n",
            "dtypes: int64(10)\n",
            "memory usage: 305.7 MB\n"
          ],
          "name": "stdout"
        }
      ]
    },
    {
      "cell_type": "code",
      "metadata": {
        "id": "HaE8j2L5N06H",
        "colab_type": "code",
        "outputId": "257ef570-a53a-46e5-f31a-c8bfafc6d8e1",
        "colab": {
          "base_uri": "https://localhost:8080/",
          "height": 219
        }
      },
      "source": [
        "main.isna().sum()"
      ],
      "execution_count": 0,
      "outputs": [
        {
          "output_type": "execute_result",
          "data": {
            "text/plain": [
              "displayId    0\n",
              "adId         0\n",
              "clicked      0\n",
              "timestamp    0\n",
              "pageId       0\n",
              "widgetId     0\n",
              "userId       0\n",
              "device       0\n",
              "OS           0\n",
              "browser      0\n",
              "dtype: int64"
            ]
          },
          "metadata": {
            "tags": []
          },
          "execution_count": 27
        }
      ]
    },
    {
      "cell_type": "code",
      "metadata": {
        "id": "UegIHcN0OM5K",
        "colab_type": "code",
        "colab": {}
      },
      "source": [
        "REG = 10\n",
        "\n",
        "keys = clicked_train.adId.value_counts().keys().tolist()\n",
        "values = clicked_train.adId.value_counts().tolist()\n",
        "toDict = dict(zip(keys, values))\n",
        "\n",
        "probability_table = pd.DataFrame(columns=['adId', 'probability'])"
      ],
      "execution_count": 0,
      "outputs": []
    },
    {
      "cell_type": "code",
      "metadata": {
        "id": "PD_Iq0MyyTiD",
        "colab_type": "code",
        "colab": {}
      },
      "source": [
        "for key, val in toDict.items():\n",
        "  temp = clicked_train[clicked_train.adId == key]\n",
        "  probability = len(temp[temp.clicked == 1]) / (len(temp) + REG)\n",
        "  probability_table = probability_table.append({\"adId\": key, \"probability\": probability}, ignore_index=True)"
      ],
      "execution_count": 0,
      "outputs": []
    },
    {
      "cell_type": "code",
      "metadata": {
        "id": "iLPqVlqbL2Jc",
        "colab_type": "code",
        "outputId": "558431a4-8b6a-403c-8dd2-8bbc64b29d3e",
        "colab": {
          "base_uri": "https://localhost:8080/",
          "height": 206
        }
      },
      "source": [
        "probability_table.head()"
      ],
      "execution_count": 0,
      "outputs": [
        {
          "output_type": "execute_result",
          "data": {
            "text/html": [
              "<div>\n",
              "<style scoped>\n",
              "    .dataframe tbody tr th:only-of-type {\n",
              "        vertical-align: middle;\n",
              "    }\n",
              "\n",
              "    .dataframe tbody tr th {\n",
              "        vertical-align: top;\n",
              "    }\n",
              "\n",
              "    .dataframe thead th {\n",
              "        text-align: right;\n",
              "    }\n",
              "</style>\n",
              "<table border=\"1\" class=\"dataframe\">\n",
              "  <thead>\n",
              "    <tr style=\"text-align: right;\">\n",
              "      <th></th>\n",
              "      <th>adId</th>\n",
              "      <th>probability</th>\n",
              "    </tr>\n",
              "  </thead>\n",
              "  <tbody>\n",
              "    <tr>\n",
              "      <th>0</th>\n",
              "      <td>17.0</td>\n",
              "      <td>0.370849</td>\n",
              "    </tr>\n",
              "    <tr>\n",
              "      <th>1</th>\n",
              "      <td>5486.0</td>\n",
              "      <td>0.213572</td>\n",
              "    </tr>\n",
              "    <tr>\n",
              "      <th>2</th>\n",
              "      <td>535.0</td>\n",
              "      <td>0.294861</td>\n",
              "    </tr>\n",
              "    <tr>\n",
              "      <th>3</th>\n",
              "      <td>6515.0</td>\n",
              "      <td>0.221683</td>\n",
              "    </tr>\n",
              "    <tr>\n",
              "      <th>4</th>\n",
              "      <td>538.0</td>\n",
              "      <td>0.256662</td>\n",
              "    </tr>\n",
              "  </tbody>\n",
              "</table>\n",
              "</div>"
            ],
            "text/plain": [
              "     adId  probability\n",
              "0    17.0     0.370849\n",
              "1  5486.0     0.213572\n",
              "2   535.0     0.294861\n",
              "3  6515.0     0.221683\n",
              "4   538.0     0.256662"
            ]
          },
          "metadata": {
            "tags": []
          },
          "execution_count": 57
        }
      ]
    },
    {
      "cell_type": "code",
      "metadata": {
        "id": "cMViGWp_PEIB",
        "colab_type": "code",
        "colab": {}
      },
      "source": [
        "answer = pd.merge(click_test, probability_table, on='adId')"
      ],
      "execution_count": 0,
      "outputs": []
    },
    {
      "cell_type": "code",
      "metadata": {
        "id": "tQZlGkxGjAk9",
        "colab_type": "code",
        "outputId": "aa503d3c-36c1-4fd4-933d-d5ad546a51fd",
        "colab": {
          "base_uri": "https://localhost:8080/",
          "height": 206
        }
      },
      "source": [
        "answer['rank'] = answer['probability'].rank()\n",
        "answer.head()"
      ],
      "execution_count": 0,
      "outputs": [
        {
          "output_type": "execute_result",
          "data": {
            "text/html": [
              "<div>\n",
              "<style scoped>\n",
              "    .dataframe tbody tr th:only-of-type {\n",
              "        vertical-align: middle;\n",
              "    }\n",
              "\n",
              "    .dataframe tbody tr th {\n",
              "        vertical-align: top;\n",
              "    }\n",
              "\n",
              "    .dataframe thead th {\n",
              "        text-align: right;\n",
              "    }\n",
              "</style>\n",
              "<table border=\"1\" class=\"dataframe\">\n",
              "  <thead>\n",
              "    <tr style=\"text-align: right;\">\n",
              "      <th></th>\n",
              "      <th>displayId</th>\n",
              "      <th>adId</th>\n",
              "      <th>probability</th>\n",
              "      <th>rank</th>\n",
              "    </tr>\n",
              "  </thead>\n",
              "  <tbody>\n",
              "    <tr>\n",
              "      <th>0</th>\n",
              "      <td>151650</td>\n",
              "      <td>6257</td>\n",
              "      <td>0.203549</td>\n",
              "      <td>273863.0</td>\n",
              "    </tr>\n",
              "    <tr>\n",
              "      <th>1</th>\n",
              "      <td>244340</td>\n",
              "      <td>6257</td>\n",
              "      <td>0.203549</td>\n",
              "      <td>273863.0</td>\n",
              "    </tr>\n",
              "    <tr>\n",
              "      <th>2</th>\n",
              "      <td>244398</td>\n",
              "      <td>6257</td>\n",
              "      <td>0.203549</td>\n",
              "      <td>273863.0</td>\n",
              "    </tr>\n",
              "    <tr>\n",
              "      <th>3</th>\n",
              "      <td>244965</td>\n",
              "      <td>6257</td>\n",
              "      <td>0.203549</td>\n",
              "      <td>273863.0</td>\n",
              "    </tr>\n",
              "    <tr>\n",
              "      <th>4</th>\n",
              "      <td>245234</td>\n",
              "      <td>6257</td>\n",
              "      <td>0.203549</td>\n",
              "      <td>273863.0</td>\n",
              "    </tr>\n",
              "  </tbody>\n",
              "</table>\n",
              "</div>"
            ],
            "text/plain": [
              "   displayId  adId  probability      rank\n",
              "0     151650  6257     0.203549  273863.0\n",
              "1     244340  6257     0.203549  273863.0\n",
              "2     244398  6257     0.203549  273863.0\n",
              "3     244965  6257     0.203549  273863.0\n",
              "4     245234  6257     0.203549  273863.0"
            ]
          },
          "metadata": {
            "tags": []
          },
          "execution_count": 8
        }
      ]
    },
    {
      "cell_type": "code",
      "metadata": {
        "id": "Xx9Qr4QIj436",
        "colab_type": "code",
        "outputId": "a9014d7c-c8b4-4729-e7dd-ea29b63d6d00",
        "colab": {
          "base_uri": "https://localhost:8080/",
          "height": 424
        }
      },
      "source": [
        "answer.drop(['probability'], axis=1)"
      ],
      "execution_count": 0,
      "outputs": [
        {
          "output_type": "execute_result",
          "data": {
            "text/html": [
              "<div>\n",
              "<style scoped>\n",
              "    .dataframe tbody tr th:only-of-type {\n",
              "        vertical-align: middle;\n",
              "    }\n",
              "\n",
              "    .dataframe tbody tr th {\n",
              "        vertical-align: top;\n",
              "    }\n",
              "\n",
              "    .dataframe thead th {\n",
              "        text-align: right;\n",
              "    }\n",
              "</style>\n",
              "<table border=\"1\" class=\"dataframe\">\n",
              "  <thead>\n",
              "    <tr style=\"text-align: right;\">\n",
              "      <th></th>\n",
              "      <th>displayId</th>\n",
              "      <th>adId</th>\n",
              "      <th>rank</th>\n",
              "    </tr>\n",
              "  </thead>\n",
              "  <tbody>\n",
              "    <tr>\n",
              "      <th>0</th>\n",
              "      <td>151650</td>\n",
              "      <td>6257</td>\n",
              "      <td>273863.0</td>\n",
              "    </tr>\n",
              "    <tr>\n",
              "      <th>1</th>\n",
              "      <td>244340</td>\n",
              "      <td>6257</td>\n",
              "      <td>273863.0</td>\n",
              "    </tr>\n",
              "    <tr>\n",
              "      <th>2</th>\n",
              "      <td>244398</td>\n",
              "      <td>6257</td>\n",
              "      <td>273863.0</td>\n",
              "    </tr>\n",
              "    <tr>\n",
              "      <th>3</th>\n",
              "      <td>244965</td>\n",
              "      <td>6257</td>\n",
              "      <td>273863.0</td>\n",
              "    </tr>\n",
              "    <tr>\n",
              "      <th>4</th>\n",
              "      <td>245234</td>\n",
              "      <td>6257</td>\n",
              "      <td>273863.0</td>\n",
              "    </tr>\n",
              "    <tr>\n",
              "      <th>...</th>\n",
              "      <td>...</td>\n",
              "      <td>...</td>\n",
              "      <td>...</td>\n",
              "    </tr>\n",
              "    <tr>\n",
              "      <th>804459</th>\n",
              "      <td>1327609</td>\n",
              "      <td>7168</td>\n",
              "      <td>62053.0</td>\n",
              "    </tr>\n",
              "    <tr>\n",
              "      <th>804460</th>\n",
              "      <td>1327627</td>\n",
              "      <td>7168</td>\n",
              "      <td>62053.0</td>\n",
              "    </tr>\n",
              "    <tr>\n",
              "      <th>804461</th>\n",
              "      <td>1327877</td>\n",
              "      <td>7168</td>\n",
              "      <td>62053.0</td>\n",
              "    </tr>\n",
              "    <tr>\n",
              "      <th>804462</th>\n",
              "      <td>1328140</td>\n",
              "      <td>7168</td>\n",
              "      <td>62053.0</td>\n",
              "    </tr>\n",
              "    <tr>\n",
              "      <th>804463</th>\n",
              "      <td>1328722</td>\n",
              "      <td>7168</td>\n",
              "      <td>62053.0</td>\n",
              "    </tr>\n",
              "  </tbody>\n",
              "</table>\n",
              "<p>804464 rows × 3 columns</p>\n",
              "</div>"
            ],
            "text/plain": [
              "        displayId  adId      rank\n",
              "0          151650  6257  273863.0\n",
              "1          244340  6257  273863.0\n",
              "2          244398  6257  273863.0\n",
              "3          244965  6257  273863.0\n",
              "4          245234  6257  273863.0\n",
              "...           ...   ...       ...\n",
              "804459    1327609  7168   62053.0\n",
              "804460    1327627  7168   62053.0\n",
              "804461    1327877  7168   62053.0\n",
              "804462    1328140  7168   62053.0\n",
              "804463    1328722  7168   62053.0\n",
              "\n",
              "[804464 rows x 3 columns]"
            ]
          },
          "metadata": {
            "tags": []
          },
          "execution_count": 9
        }
      ]
    },
    {
      "cell_type": "code",
      "metadata": {
        "id": "2Mi-ObSwj-PD",
        "colab_type": "code",
        "colab": {}
      },
      "source": [
        "answer.to_csv('answer.csv', index=False)"
      ],
      "execution_count": 0,
      "outputs": []
    },
    {
      "cell_type": "code",
      "metadata": {
        "id": "2Ax0a-pAPm8j",
        "colab_type": "code",
        "outputId": "8dcf3c3c-5620-4ad4-ac60-bcaa2b4846b3",
        "colab": {
          "base_uri": "https://localhost:8080/",
          "height": 182
        }
      },
      "source": [
        "user_views_stats = user_views['timestamp'].describe()\n",
        "user_views_stats"
      ],
      "execution_count": 0,
      "outputs": [
        {
          "output_type": "execute_result",
          "data": {
            "text/plain": [
              "count    6.722982e+07\n",
              "mean     1.579000e+12\n",
              "std      3.399870e+08\n",
              "min      1.578429e+12\n",
              "25%      1.578721e+12\n",
              "50%      1.578984e+12\n",
              "75%      1.579313e+12\n",
              "max      1.579599e+12\n",
              "Name: timestamp, dtype: float64"
            ]
          },
          "metadata": {
            "tags": []
          },
          "execution_count": 10
        }
      ]
    },
    {
      "cell_type": "code",
      "metadata": {
        "id": "HN_3vIEASXnw",
        "colab_type": "code",
        "colab": {}
      },
      "source": [
        "from datetime import datetime\n",
        "def convert_timestamps(timeStamp):\n",
        "  return datetime.fromtimestamp(int(timeStamp) // 1000)"
      ],
      "execution_count": 0,
      "outputs": []
    },
    {
      "cell_type": "code",
      "metadata": {
        "id": "TVEhg15RS7_s",
        "colab_type": "code",
        "outputId": "7a5c1a94-1f59-43f5-93f9-bf006897c6fe",
        "colab": {
          "base_uri": "https://localhost:8080/",
          "height": 35
        }
      },
      "source": [
        "print(convert_timestamps(user_views_stats['min']))"
      ],
      "execution_count": 0,
      "outputs": [
        {
          "output_type": "stream",
          "text": [
            "2020-01-07 20:30:00\n"
          ],
          "name": "stdout"
        }
      ]
    },
    {
      "cell_type": "code",
      "metadata": {
        "id": "NFUZxzSDTHHC",
        "colab_type": "code",
        "outputId": "b4d282f2-f679-4d27-8ef1-bebbffe3b22c",
        "colab": {
          "base_uri": "https://localhost:8080/",
          "height": 35
        }
      },
      "source": [
        "print(convert_timestamps(user_views_stats['max']))"
      ],
      "execution_count": 0,
      "outputs": [
        {
          "output_type": "stream",
          "text": [
            "2020-01-21 09:33:31\n"
          ],
          "name": "stdout"
        }
      ]
    },
    {
      "cell_type": "code",
      "metadata": {
        "id": "ISupLHg1nKMY",
        "colab_type": "code",
        "colab": {}
      },
      "source": [
        "views = pd.DataFrame(event.pivot_table(index=['userId'], aggfunc='size'), columns=['count'])\n",
        "views = pd.DataFrame(views.reset_index().groupby('count')['userId'].count()).reset_index()\n",
        "views.rename(columns={'count': 'No.views', 'userId': 'userCount'}, inplace=True)"
      ],
      "execution_count": 0,
      "outputs": []
    },
    {
      "cell_type": "code",
      "metadata": {
        "id": "ppS0eE4ky1yq",
        "colab_type": "code",
        "outputId": "e33750b2-f675-43f2-b443-c6e4ed853068",
        "colab": {
          "base_uri": "https://localhost:8080/",
          "height": 206
        }
      },
      "source": [
        "views.head()"
      ],
      "execution_count": 0,
      "outputs": [
        {
          "output_type": "execute_result",
          "data": {
            "text/html": [
              "<div>\n",
              "<style scoped>\n",
              "    .dataframe tbody tr th:only-of-type {\n",
              "        vertical-align: middle;\n",
              "    }\n",
              "\n",
              "    .dataframe tbody tr th {\n",
              "        vertical-align: top;\n",
              "    }\n",
              "\n",
              "    .dataframe thead th {\n",
              "        text-align: right;\n",
              "    }\n",
              "</style>\n",
              "<table border=\"1\" class=\"dataframe\">\n",
              "  <thead>\n",
              "    <tr style=\"text-align: right;\">\n",
              "      <th></th>\n",
              "      <th>No.views</th>\n",
              "      <th>userCount</th>\n",
              "    </tr>\n",
              "  </thead>\n",
              "  <tbody>\n",
              "    <tr>\n",
              "      <th>0</th>\n",
              "      <td>1</td>\n",
              "      <td>695721</td>\n",
              "    </tr>\n",
              "    <tr>\n",
              "      <th>1</th>\n",
              "      <td>2</td>\n",
              "      <td>104153</td>\n",
              "    </tr>\n",
              "    <tr>\n",
              "      <th>2</th>\n",
              "      <td>3</td>\n",
              "      <td>26886</td>\n",
              "    </tr>\n",
              "    <tr>\n",
              "      <th>3</th>\n",
              "      <td>4</td>\n",
              "      <td>9270</td>\n",
              "    </tr>\n",
              "    <tr>\n",
              "      <th>4</th>\n",
              "      <td>5</td>\n",
              "      <td>3768</td>\n",
              "    </tr>\n",
              "  </tbody>\n",
              "</table>\n",
              "</div>"
            ],
            "text/plain": [
              "   No.views  userCount\n",
              "0         1     695721\n",
              "1         2     104153\n",
              "2         3      26886\n",
              "3         4       9270\n",
              "4         5       3768"
            ]
          },
          "metadata": {
            "tags": []
          },
          "execution_count": 15
        }
      ]
    },
    {
      "cell_type": "code",
      "metadata": {
        "id": "BMkyIJG00zHY",
        "colab_type": "code",
        "outputId": "42d9f021-2a2f-4d98-c8bb-587b82077df1",
        "colab": {
          "base_uri": "https://localhost:8080/",
          "height": 35
        }
      },
      "source": [
        "distinct_users_count = views['userCount'].sum()\n",
        "distinct_users_count"
      ],
      "execution_count": 0,
      "outputs": [
        {
          "output_type": "execute_result",
          "data": {
            "text/plain": [
              "844374"
            ]
          },
          "metadata": {
            "tags": []
          },
          "execution_count": 16
        }
      ]
    },
    {
      "cell_type": "code",
      "metadata": {
        "id": "osZ7A6sS2mxg",
        "colab_type": "code",
        "outputId": "75bf087a-ad52-47b0-ba6e-3f7758b14dc8",
        "colab": {
          "base_uri": "https://localhost:8080/",
          "height": 286
        }
      },
      "source": [
        "views.head(20).plot.bar(y='userCount')"
      ],
      "execution_count": 0,
      "outputs": [
        {
          "output_type": "execute_result",
          "data": {
            "text/plain": [
              "<matplotlib.axes._subplots.AxesSubplot at 0x7f345f0cb400>"
            ]
          },
          "metadata": {
            "tags": []
          },
          "execution_count": 10
        },
        {
          "output_type": "display_data",
          "data": {
            "image/png": "[encoded data removed]",
            "text/plain": [
              "<Figure size 432x288 with 1 Axes>"
            ]
          },
          "metadata": {
            "tags": []
          }
        }
      ]
    },
    {
      "cell_type": "code",
      "metadata": {
        "id": "0-cieQfwbdOb",
        "colab_type": "code",
        "outputId": "a5b28991-65fa-4a4e-d62e-50ede704fde0",
        "colab": {
          "base_uri": "https://localhost:8080/",
          "height": 283
        }
      },
      "source": [
        "views['CumSum'] = (views['userCount'].cumsum() / distinct_users_count) * 100\n",
        "views.head(20).plot.line(y='CumSum')"
      ],
      "execution_count": 0,
      "outputs": [
        {
          "output_type": "execute_result",
          "data": {
            "text/plain": [
              "<matplotlib.axes._subplots.AxesSubplot at 0x7f345e83ea20>"
            ]
          },
          "metadata": {
            "tags": []
          },
          "execution_count": 11
        },
        {
          "output_type": "display_data",
          "data": {
            "image/png": "[encoded data removed]",
            "text/plain": [
              "<Figure size 432x288 with 1 Axes>"
            ]
          },
          "metadata": {
            "tags": []
          }
        }
      ]
    },
    {
      "cell_type": "code",
      "metadata": {
        "id": "wS9-p_nJcCuO",
        "colab_type": "code",
        "colab": {}
      },
      "source": [
        ""
      ],
      "execution_count": 0,
      "outputs": []
    }
  ]
}