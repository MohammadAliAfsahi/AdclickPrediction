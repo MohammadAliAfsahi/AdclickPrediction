{
  "nbformat": 4,
  "nbformat_minor": 0,
  "metadata": {
    "colab": {
      "name": "DataDays.ipynb",
      "provenance": [],
      "collapsed_sections": [],
      "machine_shape": "hm",
      "mount_file_id": "1fZCUeCmmjzKOYNInC1tq02Th78ITW0pF",
      "authorship_tag": "ABX9TyMpi/HfnxI35piEGPAAgJG+",
      "include_colab_link": true
    },
    "kernelspec": {
      "name": "python3",
      "display_name": "Python 3"
    },
    "accelerator": "TPU"
  },
  "cells": [
    {
      "cell_type": "markdown",
      "metadata": {
        "id": "view-in-github",
        "colab_type": "text"
      },
      "source": [
        "<a href=\"https://colab.research.google.com/github/MohammadAliAfsahi/AdclickPrediction/blob/master/DataDays.ipynb\" target=\"_parent\"><img src=\"https://colab.research.google.com/assets/colab-badge.svg\" alt=\"Open In Colab\"/></a>"
      ]
    },
    {
      "cell_type": "code",
      "metadata": {
        "id": "meVMudJcLBvi",
        "colab_type": "code",
        "outputId": "4287a18a-787b-4c3a-df36-be8b8366a30b",
        "colab": {
          "base_uri": "https://localhost:8080/",
          "height": 35
        }
      },
      "source": [
        "from google.colab import drive\n",
        "drive.mount('/content/drive')"
      ],
      "execution_count": 1,
      "outputs": [
        {
          "output_type": "stream",
          "text": [
            "Drive already mounted at /content/drive; to attempt to forcibly remount, call drive.mount(\"/content/drive\", force_remount=True).\n"
          ],
          "name": "stdout"
        }
      ]
    },
    {
      "cell_type": "code",
      "metadata": {
        "id": "dynuQ7D8Ld_n",
        "colab_type": "code",
        "outputId": "07d085b9-441a-49b4-8f78-16ae447a4ddd",
        "colab": {
          "base_uri": "https://localhost:8080/",
          "height": 72
        }
      },
      "source": [
        "!ls '/content/drive/My Drive/datadays2020_contest_public_dataset'"
      ],
      "execution_count": 2,
      "outputs": [
        {
          "output_type": "stream",
          "text": [
            "ad.csv\t      click_test.csv   page.csv\n",
            "ad_image.csv  click_train.csv  page_topic.csv\n",
            "ad_title.csv  event.csv        user_page_view.csv\n"
          ],
          "name": "stdout"
        }
      ]
    },
    {
      "cell_type": "code",
      "metadata": {
        "id": "NVeM7dhDgprw",
        "colab_type": "code",
        "colab": {}
      },
      "source": [
        "import numpy as np\n",
        "import matplotlib.pyplot as plt\n",
        "from sklearn import preprocessing\n",
        "import ast\n",
        "import pandas as pd"
      ],
      "execution_count": 0,
      "outputs": []
    },
    {
      "cell_type": "code",
      "metadata": {
        "id": "_2FZ88ASL6Mq",
        "colab_type": "code",
        "colab": {}
      },
      "source": [
        "path = '/content/drive/My Drive/datadays2020_contest_public_dataset/'\n",
        "\n",
        "advertisements = pd.read_csv(path + 'ad.csv')\n",
        "advertisements_images = pd.read_csv(path + 'ad_image.csv')\n",
        "advertisements_titles = pd.read_csv(path + 'ad_title.csv')\n",
        "clicked_train = pd.read_csv(path + 'click_train.csv')\n",
        "event = pd.read_csv(path + 'event.csv')\n",
        "page = pd.read_csv(path + 'page.csv')\n",
        "page_topic = pd.read_csv(path + 'page_topic.csv')\n",
        "user_views = pd.read_csv(path + 'user_page_view.csv')\n",
        "\n",
        "click_test = pd.read_csv(path + 'click_test.csv')"
      ],
      "execution_count": 0,
      "outputs": []
    },
    {
      "cell_type": "code",
      "metadata": {
        "id": "0v6j-WluPZIb",
        "colab_type": "code",
        "outputId": "05d1bd41-82e0-4cdc-be7c-f33599967bdc",
        "colab": {
          "base_uri": "https://localhost:8080/",
          "height": 206
        }
      },
      "source": [
        "advertisements.head()"
      ],
      "execution_count": 5,
      "outputs": [
        {
          "output_type": "execute_result",
          "data": {
            "text/html": [
              "<div>\n",
              "<style scoped>\n",
              "    .dataframe tbody tr th:only-of-type {\n",
              "        vertical-align: middle;\n",
              "    }\n",
              "\n",
              "    .dataframe tbody tr th {\n",
              "        vertical-align: top;\n",
              "    }\n",
              "\n",
              "    .dataframe thead th {\n",
              "        text-align: right;\n",
              "    }\n",
              "</style>\n",
              "<table border=\"1\" class=\"dataframe\">\n",
              "  <thead>\n",
              "    <tr style=\"text-align: right;\">\n",
              "      <th></th>\n",
              "      <th>adId</th>\n",
              "      <th>campaignId</th>\n",
              "      <th>advertiserId</th>\n",
              "    </tr>\n",
              "  </thead>\n",
              "  <tbody>\n",
              "    <tr>\n",
              "      <th>0</th>\n",
              "      <td>7867</td>\n",
              "      <td>5918</td>\n",
              "      <td>8414</td>\n",
              "    </tr>\n",
              "    <tr>\n",
              "      <th>1</th>\n",
              "      <td>7866</td>\n",
              "      <td>5918</td>\n",
              "      <td>8414</td>\n",
              "    </tr>\n",
              "    <tr>\n",
              "      <th>2</th>\n",
              "      <td>7865</td>\n",
              "      <td>5918</td>\n",
              "      <td>8414</td>\n",
              "    </tr>\n",
              "    <tr>\n",
              "      <th>3</th>\n",
              "      <td>7863</td>\n",
              "      <td>8343</td>\n",
              "      <td>8414</td>\n",
              "    </tr>\n",
              "    <tr>\n",
              "      <th>4</th>\n",
              "      <td>7862</td>\n",
              "      <td>8343</td>\n",
              "      <td>8414</td>\n",
              "    </tr>\n",
              "  </tbody>\n",
              "</table>\n",
              "</div>"
            ],
            "text/plain": [
              "   adId  campaignId  advertiserId\n",
              "0  7867        5918          8414\n",
              "1  7866        5918          8414\n",
              "2  7865        5918          8414\n",
              "3  7863        8343          8414\n",
              "4  7862        8343          8414"
            ]
          },
          "metadata": {
            "tags": []
          },
          "execution_count": 5
        }
      ]
    },
    {
      "cell_type": "code",
      "metadata": {
        "id": "5Ze1Bjd59hU_",
        "colab_type": "code",
        "colab": {
          "base_uri": "https://localhost:8080/",
          "height": 90
        },
        "outputId": "b1caa3b9-8cf5-4b41-d0aa-94fe441a706b"
      },
      "source": [
        "advertisements.isna().sum()"
      ],
      "execution_count": 22,
      "outputs": [
        {
          "output_type": "execute_result",
          "data": {
            "text/plain": [
              "adId            0\n",
              "campaignId      0\n",
              "advertiserId    0\n",
              "dtype: int64"
            ]
          },
          "metadata": {
            "tags": []
          },
          "execution_count": 22
        }
      ]
    },
    {
      "cell_type": "code",
      "metadata": {
        "id": "-podg_fae4ie",
        "colab_type": "code",
        "outputId": "d4f635fd-b467-4fae-b0b8-555bebfbc4e6",
        "colab": {
          "base_uri": "https://localhost:8080/",
          "height": 72
        }
      },
      "source": [
        "print(\"# of unique advertisements : \", advertisements.loc[:, 'adId'].nunique())\n",
        "print(\"# of unique campaigns : \", advertisements.loc[:, 'campaignId'].nunique())\n",
        "print(\"# of unique advertisers : \", advertisements.loc[:, 'advertiserId'].nunique())"
      ],
      "execution_count": 6,
      "outputs": [
        {
          "output_type": "stream",
          "text": [
            "# of unique advertisements :  3256\n",
            "# of unique campaigns :  528\n",
            "# of unique advertisers :  213\n"
          ],
          "name": "stdout"
        }
      ]
    },
    {
      "cell_type": "code",
      "metadata": {
        "id": "KSjgUDROjbd4",
        "colab_type": "code",
        "outputId": "36135c74-81bd-4286-9efa-a49346c8100d",
        "colab": {
          "base_uri": "https://localhost:8080/",
          "height": 201
        }
      },
      "source": [
        "advertisements.info()"
      ],
      "execution_count": 7,
      "outputs": [
        {
          "output_type": "stream",
          "text": [
            "<class 'pandas.core.frame.DataFrame'>\n",
            "RangeIndex: 3256 entries, 0 to 3255\n",
            "Data columns (total 3 columns):\n",
            " #   Column        Non-Null Count  Dtype\n",
            "---  ------        --------------  -----\n",
            " 0   adId          3256 non-null   int64\n",
            " 1   campaignId    3256 non-null   int64\n",
            " 2   advertiserId  3256 non-null   int64\n",
            "dtypes: int64(3)\n",
            "memory usage: 76.4 KB\n"
          ],
          "name": "stdout"
        }
      ]
    },
    {
      "cell_type": "code",
      "metadata": {
        "id": "qOF20iALsH1z",
        "colab_type": "code",
        "outputId": "69c522a1-d6da-4c33-a573-3c82893f50cc",
        "colab": {
          "base_uri": "https://localhost:8080/",
          "height": 300
        }
      },
      "source": [
        "advertisements.describe()"
      ],
      "execution_count": 8,
      "outputs": [
        {
          "output_type": "execute_result",
          "data": {
            "text/html": [
              "<div>\n",
              "<style scoped>\n",
              "    .dataframe tbody tr th:only-of-type {\n",
              "        vertical-align: middle;\n",
              "    }\n",
              "\n",
              "    .dataframe tbody tr th {\n",
              "        vertical-align: top;\n",
              "    }\n",
              "\n",
              "    .dataframe thead th {\n",
              "        text-align: right;\n",
              "    }\n",
              "</style>\n",
              "<table border=\"1\" class=\"dataframe\">\n",
              "  <thead>\n",
              "    <tr style=\"text-align: right;\">\n",
              "      <th></th>\n",
              "      <th>adId</th>\n",
              "      <th>campaignId</th>\n",
              "      <th>advertiserId</th>\n",
              "    </tr>\n",
              "  </thead>\n",
              "  <tbody>\n",
              "    <tr>\n",
              "      <th>count</th>\n",
              "      <td>3256.000000</td>\n",
              "      <td>3256.000000</td>\n",
              "      <td>3256.000000</td>\n",
              "    </tr>\n",
              "    <tr>\n",
              "      <th>mean</th>\n",
              "      <td>5624.645577</td>\n",
              "      <td>4958.381757</td>\n",
              "      <td>5638.853194</td>\n",
              "    </tr>\n",
              "    <tr>\n",
              "      <th>std</th>\n",
              "      <td>1957.739025</td>\n",
              "      <td>2678.464798</td>\n",
              "      <td>2722.979337</td>\n",
              "    </tr>\n",
              "    <tr>\n",
              "      <th>min</th>\n",
              "      <td>6.000000</td>\n",
              "      <td>30.000000</td>\n",
              "      <td>1.000000</td>\n",
              "    </tr>\n",
              "    <tr>\n",
              "      <th>25%</th>\n",
              "      <td>5220.750000</td>\n",
              "      <td>2664.750000</td>\n",
              "      <td>3137.000000</td>\n",
              "    </tr>\n",
              "    <tr>\n",
              "      <th>50%</th>\n",
              "      <td>6150.500000</td>\n",
              "      <td>5095.000000</td>\n",
              "      <td>6572.000000</td>\n",
              "    </tr>\n",
              "    <tr>\n",
              "      <th>75%</th>\n",
              "      <td>6994.250000</td>\n",
              "      <td>7270.000000</td>\n",
              "      <td>8078.000000</td>\n",
              "    </tr>\n",
              "    <tr>\n",
              "      <th>max</th>\n",
              "      <td>7867.000000</td>\n",
              "      <td>9523.000000</td>\n",
              "      <td>10749.000000</td>\n",
              "    </tr>\n",
              "  </tbody>\n",
              "</table>\n",
              "</div>"
            ],
            "text/plain": [
              "              adId   campaignId  advertiserId\n",
              "count  3256.000000  3256.000000   3256.000000\n",
              "mean   5624.645577  4958.381757   5638.853194\n",
              "std    1957.739025  2678.464798   2722.979337\n",
              "min       6.000000    30.000000      1.000000\n",
              "25%    5220.750000  2664.750000   3137.000000\n",
              "50%    6150.500000  5095.000000   6572.000000\n",
              "75%    6994.250000  7270.000000   8078.000000\n",
              "max    7867.000000  9523.000000  10749.000000"
            ]
          },
          "metadata": {
            "tags": []
          },
          "execution_count": 8
        }
      ]
    },
    {
      "cell_type": "code",
      "metadata": {
        "id": "UtvD4AOMPY-W",
        "colab_type": "code",
        "outputId": "8714b8b0-9847-46fd-dec5-f1934323e576",
        "colab": {
          "base_uri": "https://localhost:8080/",
          "height": 206
        }
      },
      "source": [
        "advertisements_images.head()"
      ],
      "execution_count": 9,
      "outputs": [
        {
          "output_type": "execute_result",
          "data": {
            "text/html": [
              "<div>\n",
              "<style scoped>\n",
              "    .dataframe tbody tr th:only-of-type {\n",
              "        vertical-align: middle;\n",
              "    }\n",
              "\n",
              "    .dataframe tbody tr th {\n",
              "        vertical-align: top;\n",
              "    }\n",
              "\n",
              "    .dataframe thead th {\n",
              "        text-align: right;\n",
              "    }\n",
              "</style>\n",
              "<table border=\"1\" class=\"dataframe\">\n",
              "  <thead>\n",
              "    <tr style=\"text-align: right;\">\n",
              "      <th></th>\n",
              "      <th>adId</th>\n",
              "      <th>imageFeatures</th>\n",
              "    </tr>\n",
              "  </thead>\n",
              "  <tbody>\n",
              "    <tr>\n",
              "      <th>0</th>\n",
              "      <td>7867</td>\n",
              "      <td>[0.0524589940905571, 0.0, 0.04262353479862213,...</td>\n",
              "    </tr>\n",
              "    <tr>\n",
              "      <th>1</th>\n",
              "      <td>7866</td>\n",
              "      <td>[0.0032160670962184668, 0.1444239318370819, 0....</td>\n",
              "    </tr>\n",
              "    <tr>\n",
              "      <th>2</th>\n",
              "      <td>7865</td>\n",
              "      <td>[0.027210379019379616, 0.0, 0.5133526921272278...</td>\n",
              "    </tr>\n",
              "    <tr>\n",
              "      <th>3</th>\n",
              "      <td>7863</td>\n",
              "      <td>[0.0013980235671624541, 0.0, 0.0, 0.0455568209...</td>\n",
              "    </tr>\n",
              "    <tr>\n",
              "      <th>4</th>\n",
              "      <td>7862</td>\n",
              "      <td>[0.02426762878894806, 0.026081759482622147, 0....</td>\n",
              "    </tr>\n",
              "  </tbody>\n",
              "</table>\n",
              "</div>"
            ],
            "text/plain": [
              "   adId                                      imageFeatures\n",
              "0  7867  [0.0524589940905571, 0.0, 0.04262353479862213,...\n",
              "1  7866  [0.0032160670962184668, 0.1444239318370819, 0....\n",
              "2  7865  [0.027210379019379616, 0.0, 0.5133526921272278...\n",
              "3  7863  [0.0013980235671624541, 0.0, 0.0, 0.0455568209...\n",
              "4  7862  [0.02426762878894806, 0.026081759482622147, 0...."
            ]
          },
          "metadata": {
            "tags": []
          },
          "execution_count": 9
        }
      ]
    },
    {
      "cell_type": "code",
      "metadata": {
        "id": "cUpmP3ap9mzw",
        "colab_type": "code",
        "colab": {
          "base_uri": "https://localhost:8080/",
          "height": 72
        },
        "outputId": "442dbd01-dcbf-4495-ca24-6ffb66334231"
      },
      "source": [
        "advertisements_images.isna().sum()"
      ],
      "execution_count": 23,
      "outputs": [
        {
          "output_type": "execute_result",
          "data": {
            "text/plain": [
              "adId             0\n",
              "imageFeatures    0\n",
              "dtype: int64"
            ]
          },
          "metadata": {
            "tags": []
          },
          "execution_count": 23
        }
      ]
    },
    {
      "cell_type": "code",
      "metadata": {
        "id": "5hk3zIHs5cua",
        "colab_type": "code",
        "colab": {}
      },
      "source": [
        "advertisements_images['image'] = advertisements_images.apply(lambda x: ast.literal_eval(x['imageFeatures']), axis=1)\n",
        "advertisements_images['imageFeatures'] = advertisements_images['image']\n",
        "advertisements_images.drop('image', axis=1, inplace=True)"
      ],
      "execution_count": 0,
      "outputs": []
    },
    {
      "cell_type": "code",
      "metadata": {
        "id": "iGqH1pO8P17-",
        "colab_type": "code",
        "colab": {
          "base_uri": "https://localhost:8080/",
          "height": 206
        },
        "outputId": "b275e917-97f3-4f2b-e341-93205724c8a7"
      },
      "source": [
        "advertisements_titles.head()"
      ],
      "execution_count": 11,
      "outputs": [
        {
          "output_type": "execute_result",
          "data": {
            "text/html": [
              "<div>\n",
              "<style scoped>\n",
              "    .dataframe tbody tr th:only-of-type {\n",
              "        vertical-align: middle;\n",
              "    }\n",
              "\n",
              "    .dataframe tbody tr th {\n",
              "        vertical-align: top;\n",
              "    }\n",
              "\n",
              "    .dataframe thead th {\n",
              "        text-align: right;\n",
              "    }\n",
              "</style>\n",
              "<table border=\"1\" class=\"dataframe\">\n",
              "  <thead>\n",
              "    <tr style=\"text-align: right;\">\n",
              "      <th></th>\n",
              "      <th>adId</th>\n",
              "      <th>wordId</th>\n",
              "    </tr>\n",
              "  </thead>\n",
              "  <tbody>\n",
              "    <tr>\n",
              "      <th>0</th>\n",
              "      <td>6</td>\n",
              "      <td>24</td>\n",
              "    </tr>\n",
              "    <tr>\n",
              "      <th>1</th>\n",
              "      <td>6</td>\n",
              "      <td>25</td>\n",
              "    </tr>\n",
              "    <tr>\n",
              "      <th>2</th>\n",
              "      <td>6</td>\n",
              "      <td>26</td>\n",
              "    </tr>\n",
              "    <tr>\n",
              "      <th>3</th>\n",
              "      <td>6</td>\n",
              "      <td>27</td>\n",
              "    </tr>\n",
              "    <tr>\n",
              "      <th>4</th>\n",
              "      <td>6</td>\n",
              "      <td>28</td>\n",
              "    </tr>\n",
              "  </tbody>\n",
              "</table>\n",
              "</div>"
            ],
            "text/plain": [
              "   adId  wordId\n",
              "0     6      24\n",
              "1     6      25\n",
              "2     6      26\n",
              "3     6      27\n",
              "4     6      28"
            ]
          },
          "metadata": {
            "tags": []
          },
          "execution_count": 11
        }
      ]
    },
    {
      "cell_type": "code",
      "metadata": {
        "id": "fioECT7o9qpl",
        "colab_type": "code",
        "colab": {
          "base_uri": "https://localhost:8080/",
          "height": 72
        },
        "outputId": "dc62d34d-dd55-4586-ea5e-dc5d765e71ec"
      },
      "source": [
        "advertisements_titles.isna().sum()"
      ],
      "execution_count": 24,
      "outputs": [
        {
          "output_type": "execute_result",
          "data": {
            "text/plain": [
              "adId      0\n",
              "wordId    0\n",
              "dtype: int64"
            ]
          },
          "metadata": {
            "tags": []
          },
          "execution_count": 24
        }
      ]
    },
    {
      "cell_type": "code",
      "metadata": {
        "id": "7BkRZ5P3pfNC",
        "colab_type": "code",
        "outputId": "4fbb309c-7200-4401-f258-7d2c6ed83fd3",
        "colab": {
          "base_uri": "https://localhost:8080/",
          "height": 283
        }
      },
      "source": [
        "advertisements_titles.boxplot(column=['adId', 'wordId'])"
      ],
      "execution_count": 12,
      "outputs": [
        {
          "output_type": "execute_result",
          "data": {
            "text/plain": [
              "<matplotlib.axes._subplots.AxesSubplot at 0x7f6e9dd304a8>"
            ]
          },
          "metadata": {
            "tags": []
          },
          "execution_count": 12
        },
        {
          "output_type": "display_data",
          "data": {
            "image/png": "[encoded data removed]",
            "text/plain": [
              "<Figure size 432x288 with 1 Axes>"
            ]
          },
          "metadata": {
            "tags": [],
            "needs_background": "light"
          }
        }
      ]
    },
    {
      "cell_type": "code",
      "metadata": {
        "id": "MasstHjLP4eh",
        "colab_type": "code",
        "outputId": "9e9139bf-a8bc-4c65-888d-1935b8edfa93",
        "colab": {
          "base_uri": "https://localhost:8080/",
          "height": 206
        }
      },
      "source": [
        "clicked_train.head()"
      ],
      "execution_count": 13,
      "outputs": [
        {
          "output_type": "execute_result",
          "data": {
            "text/html": [
              "<div>\n",
              "<style scoped>\n",
              "    .dataframe tbody tr th:only-of-type {\n",
              "        vertical-align: middle;\n",
              "    }\n",
              "\n",
              "    .dataframe tbody tr th {\n",
              "        vertical-align: top;\n",
              "    }\n",
              "\n",
              "    .dataframe thead th {\n",
              "        text-align: right;\n",
              "    }\n",
              "</style>\n",
              "<table border=\"1\" class=\"dataframe\">\n",
              "  <thead>\n",
              "    <tr style=\"text-align: right;\">\n",
              "      <th></th>\n",
              "      <th>displayId</th>\n",
              "      <th>adId</th>\n",
              "      <th>clicked</th>\n",
              "    </tr>\n",
              "  </thead>\n",
              "  <tbody>\n",
              "    <tr>\n",
              "      <th>0</th>\n",
              "      <td>1210227</td>\n",
              "      <td>7182</td>\n",
              "      <td>0</td>\n",
              "    </tr>\n",
              "    <tr>\n",
              "      <th>1</th>\n",
              "      <td>1210227</td>\n",
              "      <td>7125</td>\n",
              "      <td>0</td>\n",
              "    </tr>\n",
              "    <tr>\n",
              "      <th>2</th>\n",
              "      <td>1210227</td>\n",
              "      <td>7181</td>\n",
              "      <td>0</td>\n",
              "    </tr>\n",
              "    <tr>\n",
              "      <th>3</th>\n",
              "      <td>1210227</td>\n",
              "      <td>535</td>\n",
              "      <td>0</td>\n",
              "    </tr>\n",
              "    <tr>\n",
              "      <th>4</th>\n",
              "      <td>1210227</td>\n",
              "      <td>7174</td>\n",
              "      <td>1</td>\n",
              "    </tr>\n",
              "  </tbody>\n",
              "</table>\n",
              "</div>"
            ],
            "text/plain": [
              "   displayId  adId  clicked\n",
              "0    1210227  7182        0\n",
              "1    1210227  7125        0\n",
              "2    1210227  7181        0\n",
              "3    1210227   535        0\n",
              "4    1210227  7174        1"
            ]
          },
          "metadata": {
            "tags": []
          },
          "execution_count": 13
        }
      ]
    },
    {
      "cell_type": "code",
      "metadata": {
        "id": "oBpSAB0B9uhc",
        "colab_type": "code",
        "colab": {
          "base_uri": "https://localhost:8080/",
          "height": 90
        },
        "outputId": "b862b921-66b5-487a-a4fe-7444b6d96f81"
      },
      "source": [
        "clicked_train.isna().sum()"
      ],
      "execution_count": 25,
      "outputs": [
        {
          "output_type": "execute_result",
          "data": {
            "text/plain": [
              "displayId    0\n",
              "adId         0\n",
              "clicked      0\n",
              "dtype: int64"
            ]
          },
          "metadata": {
            "tags": []
          },
          "execution_count": 25
        }
      ]
    },
    {
      "cell_type": "code",
      "metadata": {
        "id": "NwgRDcBMaKmE",
        "colab_type": "code",
        "outputId": "5b3cfdbd-f595-40ae-b6f7-a6e97becaf91",
        "colab": {
          "base_uri": "https://localhost:8080/",
          "height": 294
        }
      },
      "source": [
        "clicked_train['clicked'].hist()"
      ],
      "execution_count": 14,
      "outputs": [
        {
          "output_type": "execute_result",
          "data": {
            "text/plain": [
              "<matplotlib.axes._subplots.AxesSubplot at 0x7f6e9d6bc978>"
            ]
          },
          "metadata": {
            "tags": []
          },
          "execution_count": 14
        },
        {
          "output_type": "display_data",
          "data": {
            "image/png": "[encoded data removed]",
            "text/plain": [
              "<Figure size 432x288 with 1 Axes>"
            ]
          },
          "metadata": {
            "tags": [],
            "needs_background": "light"
          }
        }
      ]
    },
    {
      "cell_type": "code",
      "metadata": {
        "id": "gxzwPm6YP6DL",
        "colab_type": "code",
        "outputId": "6082956b-7db6-457f-b0ff-fc0dde62188b",
        "colab": {
          "base_uri": "https://localhost:8080/",
          "height": 206
        }
      },
      "source": [
        "event.head()"
      ],
      "execution_count": 15,
      "outputs": [
        {
          "output_type": "execute_result",
          "data": {
            "text/html": [
              "<div>\n",
              "<style scoped>\n",
              "    .dataframe tbody tr th:only-of-type {\n",
              "        vertical-align: middle;\n",
              "    }\n",
              "\n",
              "    .dataframe tbody tr th {\n",
              "        vertical-align: top;\n",
              "    }\n",
              "\n",
              "    .dataframe thead th {\n",
              "        text-align: right;\n",
              "    }\n",
              "</style>\n",
              "<table border=\"1\" class=\"dataframe\">\n",
              "  <thead>\n",
              "    <tr style=\"text-align: right;\">\n",
              "      <th></th>\n",
              "      <th>displayId</th>\n",
              "      <th>timestamp</th>\n",
              "      <th>pageId</th>\n",
              "      <th>widgetId</th>\n",
              "      <th>userId</th>\n",
              "      <th>device</th>\n",
              "      <th>OS</th>\n",
              "      <th>browser</th>\n",
              "    </tr>\n",
              "  </thead>\n",
              "  <tbody>\n",
              "    <tr>\n",
              "      <th>0</th>\n",
              "      <td>4706262</td>\n",
              "      <td>1578429005696</td>\n",
              "      <td>3543873</td>\n",
              "      <td>6262</td>\n",
              "      <td>2688642</td>\n",
              "      <td>0</td>\n",
              "      <td>0</td>\n",
              "      <td>0</td>\n",
              "    </tr>\n",
              "    <tr>\n",
              "      <th>1</th>\n",
              "      <td>4706267</td>\n",
              "      <td>1578429007726</td>\n",
              "      <td>6245475</td>\n",
              "      <td>607</td>\n",
              "      <td>2688641</td>\n",
              "      <td>1</td>\n",
              "      <td>3</td>\n",
              "      <td>0</td>\n",
              "    </tr>\n",
              "    <tr>\n",
              "      <th>2</th>\n",
              "      <td>4706260</td>\n",
              "      <td>1578429012060</td>\n",
              "      <td>4416499</td>\n",
              "      <td>11458</td>\n",
              "      <td>2688638</td>\n",
              "      <td>0</td>\n",
              "      <td>0</td>\n",
              "      <td>1</td>\n",
              "    </tr>\n",
              "    <tr>\n",
              "      <th>3</th>\n",
              "      <td>4706255</td>\n",
              "      <td>1578429017218</td>\n",
              "      <td>6246028</td>\n",
              "      <td>9358</td>\n",
              "      <td>1962852</td>\n",
              "      <td>0</td>\n",
              "      <td>0</td>\n",
              "      <td>0</td>\n",
              "    </tr>\n",
              "    <tr>\n",
              "      <th>4</th>\n",
              "      <td>4706256</td>\n",
              "      <td>1578429021388</td>\n",
              "      <td>5327047</td>\n",
              "      <td>9358</td>\n",
              "      <td>2687719</td>\n",
              "      <td>0</td>\n",
              "      <td>0</td>\n",
              "      <td>0</td>\n",
              "    </tr>\n",
              "  </tbody>\n",
              "</table>\n",
              "</div>"
            ],
            "text/plain": [
              "   displayId      timestamp   pageId  widgetId   userId  device  OS  browser\n",
              "0    4706262  1578429005696  3543873      6262  2688642       0   0        0\n",
              "1    4706267  1578429007726  6245475       607  2688641       1   3        0\n",
              "2    4706260  1578429012060  4416499     11458  2688638       0   0        1\n",
              "3    4706255  1578429017218  6246028      9358  1962852       0   0        0\n",
              "4    4706256  1578429021388  5327047      9358  2687719       0   0        0"
            ]
          },
          "metadata": {
            "tags": []
          },
          "execution_count": 15
        }
      ]
    },
    {
      "cell_type": "code",
      "metadata": {
        "id": "EDfvTS1U99eP",
        "colab_type": "code",
        "colab": {
          "base_uri": "https://localhost:8080/",
          "height": 182
        },
        "outputId": "e2570e87-211b-4e9f-e0e5-dcf04afc11f0"
      },
      "source": [
        "event.isna().sum()"
      ],
      "execution_count": 26,
      "outputs": [
        {
          "output_type": "execute_result",
          "data": {
            "text/plain": [
              "displayId    0\n",
              "timestamp    0\n",
              "pageId       0\n",
              "widgetId     0\n",
              "userId       0\n",
              "device       0\n",
              "OS           0\n",
              "browser      0\n",
              "dtype: int64"
            ]
          },
          "metadata": {
            "tags": []
          },
          "execution_count": 26
        }
      ]
    },
    {
      "cell_type": "code",
      "metadata": {
        "id": "tPQRDOpTJZgr",
        "colab_type": "code",
        "outputId": "4dfd8d8d-7c07-455e-bf68-ed4459ae19e7",
        "colab": {
          "base_uri": "https://localhost:8080/",
          "height": 293
        }
      },
      "source": [
        "event.info()"
      ],
      "execution_count": 16,
      "outputs": [
        {
          "output_type": "stream",
          "text": [
            "<class 'pandas.core.frame.DataFrame'>\n",
            "RangeIndex: 1083071 entries, 0 to 1083070\n",
            "Data columns (total 8 columns):\n",
            " #   Column     Non-Null Count    Dtype\n",
            "---  ------     --------------    -----\n",
            " 0   displayId  1083071 non-null  int64\n",
            " 1   timestamp  1083071 non-null  int64\n",
            " 2   pageId     1083071 non-null  int64\n",
            " 3   widgetId   1083071 non-null  int64\n",
            " 4   userId     1083071 non-null  int64\n",
            " 5   device     1083071 non-null  int64\n",
            " 6   OS         1083071 non-null  int64\n",
            " 7   browser    1083071 non-null  int64\n",
            "dtypes: int64(8)\n",
            "memory usage: 66.1 MB\n"
          ],
          "name": "stdout"
        }
      ]
    },
    {
      "cell_type": "code",
      "metadata": {
        "id": "Bofby9JmP8mI",
        "colab_type": "code",
        "outputId": "65cf3181-480c-409e-d898-2d0ea33ad7db",
        "colab": {
          "base_uri": "https://localhost:8080/",
          "height": 206
        }
      },
      "source": [
        "page.head()"
      ],
      "execution_count": 19,
      "outputs": [
        {
          "output_type": "execute_result",
          "data": {
            "text/html": [
              "<div>\n",
              "<style scoped>\n",
              "    .dataframe tbody tr th:only-of-type {\n",
              "        vertical-align: middle;\n",
              "    }\n",
              "\n",
              "    .dataframe tbody tr th {\n",
              "        vertical-align: top;\n",
              "    }\n",
              "\n",
              "    .dataframe thead th {\n",
              "        text-align: right;\n",
              "    }\n",
              "</style>\n",
              "<table border=\"1\" class=\"dataframe\">\n",
              "  <thead>\n",
              "    <tr style=\"text-align: right;\">\n",
              "      <th></th>\n",
              "      <th>pageId</th>\n",
              "      <th>website</th>\n",
              "      <th>publisher</th>\n",
              "    </tr>\n",
              "  </thead>\n",
              "  <tbody>\n",
              "    <tr>\n",
              "      <th>0</th>\n",
              "      <td>1</td>\n",
              "      <td>0</td>\n",
              "      <td>0</td>\n",
              "    </tr>\n",
              "    <tr>\n",
              "      <th>1</th>\n",
              "      <td>3</td>\n",
              "      <td>1</td>\n",
              "      <td>1</td>\n",
              "    </tr>\n",
              "    <tr>\n",
              "      <th>2</th>\n",
              "      <td>4</td>\n",
              "      <td>2</td>\n",
              "      <td>2</td>\n",
              "    </tr>\n",
              "    <tr>\n",
              "      <th>3</th>\n",
              "      <td>5</td>\n",
              "      <td>3</td>\n",
              "      <td>3</td>\n",
              "    </tr>\n",
              "    <tr>\n",
              "      <th>4</th>\n",
              "      <td>6</td>\n",
              "      <td>4</td>\n",
              "      <td>4</td>\n",
              "    </tr>\n",
              "  </tbody>\n",
              "</table>\n",
              "</div>"
            ],
            "text/plain": [
              "   pageId  website  publisher\n",
              "0       1        0          0\n",
              "1       3        1          1\n",
              "2       4        2          2\n",
              "3       5        3          3\n",
              "4       6        4          4"
            ]
          },
          "metadata": {
            "tags": []
          },
          "execution_count": 19
        }
      ]
    },
    {
      "cell_type": "code",
      "metadata": {
        "id": "RbqYjfWA9_95",
        "colab_type": "code",
        "colab": {
          "base_uri": "https://localhost:8080/",
          "height": 90
        },
        "outputId": "aed8814d-a5d6-44d9-e9e5-a9b854e064b3"
      },
      "source": [
        "page.isna().sum()"
      ],
      "execution_count": 27,
      "outputs": [
        {
          "output_type": "execute_result",
          "data": {
            "text/plain": [
              "pageId       0\n",
              "website      0\n",
              "publisher    0\n",
              "dtype: int64"
            ]
          },
          "metadata": {
            "tags": []
          },
          "execution_count": 27
        }
      ]
    },
    {
      "cell_type": "code",
      "metadata": {
        "id": "YmNozju0P90F",
        "colab_type": "code",
        "outputId": "ef0e1cb7-0e32-453b-b2cc-52a8c2eebd93",
        "colab": {
          "base_uri": "https://localhost:8080/",
          "height": 206
        }
      },
      "source": [
        "page_topic.head()"
      ],
      "execution_count": 20,
      "outputs": [
        {
          "output_type": "execute_result",
          "data": {
            "text/html": [
              "<div>\n",
              "<style scoped>\n",
              "    .dataframe tbody tr th:only-of-type {\n",
              "        vertical-align: middle;\n",
              "    }\n",
              "\n",
              "    .dataframe tbody tr th {\n",
              "        vertical-align: top;\n",
              "    }\n",
              "\n",
              "    .dataframe thead th {\n",
              "        text-align: right;\n",
              "    }\n",
              "</style>\n",
              "<table border=\"1\" class=\"dataframe\">\n",
              "  <thead>\n",
              "    <tr style=\"text-align: right;\">\n",
              "      <th></th>\n",
              "      <th>pageId</th>\n",
              "      <th>topicId</th>\n",
              "      <th>confidence</th>\n",
              "    </tr>\n",
              "  </thead>\n",
              "  <tbody>\n",
              "    <tr>\n",
              "      <th>0</th>\n",
              "      <td>10743259</td>\n",
              "      <td>37</td>\n",
              "      <td>0.497099</td>\n",
              "    </tr>\n",
              "    <tr>\n",
              "      <th>1</th>\n",
              "      <td>10743259</td>\n",
              "      <td>23</td>\n",
              "      <td>0.016994</td>\n",
              "    </tr>\n",
              "    <tr>\n",
              "      <th>2</th>\n",
              "      <td>10743259</td>\n",
              "      <td>10</td>\n",
              "      <td>0.371499</td>\n",
              "    </tr>\n",
              "    <tr>\n",
              "      <th>3</th>\n",
              "      <td>10743259</td>\n",
              "      <td>4</td>\n",
              "      <td>0.105349</td>\n",
              "    </tr>\n",
              "    <tr>\n",
              "      <th>4</th>\n",
              "      <td>10743258</td>\n",
              "      <td>33</td>\n",
              "      <td>0.245752</td>\n",
              "    </tr>\n",
              "  </tbody>\n",
              "</table>\n",
              "</div>"
            ],
            "text/plain": [
              "     pageId  topicId  confidence\n",
              "0  10743259       37    0.497099\n",
              "1  10743259       23    0.016994\n",
              "2  10743259       10    0.371499\n",
              "3  10743259        4    0.105349\n",
              "4  10743258       33    0.245752"
            ]
          },
          "metadata": {
            "tags": []
          },
          "execution_count": 20
        }
      ]
    },
    {
      "cell_type": "code",
      "metadata": {
        "id": "tWlUdvza-Ccu",
        "colab_type": "code",
        "colab": {
          "base_uri": "https://localhost:8080/",
          "height": 90
        },
        "outputId": "ce4c1b0e-31ea-43f0-b253-32fb8b5ed414"
      },
      "source": [
        "page_topic.isna().sum()"
      ],
      "execution_count": 28,
      "outputs": [
        {
          "output_type": "execute_result",
          "data": {
            "text/plain": [
              "pageId        0\n",
              "topicId       0\n",
              "confidence    0\n",
              "dtype: int64"
            ]
          },
          "metadata": {
            "tags": []
          },
          "execution_count": 28
        }
      ]
    },
    {
      "cell_type": "code",
      "metadata": {
        "id": "O_b0TgmMygSk",
        "colab_type": "code",
        "outputId": "f0a77aa8-8485-4e1f-be5c-6824c1e4ea13",
        "colab": {
          "base_uri": "https://localhost:8080/",
          "height": 206
        }
      },
      "source": [
        "user_views.head()"
      ],
      "execution_count": 21,
      "outputs": [
        {
          "output_type": "execute_result",
          "data": {
            "text/html": [
              "<div>\n",
              "<style scoped>\n",
              "    .dataframe tbody tr th:only-of-type {\n",
              "        vertical-align: middle;\n",
              "    }\n",
              "\n",
              "    .dataframe tbody tr th {\n",
              "        vertical-align: top;\n",
              "    }\n",
              "\n",
              "    .dataframe thead th {\n",
              "        text-align: right;\n",
              "    }\n",
              "</style>\n",
              "<table border=\"1\" class=\"dataframe\">\n",
              "  <thead>\n",
              "    <tr style=\"text-align: right;\">\n",
              "      <th></th>\n",
              "      <th>userId</th>\n",
              "      <th>pageId</th>\n",
              "      <th>timestamp</th>\n",
              "    </tr>\n",
              "  </thead>\n",
              "  <tbody>\n",
              "    <tr>\n",
              "      <th>0</th>\n",
              "      <td>821961</td>\n",
              "      <td>8116</td>\n",
              "      <td>1579599211445</td>\n",
              "    </tr>\n",
              "    <tr>\n",
              "      <th>1</th>\n",
              "      <td>15321</td>\n",
              "      <td>9533442</td>\n",
              "      <td>1579599211443</td>\n",
              "    </tr>\n",
              "    <tr>\n",
              "      <th>2</th>\n",
              "      <td>1125090</td>\n",
              "      <td>9410379</td>\n",
              "      <td>1579599211440</td>\n",
              "    </tr>\n",
              "    <tr>\n",
              "      <th>3</th>\n",
              "      <td>407101</td>\n",
              "      <td>8616213</td>\n",
              "      <td>1579599211429</td>\n",
              "    </tr>\n",
              "    <tr>\n",
              "      <th>4</th>\n",
              "      <td>781615</td>\n",
              "      <td>9543366</td>\n",
              "      <td>1579599211429</td>\n",
              "    </tr>\n",
              "  </tbody>\n",
              "</table>\n",
              "</div>"
            ],
            "text/plain": [
              "    userId   pageId      timestamp\n",
              "0   821961     8116  1579599211445\n",
              "1    15321  9533442  1579599211443\n",
              "2  1125090  9410379  1579599211440\n",
              "3   407101  8616213  1579599211429\n",
              "4   781615  9543366  1579599211429"
            ]
          },
          "metadata": {
            "tags": []
          },
          "execution_count": 21
        }
      ]
    },
    {
      "cell_type": "code",
      "metadata": {
        "id": "JFsrYGxi-EPk",
        "colab_type": "code",
        "colab": {
          "base_uri": "https://localhost:8080/",
          "height": 90
        },
        "outputId": "5f942bba-4c15-422a-d303-dddebe04e7ba"
      },
      "source": [
        "user_views.isna().sum()"
      ],
      "execution_count": 29,
      "outputs": [
        {
          "output_type": "execute_result",
          "data": {
            "text/plain": [
              "userId       0\n",
              "pageId       0\n",
              "timestamp    0\n",
              "dtype: int64"
            ]
          },
          "metadata": {
            "tags": []
          },
          "execution_count": 29
        }
      ]
    },
    {
      "cell_type": "code",
      "metadata": {
        "colab_type": "code",
        "id": "JdsN_cr5txYP",
        "colab": {}
      },
      "source": [
        "main = pd.merge(advertisements, advertisements_images, on='adId')"
      ],
      "execution_count": 0,
      "outputs": []
    },
    {
      "cell_type": "code",
      "metadata": {
        "id": "Hxi-xmzMGfy2",
        "colab_type": "code",
        "colab": {}
      },
      "source": [
        "main = pd.merge(main, advertisements_titles, on='adId')"
      ],
      "execution_count": 0,
      "outputs": []
    },
    {
      "cell_type": "code",
      "metadata": {
        "id": "fdJCnVeQGiEo",
        "colab_type": "code",
        "colab": {}
      },
      "source": [
        "main = pd.merge(main, clicked_train, on='adId')"
      ],
      "execution_count": 0,
      "outputs": []
    },
    {
      "cell_type": "code",
      "metadata": {
        "id": "V1_vCB8mGj0m",
        "colab_type": "code",
        "colab": {}
      },
      "source": [
        "main = pd.merge(main, event, on='displayId')"
      ],
      "execution_count": 0,
      "outputs": []
    },
    {
      "cell_type": "code",
      "metadata": {
        "id": "WuQUjNp5G7q5",
        "colab_type": "code",
        "colab": {}
      },
      "source": [
        "main = pd.merge(main, page, on='pageId')"
      ],
      "execution_count": 0,
      "outputs": []
    },
    {
      "cell_type": "code",
      "metadata": {
        "id": "VvB7HMy4G9SQ",
        "colab_type": "code",
        "colab": {}
      },
      "source": [
        "main = pd.merge(main, page_topic, on='pageId')"
      ],
      "execution_count": 0,
      "outputs": []
    },
    {
      "cell_type": "code",
      "metadata": {
        "id": "PogkriMNG_Rz",
        "colab_type": "code",
        "colab": {}
      },
      "source": [
        "main = pd.merge(main, user_views, on='userId')"
      ],
      "execution_count": 0,
      "outputs": []
    },
    {
      "cell_type": "code",
      "metadata": {
        "id": "SXdMxXEvDKvo",
        "colab_type": "code",
        "colab": {}
      },
      "source": [
        "main.isna().sum()"
      ],
      "execution_count": 0,
      "outputs": []
    },
    {
      "cell_type": "code",
      "metadata": {
        "id": "zUFbleLhD9pL",
        "colab_type": "code",
        "colab": {}
      },
      "source": [
        "main.describe()"
      ],
      "execution_count": 0,
      "outputs": []
    },
    {
      "cell_type": "code",
      "metadata": {
        "id": "yF5EzYi6Gwxt",
        "colab_type": "code",
        "outputId": "96b1f615-f301-4348-e52b-fcd81ac93006",
        "colab": {
          "base_uri": "https://localhost:8080/",
          "height": 730
        }
      },
      "source": [
        "main.head(10)"
      ],
      "execution_count": 0,
      "outputs": [
        {
          "output_type": "execute_result",
          "data": {
            "text/html": [
              "<div>\n",
              "<style scoped>\n",
              "    .dataframe tbody tr th:only-of-type {\n",
              "        vertical-align: middle;\n",
              "    }\n",
              "\n",
              "    .dataframe tbody tr th {\n",
              "        vertical-align: top;\n",
              "    }\n",
              "\n",
              "    .dataframe thead th {\n",
              "        text-align: right;\n",
              "    }\n",
              "</style>\n",
              "<table border=\"1\" class=\"dataframe\">\n",
              "  <thead>\n",
              "    <tr style=\"text-align: right;\">\n",
              "      <th></th>\n",
              "      <th>adId</th>\n",
              "      <th>campaignId</th>\n",
              "      <th>advertiserId</th>\n",
              "      <th>imageFeatures</th>\n",
              "      <th>wordId</th>\n",
              "      <th>displayId</th>\n",
              "      <th>clicked</th>\n",
              "      <th>timestamp</th>\n",
              "      <th>pageId</th>\n",
              "      <th>widgetId</th>\n",
              "      <th>userId</th>\n",
              "      <th>device</th>\n",
              "      <th>OS</th>\n",
              "      <th>browser</th>\n",
              "      <th>website</th>\n",
              "      <th>publisher</th>\n",
              "      <th>topicId</th>\n",
              "      <th>confidence</th>\n",
              "    </tr>\n",
              "  </thead>\n",
              "  <tbody>\n",
              "    <tr>\n",
              "      <th>0</th>\n",
              "      <td>7182</td>\n",
              "      <td>3402</td>\n",
              "      <td>7579</td>\n",
              "      <td>[0.17772938311100006, 0.6273877620697021, 0.55...</td>\n",
              "      <td>108</td>\n",
              "      <td>1210227</td>\n",
              "      <td>0</td>\n",
              "      <td>1579598863403</td>\n",
              "      <td>420857</td>\n",
              "      <td>9519</td>\n",
              "      <td>782749</td>\n",
              "      <td>0</td>\n",
              "      <td>0</td>\n",
              "      <td>1</td>\n",
              "      <td>477</td>\n",
              "      <td>49</td>\n",
              "      <td>38</td>\n",
              "      <td>0.047635</td>\n",
              "    </tr>\n",
              "    <tr>\n",
              "      <th>1</th>\n",
              "      <td>7182</td>\n",
              "      <td>3402</td>\n",
              "      <td>7579</td>\n",
              "      <td>[0.17772938311100006, 0.6273877620697021, 0.55...</td>\n",
              "      <td>108</td>\n",
              "      <td>1210227</td>\n",
              "      <td>0</td>\n",
              "      <td>1579598863403</td>\n",
              "      <td>420857</td>\n",
              "      <td>9519</td>\n",
              "      <td>782749</td>\n",
              "      <td>0</td>\n",
              "      <td>0</td>\n",
              "      <td>1</td>\n",
              "      <td>477</td>\n",
              "      <td>49</td>\n",
              "      <td>30</td>\n",
              "      <td>0.214971</td>\n",
              "    </tr>\n",
              "    <tr>\n",
              "      <th>2</th>\n",
              "      <td>7182</td>\n",
              "      <td>3402</td>\n",
              "      <td>7579</td>\n",
              "      <td>[0.17772938311100006, 0.6273877620697021, 0.55...</td>\n",
              "      <td>108</td>\n",
              "      <td>1210227</td>\n",
              "      <td>0</td>\n",
              "      <td>1579598863403</td>\n",
              "      <td>420857</td>\n",
              "      <td>9519</td>\n",
              "      <td>782749</td>\n",
              "      <td>0</td>\n",
              "      <td>0</td>\n",
              "      <td>1</td>\n",
              "      <td>477</td>\n",
              "      <td>49</td>\n",
              "      <td>22</td>\n",
              "      <td>0.108900</td>\n",
              "    </tr>\n",
              "    <tr>\n",
              "      <th>3</th>\n",
              "      <td>7182</td>\n",
              "      <td>3402</td>\n",
              "      <td>7579</td>\n",
              "      <td>[0.17772938311100006, 0.6273877620697021, 0.55...</td>\n",
              "      <td>108</td>\n",
              "      <td>1210227</td>\n",
              "      <td>0</td>\n",
              "      <td>1579598863403</td>\n",
              "      <td>420857</td>\n",
              "      <td>9519</td>\n",
              "      <td>782749</td>\n",
              "      <td>0</td>\n",
              "      <td>0</td>\n",
              "      <td>1</td>\n",
              "      <td>477</td>\n",
              "      <td>49</td>\n",
              "      <td>20</td>\n",
              "      <td>0.316218</td>\n",
              "    </tr>\n",
              "    <tr>\n",
              "      <th>4</th>\n",
              "      <td>7182</td>\n",
              "      <td>3402</td>\n",
              "      <td>7579</td>\n",
              "      <td>[0.17772938311100006, 0.6273877620697021, 0.55...</td>\n",
              "      <td>108</td>\n",
              "      <td>1210227</td>\n",
              "      <td>0</td>\n",
              "      <td>1579598863403</td>\n",
              "      <td>420857</td>\n",
              "      <td>9519</td>\n",
              "      <td>782749</td>\n",
              "      <td>0</td>\n",
              "      <td>0</td>\n",
              "      <td>1</td>\n",
              "      <td>477</td>\n",
              "      <td>49</td>\n",
              "      <td>18</td>\n",
              "      <td>0.055987</td>\n",
              "    </tr>\n",
              "    <tr>\n",
              "      <th>5</th>\n",
              "      <td>7182</td>\n",
              "      <td>3402</td>\n",
              "      <td>7579</td>\n",
              "      <td>[0.17772938311100006, 0.6273877620697021, 0.55...</td>\n",
              "      <td>108</td>\n",
              "      <td>1210227</td>\n",
              "      <td>0</td>\n",
              "      <td>1579598863403</td>\n",
              "      <td>420857</td>\n",
              "      <td>9519</td>\n",
              "      <td>782749</td>\n",
              "      <td>0</td>\n",
              "      <td>0</td>\n",
              "      <td>1</td>\n",
              "      <td>477</td>\n",
              "      <td>49</td>\n",
              "      <td>13</td>\n",
              "      <td>0.152800</td>\n",
              "    </tr>\n",
              "    <tr>\n",
              "      <th>6</th>\n",
              "      <td>7182</td>\n",
              "      <td>3402</td>\n",
              "      <td>7579</td>\n",
              "      <td>[0.17772938311100006, 0.6273877620697021, 0.55...</td>\n",
              "      <td>108</td>\n",
              "      <td>1210227</td>\n",
              "      <td>0</td>\n",
              "      <td>1579598863403</td>\n",
              "      <td>420857</td>\n",
              "      <td>9519</td>\n",
              "      <td>782749</td>\n",
              "      <td>0</td>\n",
              "      <td>0</td>\n",
              "      <td>1</td>\n",
              "      <td>477</td>\n",
              "      <td>49</td>\n",
              "      <td>9</td>\n",
              "      <td>0.019889</td>\n",
              "    </tr>\n",
              "    <tr>\n",
              "      <th>7</th>\n",
              "      <td>7182</td>\n",
              "      <td>3402</td>\n",
              "      <td>7579</td>\n",
              "      <td>[0.17772938311100006, 0.6273877620697021, 0.55...</td>\n",
              "      <td>108</td>\n",
              "      <td>1210227</td>\n",
              "      <td>0</td>\n",
              "      <td>1579598863403</td>\n",
              "      <td>420857</td>\n",
              "      <td>9519</td>\n",
              "      <td>782749</td>\n",
              "      <td>0</td>\n",
              "      <td>0</td>\n",
              "      <td>1</td>\n",
              "      <td>477</td>\n",
              "      <td>49</td>\n",
              "      <td>1</td>\n",
              "      <td>0.078198</td>\n",
              "    </tr>\n",
              "    <tr>\n",
              "      <th>8</th>\n",
              "      <td>7182</td>\n",
              "      <td>3402</td>\n",
              "      <td>7579</td>\n",
              "      <td>[0.17772938311100006, 0.6273877620697021, 0.55...</td>\n",
              "      <td>675</td>\n",
              "      <td>1210227</td>\n",
              "      <td>0</td>\n",
              "      <td>1579598863403</td>\n",
              "      <td>420857</td>\n",
              "      <td>9519</td>\n",
              "      <td>782749</td>\n",
              "      <td>0</td>\n",
              "      <td>0</td>\n",
              "      <td>1</td>\n",
              "      <td>477</td>\n",
              "      <td>49</td>\n",
              "      <td>38</td>\n",
              "      <td>0.047635</td>\n",
              "    </tr>\n",
              "    <tr>\n",
              "      <th>9</th>\n",
              "      <td>7182</td>\n",
              "      <td>3402</td>\n",
              "      <td>7579</td>\n",
              "      <td>[0.17772938311100006, 0.6273877620697021, 0.55...</td>\n",
              "      <td>675</td>\n",
              "      <td>1210227</td>\n",
              "      <td>0</td>\n",
              "      <td>1579598863403</td>\n",
              "      <td>420857</td>\n",
              "      <td>9519</td>\n",
              "      <td>782749</td>\n",
              "      <td>0</td>\n",
              "      <td>0</td>\n",
              "      <td>1</td>\n",
              "      <td>477</td>\n",
              "      <td>49</td>\n",
              "      <td>30</td>\n",
              "      <td>0.214971</td>\n",
              "    </tr>\n",
              "  </tbody>\n",
              "</table>\n",
              "</div>"
            ],
            "text/plain": [
              "   adId  campaignId  advertiserId  ... publisher  topicId  confidence\n",
              "0  7182        3402          7579  ...        49       38    0.047635\n",
              "1  7182        3402          7579  ...        49       30    0.214971\n",
              "2  7182        3402          7579  ...        49       22    0.108900\n",
              "3  7182        3402          7579  ...        49       20    0.316218\n",
              "4  7182        3402          7579  ...        49       18    0.055987\n",
              "5  7182        3402          7579  ...        49       13    0.152800\n",
              "6  7182        3402          7579  ...        49        9    0.019889\n",
              "7  7182        3402          7579  ...        49        1    0.078198\n",
              "8  7182        3402          7579  ...        49       38    0.047635\n",
              "9  7182        3402          7579  ...        49       30    0.214971\n",
              "\n",
              "[10 rows x 18 columns]"
            ]
          },
          "metadata": {
            "tags": []
          },
          "execution_count": 18
        }
      ]
    },
    {
      "cell_type": "code",
      "metadata": {
        "id": "h-JT3gEzLU13",
        "colab_type": "code",
        "colab": {}
      },
      "source": [
        "main.drop_duplicates(inplace=True)"
      ],
      "execution_count": 0,
      "outputs": []
    },
    {
      "cell_type": "code",
      "metadata": {
        "id": "MNsDKc0NLahY",
        "colab_type": "code",
        "outputId": "8c289b11-1e04-48b4-9624-6314e4377dec",
        "colab": {
          "base_uri": "https://localhost:8080/",
          "height": 35
        }
      },
      "source": [
        "len(main)"
      ],
      "execution_count": 0,
      "outputs": [
        {
          "output_type": "execute_result",
          "data": {
            "text/plain": [
              "71074287"
            ]
          },
          "metadata": {
            "tags": []
          },
          "execution_count": 20
        }
      ]
    },
    {
      "cell_type": "code",
      "metadata": {
        "id": "Eyo6XoY_LbKi",
        "colab_type": "code",
        "colab": {}
      },
      "source": [
        "main = pd.merge(clicked_train, event, on='displayId')"
      ],
      "execution_count": 0,
      "outputs": []
    },
    {
      "cell_type": "code",
      "metadata": {
        "id": "ZSPbXx-INhlw",
        "colab_type": "code",
        "outputId": "e6ed0617-b2a1-4000-d8ca-69c89ed91f87",
        "colab": {
          "base_uri": "https://localhost:8080/",
          "height": 206
        }
      },
      "source": [
        "main.loc[main.displayId == 1210227]"
      ],
      "execution_count": 0,
      "outputs": [
        {
          "output_type": "execute_result",
          "data": {
            "text/html": [
              "<div>\n",
              "<style scoped>\n",
              "    .dataframe tbody tr th:only-of-type {\n",
              "        vertical-align: middle;\n",
              "    }\n",
              "\n",
              "    .dataframe tbody tr th {\n",
              "        vertical-align: top;\n",
              "    }\n",
              "\n",
              "    .dataframe thead th {\n",
              "        text-align: right;\n",
              "    }\n",
              "</style>\n",
              "<table border=\"1\" class=\"dataframe\">\n",
              "  <thead>\n",
              "    <tr style=\"text-align: right;\">\n",
              "      <th></th>\n",
              "      <th>displayId</th>\n",
              "      <th>adId</th>\n",
              "      <th>clicked</th>\n",
              "      <th>timestamp</th>\n",
              "      <th>pageId</th>\n",
              "      <th>widgetId</th>\n",
              "      <th>userId</th>\n",
              "      <th>device</th>\n",
              "      <th>OS</th>\n",
              "      <th>browser</th>\n",
              "    </tr>\n",
              "  </thead>\n",
              "  <tbody>\n",
              "    <tr>\n",
              "      <th>0</th>\n",
              "      <td>1210227</td>\n",
              "      <td>7182</td>\n",
              "      <td>0</td>\n",
              "      <td>1579598863403</td>\n",
              "      <td>420857</td>\n",
              "      <td>9519</td>\n",
              "      <td>782749</td>\n",
              "      <td>0</td>\n",
              "      <td>0</td>\n",
              "      <td>1</td>\n",
              "    </tr>\n",
              "    <tr>\n",
              "      <th>1</th>\n",
              "      <td>1210227</td>\n",
              "      <td>7125</td>\n",
              "      <td>0</td>\n",
              "      <td>1579598863403</td>\n",
              "      <td>420857</td>\n",
              "      <td>9519</td>\n",
              "      <td>782749</td>\n",
              "      <td>0</td>\n",
              "      <td>0</td>\n",
              "      <td>1</td>\n",
              "    </tr>\n",
              "    <tr>\n",
              "      <th>2</th>\n",
              "      <td>1210227</td>\n",
              "      <td>7181</td>\n",
              "      <td>0</td>\n",
              "      <td>1579598863403</td>\n",
              "      <td>420857</td>\n",
              "      <td>9519</td>\n",
              "      <td>782749</td>\n",
              "      <td>0</td>\n",
              "      <td>0</td>\n",
              "      <td>1</td>\n",
              "    </tr>\n",
              "    <tr>\n",
              "      <th>3</th>\n",
              "      <td>1210227</td>\n",
              "      <td>535</td>\n",
              "      <td>0</td>\n",
              "      <td>1579598863403</td>\n",
              "      <td>420857</td>\n",
              "      <td>9519</td>\n",
              "      <td>782749</td>\n",
              "      <td>0</td>\n",
              "      <td>0</td>\n",
              "      <td>1</td>\n",
              "    </tr>\n",
              "    <tr>\n",
              "      <th>4</th>\n",
              "      <td>1210227</td>\n",
              "      <td>7174</td>\n",
              "      <td>1</td>\n",
              "      <td>1579598863403</td>\n",
              "      <td>420857</td>\n",
              "      <td>9519</td>\n",
              "      <td>782749</td>\n",
              "      <td>0</td>\n",
              "      <td>0</td>\n",
              "      <td>1</td>\n",
              "    </tr>\n",
              "  </tbody>\n",
              "</table>\n",
              "</div>"
            ],
            "text/plain": [
              "   displayId  adId  clicked      timestamp  ...  userId  device  OS  browser\n",
              "0    1210227  7182        0  1579598863403  ...  782749       0   0        1\n",
              "1    1210227  7125        0  1579598863403  ...  782749       0   0        1\n",
              "2    1210227  7181        0  1579598863403  ...  782749       0   0        1\n",
              "3    1210227   535        0  1579598863403  ...  782749       0   0        1\n",
              "4    1210227  7174        1  1579598863403  ...  782749       0   0        1\n",
              "\n",
              "[5 rows x 10 columns]"
            ]
          },
          "metadata": {
            "tags": []
          },
          "execution_count": 25
        }
      ]
    },
    {
      "cell_type": "code",
      "metadata": {
        "id": "Jf7mUdl1NyjG",
        "colab_type": "code",
        "outputId": "eaa5342f-4059-4f6f-d54e-82d0a19f5842",
        "colab": {
          "base_uri": "https://localhost:8080/",
          "height": 293
        }
      },
      "source": [
        "main.info()"
      ],
      "execution_count": 0,
      "outputs": [
        {
          "output_type": "stream",
          "text": [
            "<class 'pandas.core.frame.DataFrame'>\n",
            "Int64Index: 3642244 entries, 0 to 3642243\n",
            "Data columns (total 10 columns):\n",
            "displayId    int64\n",
            "adId         int64\n",
            "clicked      int64\n",
            "timestamp    int64\n",
            "pageId       int64\n",
            "widgetId     int64\n",
            "userId       int64\n",
            "device       int64\n",
            "OS           int64\n",
            "browser      int64\n",
            "dtypes: int64(10)\n",
            "memory usage: 305.7 MB\n"
          ],
          "name": "stdout"
        }
      ]
    },
    {
      "cell_type": "code",
      "metadata": {
        "id": "HaE8j2L5N06H",
        "colab_type": "code",
        "outputId": "257ef570-a53a-46e5-f31a-c8bfafc6d8e1",
        "colab": {
          "base_uri": "https://localhost:8080/",
          "height": 219
        }
      },
      "source": [
        "main.isna().sum()"
      ],
      "execution_count": 0,
      "outputs": [
        {
          "output_type": "execute_result",
          "data": {
            "text/plain": [
              "displayId    0\n",
              "adId         0\n",
              "clicked      0\n",
              "timestamp    0\n",
              "pageId       0\n",
              "widgetId     0\n",
              "userId       0\n",
              "device       0\n",
              "OS           0\n",
              "browser      0\n",
              "dtype: int64"
            ]
          },
          "metadata": {
            "tags": []
          },
          "execution_count": 27
        }
      ]
    },
    {
      "cell_type": "code",
      "metadata": {
        "id": "UegIHcN0OM5K",
        "colab_type": "code",
        "colab": {}
      },
      "source": [
        "REG = 10\n",
        "\n",
        "keys = clicked_train.adId.value_counts().keys().tolist()\n",
        "values = clicked_train.adId.value_counts().tolist()\n",
        "toDict = dict(zip(keys, values))\n",
        "\n",
        "probability_table = pd.DataFrame(columns=['adId', 'probability'])"
      ],
      "execution_count": 0,
      "outputs": []
    },
    {
      "cell_type": "code",
      "metadata": {
        "id": "PD_Iq0MyyTiD",
        "colab_type": "code",
        "colab": {}
      },
      "source": [
        "for key, val in toDict.items():\n",
        "  temp = clicked_train[clicked_train.adId == key]\n",
        "  probability = len(temp[temp.clicked == 1]) / (len(temp) + REG)\n",
        "  probability_table = probability_table.append({\"adId\": key, \"probability\": probability}, ignore_index=True)"
      ],
      "execution_count": 0,
      "outputs": []
    },
    {
      "cell_type": "code",
      "metadata": {
        "id": "iLPqVlqbL2Jc",
        "colab_type": "code",
        "outputId": "558431a4-8b6a-403c-8dd2-8bbc64b29d3e",
        "colab": {
          "base_uri": "https://localhost:8080/",
          "height": 206
        }
      },
      "source": [
        "probability_table.head()"
      ],
      "execution_count": 0,
      "outputs": [
        {
          "output_type": "execute_result",
          "data": {
            "text/html": [
              "<div>\n",
              "<style scoped>\n",
              "    .dataframe tbody tr th:only-of-type {\n",
              "        vertical-align: middle;\n",
              "    }\n",
              "\n",
              "    .dataframe tbody tr th {\n",
              "        vertical-align: top;\n",
              "    }\n",
              "\n",
              "    .dataframe thead th {\n",
              "        text-align: right;\n",
              "    }\n",
              "</style>\n",
              "<table border=\"1\" class=\"dataframe\">\n",
              "  <thead>\n",
              "    <tr style=\"text-align: right;\">\n",
              "      <th></th>\n",
              "      <th>adId</th>\n",
              "      <th>probability</th>\n",
              "    </tr>\n",
              "  </thead>\n",
              "  <tbody>\n",
              "    <tr>\n",
              "      <th>0</th>\n",
              "      <td>17.0</td>\n",
              "      <td>0.370849</td>\n",
              "    </tr>\n",
              "    <tr>\n",
              "      <th>1</th>\n",
              "      <td>5486.0</td>\n",
              "      <td>0.213572</td>\n",
              "    </tr>\n",
              "    <tr>\n",
              "      <th>2</th>\n",
              "      <td>535.0</td>\n",
              "      <td>0.294861</td>\n",
              "    </tr>\n",
              "    <tr>\n",
              "      <th>3</th>\n",
              "      <td>6515.0</td>\n",
              "      <td>0.221683</td>\n",
              "    </tr>\n",
              "    <tr>\n",
              "      <th>4</th>\n",
              "      <td>538.0</td>\n",
              "      <td>0.256662</td>\n",
              "    </tr>\n",
              "  </tbody>\n",
              "</table>\n",
              "</div>"
            ],
            "text/plain": [
              "     adId  probability\n",
              "0    17.0     0.370849\n",
              "1  5486.0     0.213572\n",
              "2   535.0     0.294861\n",
              "3  6515.0     0.221683\n",
              "4   538.0     0.256662"
            ]
          },
          "metadata": {
            "tags": []
          },
          "execution_count": 57
        }
      ]
    },
    {
      "cell_type": "code",
      "metadata": {
        "id": "cMViGWp_PEIB",
        "colab_type": "code",
        "colab": {}
      },
      "source": [
        "answer = pd.merge(click_test, probability_table, on='adId')"
      ],
      "execution_count": 0,
      "outputs": []
    },
    {
      "cell_type": "code",
      "metadata": {
        "id": "tQZlGkxGjAk9",
        "colab_type": "code",
        "outputId": "aa503d3c-36c1-4fd4-933d-d5ad546a51fd",
        "colab": {
          "base_uri": "https://localhost:8080/",
          "height": 206
        }
      },
      "source": [
        "answer['rank'] = answer['probability'].rank()\n",
        "answer.head()"
      ],
      "execution_count": 0,
      "outputs": [
        {
          "output_type": "execute_result",
          "data": {
            "text/html": [
              "<div>\n",
              "<style scoped>\n",
              "    .dataframe tbody tr th:only-of-type {\n",
              "        vertical-align: middle;\n",
              "    }\n",
              "\n",
              "    .dataframe tbody tr th {\n",
              "        vertical-align: top;\n",
              "    }\n",
              "\n",
              "    .dataframe thead th {\n",
              "        text-align: right;\n",
              "    }\n",
              "</style>\n",
              "<table border=\"1\" class=\"dataframe\">\n",
              "  <thead>\n",
              "    <tr style=\"text-align: right;\">\n",
              "      <th></th>\n",
              "      <th>displayId</th>\n",
              "      <th>adId</th>\n",
              "      <th>probability</th>\n",
              "      <th>rank</th>\n",
              "    </tr>\n",
              "  </thead>\n",
              "  <tbody>\n",
              "    <tr>\n",
              "      <th>0</th>\n",
              "      <td>151650</td>\n",
              "      <td>6257</td>\n",
              "      <td>0.203549</td>\n",
              "      <td>273863.0</td>\n",
              "    </tr>\n",
              "    <tr>\n",
              "      <th>1</th>\n",
              "      <td>244340</td>\n",
              "      <td>6257</td>\n",
              "      <td>0.203549</td>\n",
              "      <td>273863.0</td>\n",
              "    </tr>\n",
              "    <tr>\n",
              "      <th>2</th>\n",
              "      <td>244398</td>\n",
              "      <td>6257</td>\n",
              "      <td>0.203549</td>\n",
              "      <td>273863.0</td>\n",
              "    </tr>\n",
              "    <tr>\n",
              "      <th>3</th>\n",
              "      <td>244965</td>\n",
              "      <td>6257</td>\n",
              "      <td>0.203549</td>\n",
              "      <td>273863.0</td>\n",
              "    </tr>\n",
              "    <tr>\n",
              "      <th>4</th>\n",
              "      <td>245234</td>\n",
              "      <td>6257</td>\n",
              "      <td>0.203549</td>\n",
              "      <td>273863.0</td>\n",
              "    </tr>\n",
              "  </tbody>\n",
              "</table>\n",
              "</div>"
            ],
            "text/plain": [
              "   displayId  adId  probability      rank\n",
              "0     151650  6257     0.203549  273863.0\n",
              "1     244340  6257     0.203549  273863.0\n",
              "2     244398  6257     0.203549  273863.0\n",
              "3     244965  6257     0.203549  273863.0\n",
              "4     245234  6257     0.203549  273863.0"
            ]
          },
          "metadata": {
            "tags": []
          },
          "execution_count": 8
        }
      ]
    },
    {
      "cell_type": "code",
      "metadata": {
        "id": "Xx9Qr4QIj436",
        "colab_type": "code",
        "outputId": "a9014d7c-c8b4-4729-e7dd-ea29b63d6d00",
        "colab": {
          "base_uri": "https://localhost:8080/",
          "height": 424
        }
      },
      "source": [
        "answer.drop(['probability'], axis=1)"
      ],
      "execution_count": 0,
      "outputs": [
        {
          "output_type": "execute_result",
          "data": {
            "text/html": [
              "<div>\n",
              "<style scoped>\n",
              "    .dataframe tbody tr th:only-of-type {\n",
              "        vertical-align: middle;\n",
              "    }\n",
              "\n",
              "    .dataframe tbody tr th {\n",
              "        vertical-align: top;\n",
              "    }\n",
              "\n",
              "    .dataframe thead th {\n",
              "        text-align: right;\n",
              "    }\n",
              "</style>\n",
              "<table border=\"1\" class=\"dataframe\">\n",
              "  <thead>\n",
              "    <tr style=\"text-align: right;\">\n",
              "      <th></th>\n",
              "      <th>displayId</th>\n",
              "      <th>adId</th>\n",
              "      <th>rank</th>\n",
              "    </tr>\n",
              "  </thead>\n",
              "  <tbody>\n",
              "    <tr>\n",
              "      <th>0</th>\n",
              "      <td>151650</td>\n",
              "      <td>6257</td>\n",
              "      <td>273863.0</td>\n",
              "    </tr>\n",
              "    <tr>\n",
              "      <th>1</th>\n",
              "      <td>244340</td>\n",
              "      <td>6257</td>\n",
              "      <td>273863.0</td>\n",
              "    </tr>\n",
              "    <tr>\n",
              "      <th>2</th>\n",
              "      <td>244398</td>\n",
              "      <td>6257</td>\n",
              "      <td>273863.0</td>\n",
              "    </tr>\n",
              "    <tr>\n",
              "      <th>3</th>\n",
              "      <td>244965</td>\n",
              "      <td>6257</td>\n",
              "      <td>273863.0</td>\n",
              "    </tr>\n",
              "    <tr>\n",
              "      <th>4</th>\n",
              "      <td>245234</td>\n",
              "      <td>6257</td>\n",
              "      <td>273863.0</td>\n",
              "    </tr>\n",
              "    <tr>\n",
              "      <th>...</th>\n",
              "      <td>...</td>\n",
              "      <td>...</td>\n",
              "      <td>...</td>\n",
              "    </tr>\n",
              "    <tr>\n",
              "      <th>804459</th>\n",
              "      <td>1327609</td>\n",
              "      <td>7168</td>\n",
              "      <td>62053.0</td>\n",
              "    </tr>\n",
              "    <tr>\n",
              "      <th>804460</th>\n",
              "      <td>1327627</td>\n",
              "      <td>7168</td>\n",
              "      <td>62053.0</td>\n",
              "    </tr>\n",
              "    <tr>\n",
              "      <th>804461</th>\n",
              "      <td>1327877</td>\n",
              "      <td>7168</td>\n",
              "      <td>62053.0</td>\n",
              "    </tr>\n",
              "    <tr>\n",
              "      <th>804462</th>\n",
              "      <td>1328140</td>\n",
              "      <td>7168</td>\n",
              "      <td>62053.0</td>\n",
              "    </tr>\n",
              "    <tr>\n",
              "      <th>804463</th>\n",
              "      <td>1328722</td>\n",
              "      <td>7168</td>\n",
              "      <td>62053.0</td>\n",
              "    </tr>\n",
              "  </tbody>\n",
              "</table>\n",
              "<p>804464 rows × 3 columns</p>\n",
              "</div>"
            ],
            "text/plain": [
              "        displayId  adId      rank\n",
              "0          151650  6257  273863.0\n",
              "1          244340  6257  273863.0\n",
              "2          244398  6257  273863.0\n",
              "3          244965  6257  273863.0\n",
              "4          245234  6257  273863.0\n",
              "...           ...   ...       ...\n",
              "804459    1327609  7168   62053.0\n",
              "804460    1327627  7168   62053.0\n",
              "804461    1327877  7168   62053.0\n",
              "804462    1328140  7168   62053.0\n",
              "804463    1328722  7168   62053.0\n",
              "\n",
              "[804464 rows x 3 columns]"
            ]
          },
          "metadata": {
            "tags": []
          },
          "execution_count": 9
        }
      ]
    },
    {
      "cell_type": "code",
      "metadata": {
        "id": "2Mi-ObSwj-PD",
        "colab_type": "code",
        "colab": {}
      },
      "source": [
        "answer.to_csv('answer.csv', index=False)"
      ],
      "execution_count": 0,
      "outputs": []
    },
    {
      "cell_type": "code",
      "metadata": {
        "id": "2Ax0a-pAPm8j",
        "colab_type": "code",
        "outputId": "8dcf3c3c-5620-4ad4-ac60-bcaa2b4846b3",
        "colab": {
          "base_uri": "https://localhost:8080/",
          "height": 182
        }
      },
      "source": [
        "user_views_stats = user_views['timestamp'].describe()\n",
        "user_views_stats"
      ],
      "execution_count": 0,
      "outputs": [
        {
          "output_type": "execute_result",
          "data": {
            "text/plain": [
              "count    6.722982e+07\n",
              "mean     1.579000e+12\n",
              "std      3.399870e+08\n",
              "min      1.578429e+12\n",
              "25%      1.578721e+12\n",
              "50%      1.578984e+12\n",
              "75%      1.579313e+12\n",
              "max      1.579599e+12\n",
              "Name: timestamp, dtype: float64"
            ]
          },
          "metadata": {
            "tags": []
          },
          "execution_count": 10
        }
      ]
    },
    {
      "cell_type": "code",
      "metadata": {
        "id": "HN_3vIEASXnw",
        "colab_type": "code",
        "colab": {}
      },
      "source": [
        "from datetime import datetime\n",
        "def convert_timestamps(timeStamp):\n",
        "  return datetime.fromtimestamp(int(timeStamp) // 1000)"
      ],
      "execution_count": 0,
      "outputs": []
    },
    {
      "cell_type": "code",
      "metadata": {
        "id": "TVEhg15RS7_s",
        "colab_type": "code",
        "outputId": "7a5c1a94-1f59-43f5-93f9-bf006897c6fe",
        "colab": {
          "base_uri": "https://localhost:8080/",
          "height": 35
        }
      },
      "source": [
        "print(convert_timestamps(user_views_stats['min']))"
      ],
      "execution_count": 0,
      "outputs": [
        {
          "output_type": "stream",
          "text": [
            "2020-01-07 20:30:00\n"
          ],
          "name": "stdout"
        }
      ]
    },
    {
      "cell_type": "code",
      "metadata": {
        "id": "NFUZxzSDTHHC",
        "colab_type": "code",
        "outputId": "b4d282f2-f679-4d27-8ef1-bebbffe3b22c",
        "colab": {
          "base_uri": "https://localhost:8080/",
          "height": 35
        }
      },
      "source": [
        "print(convert_timestamps(user_views_stats['max']))"
      ],
      "execution_count": 0,
      "outputs": [
        {
          "output_type": "stream",
          "text": [
            "2020-01-21 09:33:31\n"
          ],
          "name": "stdout"
        }
      ]
    },
    {
      "cell_type": "code",
      "metadata": {
        "id": "ISupLHg1nKMY",
        "colab_type": "code",
        "colab": {}
      },
      "source": [
        "views = pd.DataFrame(event.pivot_table(index=['userId'], aggfunc='size'), columns=['count'])\n",
        "views = pd.DataFrame(views.reset_index().groupby('count')['userId'].count()).reset_index()\n",
        "views.rename(columns={'count': 'No.views', 'userId': 'userCount'}, inplace=True)"
      ],
      "execution_count": 0,
      "outputs": []
    },
    {
      "cell_type": "code",
      "metadata": {
        "id": "ppS0eE4ky1yq",
        "colab_type": "code",
        "outputId": "e33750b2-f675-43f2-b443-c6e4ed853068",
        "colab": {
          "base_uri": "https://localhost:8080/",
          "height": 206
        }
      },
      "source": [
        "views.head()"
      ],
      "execution_count": 0,
      "outputs": [
        {
          "output_type": "execute_result",
          "data": {
            "text/html": [
              "<div>\n",
              "<style scoped>\n",
              "    .dataframe tbody tr th:only-of-type {\n",
              "        vertical-align: middle;\n",
              "    }\n",
              "\n",
              "    .dataframe tbody tr th {\n",
              "        vertical-align: top;\n",
              "    }\n",
              "\n",
              "    .dataframe thead th {\n",
              "        text-align: right;\n",
              "    }\n",
              "</style>\n",
              "<table border=\"1\" class=\"dataframe\">\n",
              "  <thead>\n",
              "    <tr style=\"text-align: right;\">\n",
              "      <th></th>\n",
              "      <th>No.views</th>\n",
              "      <th>userCount</th>\n",
              "    </tr>\n",
              "  </thead>\n",
              "  <tbody>\n",
              "    <tr>\n",
              "      <th>0</th>\n",
              "      <td>1</td>\n",
              "      <td>695721</td>\n",
              "    </tr>\n",
              "    <tr>\n",
              "      <th>1</th>\n",
              "      <td>2</td>\n",
              "      <td>104153</td>\n",
              "    </tr>\n",
              "    <tr>\n",
              "      <th>2</th>\n",
              "      <td>3</td>\n",
              "      <td>26886</td>\n",
              "    </tr>\n",
              "    <tr>\n",
              "      <th>3</th>\n",
              "      <td>4</td>\n",
              "      <td>9270</td>\n",
              "    </tr>\n",
              "    <tr>\n",
              "      <th>4</th>\n",
              "      <td>5</td>\n",
              "      <td>3768</td>\n",
              "    </tr>\n",
              "  </tbody>\n",
              "</table>\n",
              "</div>"
            ],
            "text/plain": [
              "   No.views  userCount\n",
              "0         1     695721\n",
              "1         2     104153\n",
              "2         3      26886\n",
              "3         4       9270\n",
              "4         5       3768"
            ]
          },
          "metadata": {
            "tags": []
          },
          "execution_count": 15
        }
      ]
    },
    {
      "cell_type": "code",
      "metadata": {
        "id": "BMkyIJG00zHY",
        "colab_type": "code",
        "outputId": "42d9f021-2a2f-4d98-c8bb-587b82077df1",
        "colab": {
          "base_uri": "https://localhost:8080/",
          "height": 35
        }
      },
      "source": [
        "distinct_users_count = views['userCount'].sum()\n",
        "distinct_users_count"
      ],
      "execution_count": 0,
      "outputs": [
        {
          "output_type": "execute_result",
          "data": {
            "text/plain": [
              "844374"
            ]
          },
          "metadata": {
            "tags": []
          },
          "execution_count": 16
        }
      ]
    },
    {
      "cell_type": "code",
      "metadata": {
        "id": "osZ7A6sS2mxg",
        "colab_type": "code",
        "outputId": "75bf087a-ad52-47b0-ba6e-3f7758b14dc8",
        "colab": {
          "base_uri": "https://localhost:8080/",
          "height": 286
        }
      },
      "source": [
        "views.head(20).plot.bar(y='userCount')"
      ],
      "execution_count": 0,
      "outputs": [
        {
          "output_type": "execute_result",
          "data": {
            "text/plain": [
              "<matplotlib.axes._subplots.AxesSubplot at 0x7f345f0cb400>"
            ]
          },
          "metadata": {
            "tags": []
          },
          "execution_count": 10
        },
        {
          "output_type": "display_data",
          "data": {
            "image/png": "[encoded data removed]",
            "text/plain": [
              "<Figure size 432x288 with 1 Axes>"
            ]
          },
          "metadata": {
            "tags": []
          }
        }
      ]
    },
    {
      "cell_type": "code",
      "metadata": {
        "id": "0-cieQfwbdOb",
        "colab_type": "code",
        "outputId": "a5b28991-65fa-4a4e-d62e-50ede704fde0",
        "colab": {
          "base_uri": "https://localhost:8080/",
          "height": 283
        }
      },
      "source": [
        "views['CumSum'] = (views['userCount'].cumsum() / distinct_users_count) * 100\n",
        "views.head(20).plot.line(y='CumSum')"
      ],
      "execution_count": 0,
      "outputs": [
        {
          "output_type": "execute_result",
          "data": {
            "text/plain": [
              "<matplotlib.axes._subplots.AxesSubplot at 0x7f345e83ea20>"
            ]
          },
          "metadata": {
            "tags": []
          },
          "execution_count": 11
        },
        {
          "output_type": "display_data",
          "data": {
            "image/png": "[encoded data removed]",
            "text/plain": [
              "<Figure size 432x288 with 1 Axes>"
            ]
          },
          "metadata": {
            "tags": []
          }
        }
      ]
    },
    {
      "cell_type": "code",
      "metadata": {
        "id": "wS9-p_nJcCuO",
        "colab_type": "code",
        "colab": {}
      },
      "source": [
        ""
      ],
      "execution_count": 0,
      "outputs": []
    }
  ]
}